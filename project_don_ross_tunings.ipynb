{
 "cells": [
  {
   "cell_type": "markdown",
   "metadata": {},
   "source": [
    "# project_don_ross"
   ]
  },
  {
   "cell_type": "raw",
   "metadata": {},
   "source": [
    "A small script to to scrape tuning information from Don Ross's guitar tuning archive and export it to Excel"
   ]
  },
  {
   "cell_type": "code",
   "execution_count": 1,
   "metadata": {},
   "outputs": [],
   "source": [
    "import pandas as pd\n",
    "import requests\n",
    "from bs4 import BeautifulSoup"
   ]
  },
  {
   "cell_type": "code",
   "execution_count": 2,
   "metadata": {},
   "outputs": [],
   "source": [
    "# convert html to soup text\n",
    "url = 'https://donrossonline.com/tunings/'\n",
    "r = requests.get(url)\n",
    "soup = BeautifulSoup(r.text, 'html.parser')\n",
    "\n",
    "# parse tunings from soup\n",
    "tunings_soup = soup.find_all('span', attrs={'class': 'music-tune'})\n",
    "tunings_list = [t.contents[0] for t in tunings_soup]\n",
    "\n",
    "# convert to series and clean/remove trash\n",
    "tunings_series = pd.Series(tunings_list)\n",
    "tunings_series = tunings_series.str.extract(r'([ABCDEFG#b]{6,14})', expand=False).dropna(inplace=True)\n",
    "\n",
    "# conver to dataframe and export to excel\n",
    "tunings_df = pd.DataFrame(tunings_series, columns=['tuning'])\n",
    "tunings_df.to_excel('don_ross_tunings.xlsx', index=False)"
   ]
  },
  {
   "cell_type": "code",
   "execution_count": null,
   "metadata": {},
   "outputs": [],
   "source": []
  }
 ],
 "metadata": {
  "kernelspec": {
   "display_name": "Python 3",
   "language": "python",
   "name": "python3"
  },
  "language_info": {
   "codemirror_mode": {
    "name": "ipython",
    "version": 3
   },
   "file_extension": ".py",
   "mimetype": "text/x-python",
   "name": "python",
   "nbconvert_exporter": "python",
   "pygments_lexer": "ipython3",
   "version": "3.7.1"
  }
 },
 "nbformat": 4,
 "nbformat_minor": 2
}
