{
 "cells": [
  {
   "cell_type": "markdown",
   "metadata": {},
   "source": [
    "# project_don_ross"
   ]
  },
  {
   "cell_type": "raw",
   "metadata": {},
   "source": [
    "A small script to quickly summarize information on Don Ross's guitar tuning archive.\n",
    "\n",
    "Goal: Determine the most popular bottom x strings used for all available tunings.\n",
    "\n",
    "Project steps:\n",
    "    - scrap the tunings from tuning archive\n",
    "    - convert series of strings to series of lists with accidentals accounted for i.e DADF#AD -> ['D','A','D','F#','A','D']\n",
    "    - create a function which will return the most popular bottom x strings"
   ]
  },
  {
   "cell_type": "code",
   "execution_count": 1,
   "metadata": {},
   "outputs": [],
   "source": [
    "import pandas as pd\n",
    "import requests\n",
    "from bs4 import BeautifulSoup"
   ]
  },
  {
   "cell_type": "code",
   "execution_count": 2,
   "metadata": {},
   "outputs": [],
   "source": [
    "url = 'https://donrossonline.com/tunings/'"
   ]
  },
  {
   "cell_type": "code",
   "execution_count": 3,
   "metadata": {},
   "outputs": [],
   "source": [
    "r = requests.get(url)"
   ]
  },
  {
   "cell_type": "code",
   "execution_count": 4,
   "metadata": {},
   "outputs": [],
   "source": [
    "soup = BeautifulSoup(r.text, 'html.parser')"
   ]
  },
  {
   "cell_type": "code",
   "execution_count": 5,
   "metadata": {},
   "outputs": [],
   "source": [
    "results = soup.find_all('span', attrs={'class': 'music-tune'})"
   ]
  },
  {
   "cell_type": "code",
   "execution_count": 6,
   "metadata": {},
   "outputs": [
    {
     "data": {
      "text/plain": [
       "0      DADGBD\n",
       "1      DADGCE\n",
       "2      EBDEBE\n",
       "3      AEADEA\n",
       "4    G#EADF#B\n",
       "dtype: object"
      ]
     },
     "execution_count": 6,
     "metadata": {},
     "output_type": "execute_result"
    }
   ],
   "source": [
    "tunings = []\n",
    "\n",
    "for row in results:\n",
    "    tunings.append(row.contents[0])\n",
    "    \n",
    "tunings = pd.Series(tunings)\n",
    "tunings.head()"
   ]
  },
  {
   "cell_type": "code",
   "execution_count": 7,
   "metadata": {},
   "outputs": [
    {
     "data": {
      "text/plain": [
       "0      DADGBD\n",
       "1      DADGCE\n",
       "2      EBDEBE\n",
       "3      AEADEA\n",
       "4    G#EADF#B\n",
       "dtype: object"
      ]
     },
     "execution_count": 7,
     "metadata": {},
     "output_type": "execute_result"
    }
   ],
   "source": [
    "tunings = tunings.str.extract(r'([ABCDEFG#b]{6,14})', expand=False)\n",
    "tunings.dropna(inplace=True)\n",
    "tunings.head()"
   ]
  },
  {
   "cell_type": "code",
   "execution_count": 8,
   "metadata": {},
   "outputs": [],
   "source": [
    "def separate_strings(s):\n",
    "    '''\n",
    "    takes a series (s) of guitar tuning strings\n",
    "    and returns a series of lists (x) showing \n",
    "    individual strings including accidentals (#, b)\n",
    "    '''\n",
    "    strings = list(s)\n",
    "    for i in range(len(strings)):\n",
    "        if strings[i] in list('#b'):\n",
    "            '''\n",
    "            doesn't throw IndexError but can produce\n",
    "            odd results if tuning entered incorrectly\n",
    "            (e.g. accidental before string name)\n",
    "            '''\n",
    "            strings[i-1] = strings[i-1] + strings[i]\n",
    "\n",
    "    x = []\n",
    "    for c in strings:\n",
    "        if c not in list('#b'):\n",
    "            x.append(c)\n",
    "        \n",
    "    return x"
   ]
  },
  {
   "cell_type": "code",
   "execution_count": 9,
   "metadata": {},
   "outputs": [
    {
     "data": {
      "text/plain": [
       "0      [D, A, D, G, B, D]\n",
       "1      [D, A, D, G, C, E]\n",
       "2      [E, B, D, E, B, E]\n",
       "3      [A, E, A, D, E, A]\n",
       "4    [G#, E, A, D, F#, B]\n",
       "dtype: object"
      ]
     },
     "execution_count": 9,
     "metadata": {},
     "output_type": "execute_result"
    }
   ],
   "source": [
    "tunings = tunings.apply(separate_strings)\n",
    "tunings.head()"
   ]
  },
  {
   "cell_type": "code",
   "execution_count": 10,
   "metadata": {},
   "outputs": [],
   "source": [
    "def show_tunings(s, num_strings):\n",
    "    '''\n",
    "    takes a series of lists (s) of guitar tunings\n",
    "    and returns a series of string guitar tunings\n",
    "    based on the number of strings (num_strings) \n",
    "    inputted. nlargest(10) is returned\n",
    "    '''\n",
    "    return s.apply(lambda x: ''.join(x[0:num_strings])).value_counts().nlargest(10)"
   ]
  },
  {
   "cell_type": "code",
   "execution_count": 11,
   "metadata": {},
   "outputs": [
    {
     "data": {
      "text/plain": [
       "DAD     27\n",
       "EAD     22\n",
       "BEA      9\n",
       "CGC      9\n",
       "DAC      7\n",
       "AEA      6\n",
       "FAC      5\n",
       "CGD      5\n",
       "CGEb     4\n",
       "EBD      3\n",
       "dtype: int64"
      ]
     },
     "execution_count": 11,
     "metadata": {},
     "output_type": "execute_result"
    }
   ],
   "source": [
    "# 10 most popular Don Ross tunings - bottom 3 strings \n",
    "show_tunings(tunings, 3)"
   ]
  },
  {
   "cell_type": "code",
   "execution_count": 12,
   "metadata": {},
   "outputs": [
    {
     "data": {
      "text/plain": [
       "DADG     23\n",
       "EADG     21\n",
       "BEAD      9\n",
       "CGCG      6\n",
       "CGDG      5\n",
       "AEAD      4\n",
       "DACF      4\n",
       "CGEbF     4\n",
       "FACF      3\n",
       "CGCF      3\n",
       "dtype: int64"
      ]
     },
     "execution_count": 12,
     "metadata": {},
     "output_type": "execute_result"
    }
   ],
   "source": [
    "# 10 most popular Don Ross tunings - bottom 4 strings\n",
    "show_tunings(tunings, 4)"
   ]
  },
  {
   "cell_type": "code",
   "execution_count": 13,
   "metadata": {},
   "outputs": [
    {
     "data": {
      "text/plain": [
       "EADGB     19\n",
       "DADGB     14\n",
       "BEADF#     7\n",
       "DADGA      6\n",
       "CGDGB      4\n",
       "DACFC      4\n",
       "FACFC      3\n",
       "DACGC      3\n",
       "DADGC      3\n",
       "CGCGC      3\n",
       "dtype: int64"
      ]
     },
     "execution_count": 13,
     "metadata": {},
     "output_type": "execute_result"
    }
   ],
   "source": [
    "# 10 most popular Don Ross tunings - bottom 5 strings\n",
    "show_tunings(tunings, 5)"
   ]
  },
  {
   "cell_type": "code",
   "execution_count": 14,
   "metadata": {},
   "outputs": [
    {
     "data": {
      "text/plain": [
       "EADGBE        19\n",
       "DADGBE        12\n",
       "BEADF#B        7\n",
       "DADGAD         6\n",
       "CGEbFBbD       3\n",
       "BF#C#F#BF#     2\n",
       "CGDGBE         2\n",
       "BEADGB         2\n",
       "DACFCF         2\n",
       "DAEF#AE        2\n",
       "dtype: int64"
      ]
     },
     "execution_count": 14,
     "metadata": {},
     "output_type": "execute_result"
    }
   ],
   "source": [
    "# 10 most popular Don Ross tunings - bottom 6 strings\n",
    "show_tunings(tunings, 6)"
   ]
  }
 ],
 "metadata": {
  "kernelspec": {
   "display_name": "Python 3",
   "language": "python",
   "name": "python3"
  },
  "language_info": {
   "codemirror_mode": {
    "name": "ipython",
    "version": 3
   },
   "file_extension": ".py",
   "mimetype": "text/x-python",
   "name": "python",
   "nbconvert_exporter": "python",
   "pygments_lexer": "ipython3",
   "version": "3.7.1"
  }
 },
 "nbformat": 4,
 "nbformat_minor": 2
}
