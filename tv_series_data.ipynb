{
 "cells": [
  {
   "cell_type": "code",
   "execution_count": 74,
   "metadata": {},
   "outputs": [],
   "source": [
    "import requests\n",
    "import json\n",
    "from bs4 import BeautifulSoup\n",
    "import pandas as pd"
   ]
  },
  {
   "cell_type": "markdown",
   "metadata": {},
   "source": [
    "# Scraping information from the Top 250 Rated TV Shows list (IMDB)"
   ]
  },
  {
   "cell_type": "code",
   "execution_count": 75,
   "metadata": {},
   "outputs": [],
   "source": [
    "url = 'https://www.imdb.com/chart/toptv'\n",
    "r = requests.get(url)\n",
    "soup = BeautifulSoup(r.text, 'html.parser')"
   ]
  },
  {
   "cell_type": "code",
   "execution_count": 76,
   "metadata": {},
   "outputs": [
    {
     "data": {
      "text/plain": [
       "['      1.', '      Planet Earth II', '(2016)']"
      ]
     },
     "execution_count": 76,
     "metadata": {},
     "output_type": "execute_result"
    }
   ],
   "source": [
    "# finding the right data extraction method\n",
    "soup.findAll('tr')[1].findAll('td')[1].getText().split('\\n')[1:4]"
   ]
  },
  {
   "cell_type": "code",
   "execution_count": 77,
   "metadata": {},
   "outputs": [
    {
     "data": {
      "text/plain": [
       "250"
      ]
     },
     "execution_count": 77,
     "metadata": {},
     "output_type": "execute_result"
    }
   ],
   "source": [
    "# making sure we have 250 rows (skipping the header).. this will also help for list comprehensions later\n",
    "num_rows = len(soup.findAll('tr')[1:])\n",
    "num_rows"
   ]
  },
  {
   "cell_type": "code",
   "execution_count": 78,
   "metadata": {},
   "outputs": [
    {
     "data": {
      "text/plain": [
       "[['      1.', '      Planet Earth II', '(2016)'],\n",
       " ['      2.', '      Planet Earth', '(2006)'],\n",
       " ['      3.', '      Band of Brothers', '(2001)'],\n",
       " ['      4.', '      Breaking Bad', '(2008)'],\n",
       " ['      5.', '      Chernobyl', '(2019)']]"
      ]
     },
     "execution_count": 78,
     "metadata": {},
     "output_type": "execute_result"
    }
   ],
   "source": [
    "# retrieving the rank, title and year for the top 250 shows\n",
    "rank_title_year = [soup.findAll('tr')[i+1].findAll('td')[1].getText().split('\\n')[1:4] for i in range(num_rows)]\n",
    "\n",
    "# preview of results\n",
    "rank_title_year[:5]"
   ]
  },
  {
   "cell_type": "code",
   "execution_count": 79,
   "metadata": {},
   "outputs": [],
   "source": [
    "# creating a dataframe from our list of lists\n",
    "df = pd.DataFrame(rank_title_year, columns=['rank', 'title', 'release_year'])"
   ]
  },
  {
   "cell_type": "code",
   "execution_count": 80,
   "metadata": {},
   "outputs": [
    {
     "data": {
      "text/html": [
       "<div>\n",
       "<style scoped>\n",
       "    .dataframe tbody tr th:only-of-type {\n",
       "        vertical-align: middle;\n",
       "    }\n",
       "\n",
       "    .dataframe tbody tr th {\n",
       "        vertical-align: top;\n",
       "    }\n",
       "\n",
       "    .dataframe thead th {\n",
       "        text-align: right;\n",
       "    }\n",
       "</style>\n",
       "<table border=\"1\" class=\"dataframe\">\n",
       "  <thead>\n",
       "    <tr style=\"text-align: right;\">\n",
       "      <th></th>\n",
       "      <th>rank</th>\n",
       "      <th>title</th>\n",
       "      <th>release_year</th>\n",
       "    </tr>\n",
       "  </thead>\n",
       "  <tbody>\n",
       "    <tr>\n",
       "      <th>0</th>\n",
       "      <td>1.</td>\n",
       "      <td>Planet Earth II</td>\n",
       "      <td>(2016)</td>\n",
       "    </tr>\n",
       "    <tr>\n",
       "      <th>1</th>\n",
       "      <td>2.</td>\n",
       "      <td>Planet Earth</td>\n",
       "      <td>(2006)</td>\n",
       "    </tr>\n",
       "    <tr>\n",
       "      <th>2</th>\n",
       "      <td>3.</td>\n",
       "      <td>Band of Brothers</td>\n",
       "      <td>(2001)</td>\n",
       "    </tr>\n",
       "    <tr>\n",
       "      <th>3</th>\n",
       "      <td>4.</td>\n",
       "      <td>Breaking Bad</td>\n",
       "      <td>(2008)</td>\n",
       "    </tr>\n",
       "    <tr>\n",
       "      <th>4</th>\n",
       "      <td>5.</td>\n",
       "      <td>Chernobyl</td>\n",
       "      <td>(2019)</td>\n",
       "    </tr>\n",
       "  </tbody>\n",
       "</table>\n",
       "</div>"
      ],
      "text/plain": [
       "       rank                   title release_year\n",
       "0        1.         Planet Earth II       (2016)\n",
       "1        2.            Planet Earth       (2006)\n",
       "2        3.        Band of Brothers       (2001)\n",
       "3        4.            Breaking Bad       (2008)\n",
       "4        5.               Chernobyl       (2019)"
      ]
     },
     "execution_count": 80,
     "metadata": {},
     "output_type": "execute_result"
    }
   ],
   "source": [
    "df.head()"
   ]
  },
  {
   "cell_type": "code",
   "execution_count": 81,
   "metadata": {},
   "outputs": [],
   "source": [
    "# stripping whitespace and removing '.' character from rank\n",
    "df['rank'] = df['rank'].str.strip().str.replace('.','')\n",
    "\n",
    "# stripping whitespace from title\n",
    "df['title'] = df['title'].str.strip()\n",
    "\n",
    "# stripping whitespace and removing '(' and ')' characters from released_year\n",
    "df['release_year'] = df['release_year'].str.strip().str.replace('(','').str.replace(')','')"
   ]
  },
  {
   "cell_type": "code",
   "execution_count": 82,
   "metadata": {},
   "outputs": [
    {
     "data": {
      "text/plain": [
       "['9.5', '9.4', '9.4', '9.4', '9.4']"
      ]
     },
     "execution_count": 82,
     "metadata": {},
     "output_type": "execute_result"
    }
   ],
   "source": [
    "# retrieving the rating for the top 250 shows\n",
    "rating = [soup.findAll('tr')[i+1].findAll('td')[2].getText().replace('\\n','') for i in range(num_rows)]\n",
    "\n",
    "# preview of results\n",
    "rating[:5]"
   ]
  },
  {
   "cell_type": "code",
   "execution_count": 83,
   "metadata": {},
   "outputs": [],
   "source": [
    "# adding the rating values to our dataframe\n",
    "df['rating'] = rating"
   ]
  },
  {
   "cell_type": "code",
   "execution_count": 89,
   "metadata": {},
   "outputs": [
    {
     "data": {
      "text/html": [
       "<div>\n",
       "<style scoped>\n",
       "    .dataframe tbody tr th:only-of-type {\n",
       "        vertical-align: middle;\n",
       "    }\n",
       "\n",
       "    .dataframe tbody tr th {\n",
       "        vertical-align: top;\n",
       "    }\n",
       "\n",
       "    .dataframe thead th {\n",
       "        text-align: right;\n",
       "    }\n",
       "</style>\n",
       "<table border=\"1\" class=\"dataframe\">\n",
       "  <thead>\n",
       "    <tr style=\"text-align: right;\">\n",
       "      <th></th>\n",
       "      <th>rank</th>\n",
       "      <th>title</th>\n",
       "      <th>release_year</th>\n",
       "      <th>rating</th>\n",
       "    </tr>\n",
       "  </thead>\n",
       "  <tbody>\n",
       "    <tr>\n",
       "      <th>215</th>\n",
       "      <td>216</td>\n",
       "      <td>Luther</td>\n",
       "      <td>2010</td>\n",
       "      <td>8.5</td>\n",
       "    </tr>\n",
       "    <tr>\n",
       "      <th>216</th>\n",
       "      <td>217</td>\n",
       "      <td>Feud</td>\n",
       "      <td>2017</td>\n",
       "      <td>8.5</td>\n",
       "    </tr>\n",
       "    <tr>\n",
       "      <th>217</th>\n",
       "      <td>218</td>\n",
       "      <td>Boku no hîrô akademia</td>\n",
       "      <td>2016</td>\n",
       "      <td>8.4</td>\n",
       "    </tr>\n",
       "    <tr>\n",
       "      <th>218</th>\n",
       "      <td>219</td>\n",
       "      <td>Naruto: Shippûden</td>\n",
       "      <td>2007</td>\n",
       "      <td>8.4</td>\n",
       "    </tr>\n",
       "  </tbody>\n",
       "</table>\n",
       "</div>"
      ],
      "text/plain": [
       "    rank                  title release_year rating\n",
       "215  216                 Luther         2010    8.5\n",
       "216  217                   Feud         2017    8.5\n",
       "217  218  Boku no hîrô akademia         2016    8.4\n",
       "218  219      Naruto: Shippûden         2007    8.4"
      ]
     },
     "execution_count": 89,
     "metadata": {},
     "output_type": "execute_result"
    }
   ],
   "source": [
    "# small sanity check to ensure correct alignments of ratings, rank 218 is the first show with a rating below 8.5 (8.4)\n",
    "df[215:219]"
   ]
  },
  {
   "cell_type": "markdown",
   "metadata": {},
   "source": [
    "# Sub-requests for additional information (from each TV Shows IMDB page)"
   ]
  },
  {
   "cell_type": "code",
   "execution_count": 63,
   "metadata": {
    "scrolled": false
   },
   "outputs": [],
   "source": [
    "# lists which will hold the genre and number of seasons for each show to be added to the dataframe\n",
    "genres = []\n",
    "num_seasons = []\n",
    "\n",
    "for i in range(250):\n",
    "    # creating a new soup object which will parse the HTML of the shows IMDB page\n",
    "    movie_link = soup.findAll('tr')[i+1].findAll('td')[1].findAll('a', href=True)[0]['href']\n",
    "    sub_url = 'https://www.imdb.com' + movie_link\n",
    "    sub_r = requests.get(sub_url)\n",
    "    sub_soup = BeautifulSoup(sub_r.text, 'lxml')\n",
    "    \n",
    "    show_genres = []\n",
    "    # each genre can be located in the getText() property of the 'a' tags in this div, excluding the last one\n",
    "    genre_list = sub_soup.find('div', {'class': 'title_wrapper'}).findAll('a', href=True)[:-1]\n",
    "    for genre in genre_list:\n",
    "        show_genres.append(genre.getText())\n",
    "    genres.append(show_genres)\n",
    "    \n",
    "    # the latest (or final) season number can be located in the getText() property of the first 'a' tag in this div\n",
    "    seasons = sub_soup.find('div', {'class': 'seasons-and-year-nav'}).findAll('a')[0].getText()\n",
    "    num_seasons.append(seasons)"
   ]
  },
  {
   "cell_type": "code",
   "execution_count": 65,
   "metadata": {},
   "outputs": [
    {
     "data": {
      "text/plain": [
       "250"
      ]
     },
     "execution_count": 65,
     "metadata": {},
     "output_type": "execute_result"
    }
   ],
   "source": [
    "# checking that we have 250 items in the genres list\n",
    "len(genres)"
   ]
  },
  {
   "cell_type": "code",
   "execution_count": 66,
   "metadata": {},
   "outputs": [
    {
     "data": {
      "text/plain": [
       "250"
      ]
     },
     "execution_count": 66,
     "metadata": {},
     "output_type": "execute_result"
    }
   ],
   "source": [
    "# checking that we have 250 items in the num_seasons list\n",
    "len(num_seasons)"
   ]
  },
  {
   "cell_type": "raw",
   "metadata": {},
   "source": [
    "Below is a quick sanity-check on the last 5 rows of the IMDB top 250 to ensure correction of data:\n",
    "\n",
    "246, The Angry Video Game Nerd, 14 Seasons, Comedy/Talk-Show\n",
    "247, Jesus of Nazarath, 1 Season, Biography/Drama/History \n",
    "248, Happy Valley, 3 Seasons, Crime/Drama\n",
    "249, Brideshead Revisited, 1 Season, Drama/Romance\n",
    "250, House of Cards, 1 Season, Drama\n",
    "\n",
    "Everything checks out!"
   ]
  },
  {
   "cell_type": "code",
   "execution_count": 68,
   "metadata": {},
   "outputs": [
    {
     "data": {
      "text/plain": [
       "['14', '1', '3', '1', '1']"
      ]
     },
     "execution_count": 68,
     "metadata": {},
     "output_type": "execute_result"
    }
   ],
   "source": [
    "num_seasons[-5:]"
   ]
  },
  {
   "cell_type": "code",
   "execution_count": 90,
   "metadata": {},
   "outputs": [
    {
     "data": {
      "text/plain": [
       "[['Comedy', 'Talk-Show'],\n",
       " ['Biography', 'Drama', 'History'],\n",
       " ['Crime', 'Drama'],\n",
       " ['Drama', 'Romance'],\n",
       " ['Drama']]"
      ]
     },
     "execution_count": 90,
     "metadata": {},
     "output_type": "execute_result"
    }
   ],
   "source": [
    "genres[-5:]"
   ]
  },
  {
   "cell_type": "code",
   "execution_count": 91,
   "metadata": {},
   "outputs": [],
   "source": [
    "df['genre'] = genres\n",
    "df['num_seasons'] = num_seasons"
   ]
  },
  {
   "cell_type": "markdown",
   "metadata": {},
   "source": [
    "# Cleaning the dataframe now that all information has been added"
   ]
  },
  {
   "cell_type": "code",
   "execution_count": 117,
   "metadata": {},
   "outputs": [
    {
     "data": {
      "text/html": [
       "<div>\n",
       "<style scoped>\n",
       "    .dataframe tbody tr th:only-of-type {\n",
       "        vertical-align: middle;\n",
       "    }\n",
       "\n",
       "    .dataframe tbody tr th {\n",
       "        vertical-align: top;\n",
       "    }\n",
       "\n",
       "    .dataframe thead th {\n",
       "        text-align: right;\n",
       "    }\n",
       "</style>\n",
       "<table border=\"1\" class=\"dataframe\">\n",
       "  <thead>\n",
       "    <tr style=\"text-align: right;\">\n",
       "      <th></th>\n",
       "      <th>rank</th>\n",
       "      <th>title</th>\n",
       "      <th>release_year</th>\n",
       "      <th>rating</th>\n",
       "      <th>genre</th>\n",
       "      <th>num_seasons</th>\n",
       "    </tr>\n",
       "  </thead>\n",
       "  <tbody>\n",
       "    <tr>\n",
       "      <th>0</th>\n",
       "      <td>1</td>\n",
       "      <td>Planet Earth II</td>\n",
       "      <td>2016</td>\n",
       "      <td>9.5</td>\n",
       "      <td>[Documentary]</td>\n",
       "      <td>1</td>\n",
       "    </tr>\n",
       "    <tr>\n",
       "      <th>1</th>\n",
       "      <td>2</td>\n",
       "      <td>Planet Earth</td>\n",
       "      <td>2006</td>\n",
       "      <td>9.4</td>\n",
       "      <td>[Documentary]</td>\n",
       "      <td>1</td>\n",
       "    </tr>\n",
       "    <tr>\n",
       "      <th>2</th>\n",
       "      <td>3</td>\n",
       "      <td>Band of Brothers</td>\n",
       "      <td>2001</td>\n",
       "      <td>9.4</td>\n",
       "      <td>[Action, Drama, History]</td>\n",
       "      <td>1</td>\n",
       "    </tr>\n",
       "    <tr>\n",
       "      <th>3</th>\n",
       "      <td>4</td>\n",
       "      <td>Breaking Bad</td>\n",
       "      <td>2008</td>\n",
       "      <td>9.4</td>\n",
       "      <td>[Crime, Drama, Thriller]</td>\n",
       "      <td>5</td>\n",
       "    </tr>\n",
       "    <tr>\n",
       "      <th>4</th>\n",
       "      <td>5</td>\n",
       "      <td>Chernobyl</td>\n",
       "      <td>2019</td>\n",
       "      <td>9.4</td>\n",
       "      <td>[Drama, History, Thriller]</td>\n",
       "      <td>1</td>\n",
       "    </tr>\n",
       "  </tbody>\n",
       "</table>\n",
       "</div>"
      ],
      "text/plain": [
       "  rank             title release_year rating                       genre  \\\n",
       "0    1   Planet Earth II         2016    9.5               [Documentary]   \n",
       "1    2      Planet Earth         2006    9.4               [Documentary]   \n",
       "2    3  Band of Brothers         2001    9.4    [Action, Drama, History]   \n",
       "3    4      Breaking Bad         2008    9.4    [Crime, Drama, Thriller]   \n",
       "4    5         Chernobyl         2019    9.4  [Drama, History, Thriller]   \n",
       "\n",
       "  num_seasons  \n",
       "0           1  \n",
       "1           1  \n",
       "2           1  \n",
       "3           5  \n",
       "4           1  "
      ]
     },
     "execution_count": 117,
     "metadata": {},
     "output_type": "execute_result"
    }
   ],
   "source": [
    "# checking the first 5 rows\n",
    "df.head()"
   ]
  },
  {
   "cell_type": "code",
   "execution_count": 118,
   "metadata": {},
   "outputs": [
    {
     "data": {
      "text/html": [
       "<div>\n",
       "<style scoped>\n",
       "    .dataframe tbody tr th:only-of-type {\n",
       "        vertical-align: middle;\n",
       "    }\n",
       "\n",
       "    .dataframe tbody tr th {\n",
       "        vertical-align: top;\n",
       "    }\n",
       "\n",
       "    .dataframe thead th {\n",
       "        text-align: right;\n",
       "    }\n",
       "</style>\n",
       "<table border=\"1\" class=\"dataframe\">\n",
       "  <thead>\n",
       "    <tr style=\"text-align: right;\">\n",
       "      <th></th>\n",
       "      <th>rank</th>\n",
       "      <th>title</th>\n",
       "      <th>release_year</th>\n",
       "      <th>rating</th>\n",
       "      <th>genre</th>\n",
       "      <th>num_seasons</th>\n",
       "    </tr>\n",
       "  </thead>\n",
       "  <tbody>\n",
       "    <tr>\n",
       "      <th>245</th>\n",
       "      <td>246</td>\n",
       "      <td>The Angry Video Game Nerd</td>\n",
       "      <td>2004</td>\n",
       "      <td>8.4</td>\n",
       "      <td>[Comedy, Talk-Show]</td>\n",
       "      <td>14</td>\n",
       "    </tr>\n",
       "    <tr>\n",
       "      <th>246</th>\n",
       "      <td>247</td>\n",
       "      <td>Jesus of Nazareth</td>\n",
       "      <td>1977</td>\n",
       "      <td>8.4</td>\n",
       "      <td>[Biography, Drama, History]</td>\n",
       "      <td>1</td>\n",
       "    </tr>\n",
       "    <tr>\n",
       "      <th>247</th>\n",
       "      <td>248</td>\n",
       "      <td>Happy Valley</td>\n",
       "      <td>2014</td>\n",
       "      <td>8.4</td>\n",
       "      <td>[Crime, Drama]</td>\n",
       "      <td>3</td>\n",
       "    </tr>\n",
       "    <tr>\n",
       "      <th>248</th>\n",
       "      <td>249</td>\n",
       "      <td>Brideshead Revisited</td>\n",
       "      <td>1981</td>\n",
       "      <td>8.4</td>\n",
       "      <td>[Drama, Romance]</td>\n",
       "      <td>1</td>\n",
       "    </tr>\n",
       "    <tr>\n",
       "      <th>249</th>\n",
       "      <td>250</td>\n",
       "      <td>House of Cards</td>\n",
       "      <td>1990</td>\n",
       "      <td>8.4</td>\n",
       "      <td>[Drama]</td>\n",
       "      <td>1</td>\n",
       "    </tr>\n",
       "  </tbody>\n",
       "</table>\n",
       "</div>"
      ],
      "text/plain": [
       "    rank                      title release_year rating  \\\n",
       "245  246  The Angry Video Game Nerd         2004    8.4   \n",
       "246  247          Jesus of Nazareth         1977    8.4   \n",
       "247  248               Happy Valley         2014    8.4   \n",
       "248  249       Brideshead Revisited         1981    8.4   \n",
       "249  250             House of Cards         1990    8.4   \n",
       "\n",
       "                           genre num_seasons  \n",
       "245          [Comedy, Talk-Show]          14  \n",
       "246  [Biography, Drama, History]           1  \n",
       "247               [Crime, Drama]           3  \n",
       "248             [Drama, Romance]           1  \n",
       "249                      [Drama]           1  "
      ]
     },
     "execution_count": 118,
     "metadata": {},
     "output_type": "execute_result"
    }
   ],
   "source": [
    "# checking the last 5 rows, everything seems right\n",
    "df.tail()"
   ]
  },
  {
   "cell_type": "code",
   "execution_count": 126,
   "metadata": {},
   "outputs": [],
   "source": [
    "# casting the rank, release_year, rating and num_seasons columns as numeric values for aggregation purposes\n",
    "df['rank'] = df['rank'].astype(int)\n",
    "df['release_year'] = df['release_year'].astype(int)\n",
    "df['rating'] = df['rating'].astype(float)\n",
    "df['num_seasons'] = df['num_seasons'].astype(int)"
   ]
  },
  {
   "cell_type": "code",
   "execution_count": 127,
   "metadata": {},
   "outputs": [],
   "source": [
    "# setting the index of the dataframe to be the rank, this is going to make it look way better!\n",
    "df.set_index('rank', drop=True, inplace=True)"
   ]
  },
  {
   "cell_type": "code",
   "execution_count": 130,
   "metadata": {},
   "outputs": [
    {
     "data": {
      "text/html": [
       "<div>\n",
       "<style scoped>\n",
       "    .dataframe tbody tr th:only-of-type {\n",
       "        vertical-align: middle;\n",
       "    }\n",
       "\n",
       "    .dataframe tbody tr th {\n",
       "        vertical-align: top;\n",
       "    }\n",
       "\n",
       "    .dataframe thead th {\n",
       "        text-align: right;\n",
       "    }\n",
       "</style>\n",
       "<table border=\"1\" class=\"dataframe\">\n",
       "  <thead>\n",
       "    <tr style=\"text-align: right;\">\n",
       "      <th></th>\n",
       "      <th>title</th>\n",
       "      <th>release_year</th>\n",
       "      <th>rating</th>\n",
       "      <th>genre</th>\n",
       "      <th>num_seasons</th>\n",
       "    </tr>\n",
       "    <tr>\n",
       "      <th>rank</th>\n",
       "      <th></th>\n",
       "      <th></th>\n",
       "      <th></th>\n",
       "      <th></th>\n",
       "      <th></th>\n",
       "    </tr>\n",
       "  </thead>\n",
       "  <tbody>\n",
       "    <tr>\n",
       "      <th>1</th>\n",
       "      <td>Planet Earth II</td>\n",
       "      <td>2016</td>\n",
       "      <td>9.5</td>\n",
       "      <td>[Documentary]</td>\n",
       "      <td>1</td>\n",
       "    </tr>\n",
       "    <tr>\n",
       "      <th>2</th>\n",
       "      <td>Planet Earth</td>\n",
       "      <td>2006</td>\n",
       "      <td>9.4</td>\n",
       "      <td>[Documentary]</td>\n",
       "      <td>1</td>\n",
       "    </tr>\n",
       "    <tr>\n",
       "      <th>3</th>\n",
       "      <td>Band of Brothers</td>\n",
       "      <td>2001</td>\n",
       "      <td>9.4</td>\n",
       "      <td>[Action, Drama, History]</td>\n",
       "      <td>1</td>\n",
       "    </tr>\n",
       "    <tr>\n",
       "      <th>4</th>\n",
       "      <td>Breaking Bad</td>\n",
       "      <td>2008</td>\n",
       "      <td>9.4</td>\n",
       "      <td>[Crime, Drama, Thriller]</td>\n",
       "      <td>5</td>\n",
       "    </tr>\n",
       "    <tr>\n",
       "      <th>5</th>\n",
       "      <td>Chernobyl</td>\n",
       "      <td>2019</td>\n",
       "      <td>9.4</td>\n",
       "      <td>[Drama, History, Thriller]</td>\n",
       "      <td>1</td>\n",
       "    </tr>\n",
       "  </tbody>\n",
       "</table>\n",
       "</div>"
      ],
      "text/plain": [
       "                 title  release_year  rating                       genre  \\\n",
       "rank                                                                       \n",
       "1      Planet Earth II          2016     9.5               [Documentary]   \n",
       "2         Planet Earth          2006     9.4               [Documentary]   \n",
       "3     Band of Brothers          2001     9.4    [Action, Drama, History]   \n",
       "4         Breaking Bad          2008     9.4    [Crime, Drama, Thriller]   \n",
       "5            Chernobyl          2019     9.4  [Drama, History, Thriller]   \n",
       "\n",
       "      num_seasons  \n",
       "rank               \n",
       "1               1  \n",
       "2               1  \n",
       "3               1  \n",
       "4               5  \n",
       "5               1  "
      ]
     },
     "execution_count": 130,
     "metadata": {},
     "output_type": "execute_result"
    }
   ],
   "source": [
    "# previewing the results\n",
    "df.head()"
   ]
  },
  {
   "cell_type": "markdown",
   "metadata": {},
   "source": [
    "### Cleaning up the genre column "
   ]
  },
  {
   "cell_type": "code",
   "execution_count": 131,
   "metadata": {},
   "outputs": [],
   "source": [
    "# changing the genre column to string type so we can use the .str methods and do some manipulations on it\n",
    "df['genre'] = df['genre'].astype(str)"
   ]
  },
  {
   "cell_type": "code",
   "execution_count": 250,
   "metadata": {},
   "outputs": [],
   "source": [
    "# categorizing all animated shows as 'Animation'\n",
    "df.loc[df.genre.str.contains('Animation'), 'genre'] = 'Animation'\n",
    "\n",
    "# categorizing all documentaries as 'Documentary'\n",
    "df.loc[df.genre.str.contains('Documentary'), 'genre'] = 'Documentary'\n",
    "\n",
    "# categorizing all the talk-shows as 'Talk-Show'\n",
    "df.loc[df.genre.str.contains('Talk-Show'), 'genre'] = 'Talk-Show'\n",
    "\n",
    "# categorizing all the historical as 'History'\n",
    "df.loc[df.genre.str.contains('History'), 'genre'] = 'History'\n",
    "df.loc[df.title == 'Das Boot', 'genre'] = 'History'\n",
    "\n",
    "# omitting The Handmaid's tale from the sci-fi group and categorizing the rest as 'Sci-Fi'\n",
    "df.loc[df.title == 'The Handmaid\\'s Tale', 'genre'] = 'Drama'\n",
    "df.loc[df.genre.str.contains('Sci-Fi'), 'genre'] = 'Sci-Fi'\n",
    "df.loc[df.title.str.contains('Battlestar'), 'genre'] = 'Sci-Fi'\n",
    "df.loc[df.title.str.contains('Star Trek'), 'genre'] = 'Sci-Fi'\n",
    "\n",
    "# omitting a few shows from the Crime Drama group and categorizing the rest as Crime Drama\n",
    "df.loc[df.title == 'The Boys', 'genre'] = 'Action'\n",
    "df.loc[df.title == 'Daredevil', 'genre'] = 'Action'\n",
    "df.loc[df.title == 'The Punisher', 'genre'] = 'Action'\n",
    "df.loc[df.title == 'Hannibal', 'genre'] = 'Horror'\n",
    "df.loc[df.title.str.contains('Spartacus'), 'genre'] = 'Action'\n",
    "df.loc[df.genre.str.contains('Crime'), 'genre'] = 'Crime Drama'\n",
    "df.loc[df.title.str.contains('Aranyélet'), 'genre'] = 'Crime Drama'\n",
    "\n",
    "# categorizing all comedies as 'Comedy'\n",
    "df.loc[df.genre.str.contains('Comedy'), 'genre'] = 'Comedy'\n",
    "\n",
    "# categorizing all shows with only the drama tag as 'Drama'\n",
    "df.loc[df.genre == \"['Drama']\", 'genre'] = 'Drama'\n",
    "\n",
    "# categorizing the haunting of hill house as Horror\n",
    "df.loc[df.title == 'The Haunting of Hill House', 'genre'] = 'Horror'\n",
    "\n",
    "# categorizing Mr. Rogers Neighborhood as a Family show\n",
    "df.loc[df.title == \"MisteRogers' Neighborhood\", 'genre'] = 'Family'\n",
    "df.loc[df.title == \"MisteRogers' Neighborhood\", 'title'] = 'Mr. Rogers Neighborhood'\n",
    "\n",
    "# categorizing Queery Eye as a Reality-TV show\n",
    "df.loc[df.title.str.contains('Queer'), 'genre'] = 'Reality-TV'\n",
    "\n",
    "# categorizing the remaining shows as Drama, which is a tag that they all include\n",
    "df.loc[df.genre.str.contains('\\['), 'genre'] = 'Drama'"
   ]
  },
  {
   "cell_type": "code",
   "execution_count": 251,
   "metadata": {},
   "outputs": [
    {
     "data": {
      "text/plain": [
       "Comedy         55\n",
       "Animation      52\n",
       "Crime Drama    51\n",
       "Drama          29\n",
       "Documentary    27\n",
       "History        12\n",
       "Sci-Fi          9\n",
       "Talk-Show       6\n",
       "Action          5\n",
       "Horror          2\n",
       "Family          1\n",
       "Reality-TV      1\n",
       "Name: genre, dtype: int64"
      ]
     },
     "execution_count": 251,
     "metadata": {},
     "output_type": "execute_result"
    }
   ],
   "source": [
    "df.genre.value_counts()"
   ]
  },
  {
   "cell_type": "markdown",
   "metadata": {},
   "source": [
    "# Outputting the final dataframe to excel "
   ]
  },
  {
   "cell_type": "code",
   "execution_count": 258,
   "metadata": {
    "scrolled": false
   },
   "outputs": [
    {
     "data": {
      "text/html": [
       "<div>\n",
       "<style scoped>\n",
       "    .dataframe tbody tr th:only-of-type {\n",
       "        vertical-align: middle;\n",
       "    }\n",
       "\n",
       "    .dataframe tbody tr th {\n",
       "        vertical-align: top;\n",
       "    }\n",
       "\n",
       "    .dataframe thead th {\n",
       "        text-align: right;\n",
       "    }\n",
       "</style>\n",
       "<table border=\"1\" class=\"dataframe\">\n",
       "  <thead>\n",
       "    <tr style=\"text-align: right;\">\n",
       "      <th></th>\n",
       "      <th>title</th>\n",
       "      <th>release_year</th>\n",
       "      <th>rating</th>\n",
       "      <th>genre</th>\n",
       "      <th>num_seasons</th>\n",
       "    </tr>\n",
       "    <tr>\n",
       "      <th>rank</th>\n",
       "      <th></th>\n",
       "      <th></th>\n",
       "      <th></th>\n",
       "      <th></th>\n",
       "      <th></th>\n",
       "    </tr>\n",
       "  </thead>\n",
       "  <tbody>\n",
       "    <tr>\n",
       "      <th>1</th>\n",
       "      <td>Planet Earth II</td>\n",
       "      <td>2016</td>\n",
       "      <td>9.5</td>\n",
       "      <td>Documentary</td>\n",
       "      <td>1</td>\n",
       "    </tr>\n",
       "    <tr>\n",
       "      <th>2</th>\n",
       "      <td>Planet Earth</td>\n",
       "      <td>2006</td>\n",
       "      <td>9.4</td>\n",
       "      <td>Documentary</td>\n",
       "      <td>1</td>\n",
       "    </tr>\n",
       "    <tr>\n",
       "      <th>3</th>\n",
       "      <td>Band of Brothers</td>\n",
       "      <td>2001</td>\n",
       "      <td>9.4</td>\n",
       "      <td>History</td>\n",
       "      <td>1</td>\n",
       "    </tr>\n",
       "    <tr>\n",
       "      <th>4</th>\n",
       "      <td>Breaking Bad</td>\n",
       "      <td>2008</td>\n",
       "      <td>9.4</td>\n",
       "      <td>Crime Drama</td>\n",
       "      <td>5</td>\n",
       "    </tr>\n",
       "    <tr>\n",
       "      <th>5</th>\n",
       "      <td>Chernobyl</td>\n",
       "      <td>2019</td>\n",
       "      <td>9.4</td>\n",
       "      <td>History</td>\n",
       "      <td>1</td>\n",
       "    </tr>\n",
       "    <tr>\n",
       "      <th>6</th>\n",
       "      <td>Blue Planet II</td>\n",
       "      <td>2017</td>\n",
       "      <td>9.3</td>\n",
       "      <td>Documentary</td>\n",
       "      <td>1</td>\n",
       "    </tr>\n",
       "    <tr>\n",
       "      <th>7</th>\n",
       "      <td>The Wire</td>\n",
       "      <td>2002</td>\n",
       "      <td>9.3</td>\n",
       "      <td>Crime Drama</td>\n",
       "      <td>5</td>\n",
       "    </tr>\n",
       "    <tr>\n",
       "      <th>8</th>\n",
       "      <td>Game of Thrones</td>\n",
       "      <td>2011</td>\n",
       "      <td>9.3</td>\n",
       "      <td>Drama</td>\n",
       "      <td>8</td>\n",
       "    </tr>\n",
       "    <tr>\n",
       "      <th>9</th>\n",
       "      <td>Our Planet</td>\n",
       "      <td>2019</td>\n",
       "      <td>9.3</td>\n",
       "      <td>Documentary</td>\n",
       "      <td>1</td>\n",
       "    </tr>\n",
       "    <tr>\n",
       "      <th>10</th>\n",
       "      <td>Cosmos</td>\n",
       "      <td>2014</td>\n",
       "      <td>9.2</td>\n",
       "      <td>Documentary</td>\n",
       "      <td>1</td>\n",
       "    </tr>\n",
       "    <tr>\n",
       "      <th>11</th>\n",
       "      <td>Cosmos</td>\n",
       "      <td>1980</td>\n",
       "      <td>9.2</td>\n",
       "      <td>Documentary</td>\n",
       "      <td>1</td>\n",
       "    </tr>\n",
       "    <tr>\n",
       "      <th>12</th>\n",
       "      <td>Rick and Morty</td>\n",
       "      <td>2013</td>\n",
       "      <td>9.2</td>\n",
       "      <td>Animation</td>\n",
       "      <td>4</td>\n",
       "    </tr>\n",
       "    <tr>\n",
       "      <th>13</th>\n",
       "      <td>Avatar: The Last Airbender</td>\n",
       "      <td>2005</td>\n",
       "      <td>9.2</td>\n",
       "      <td>Animation</td>\n",
       "      <td>3</td>\n",
       "    </tr>\n",
       "    <tr>\n",
       "      <th>14</th>\n",
       "      <td>The Sopranos</td>\n",
       "      <td>1999</td>\n",
       "      <td>9.2</td>\n",
       "      <td>Crime Drama</td>\n",
       "      <td>6</td>\n",
       "    </tr>\n",
       "    <tr>\n",
       "      <th>15</th>\n",
       "      <td>The World at War</td>\n",
       "      <td>1973</td>\n",
       "      <td>9.1</td>\n",
       "      <td>Documentary</td>\n",
       "      <td>1</td>\n",
       "    </tr>\n",
       "  </tbody>\n",
       "</table>\n",
       "</div>"
      ],
      "text/plain": [
       "                           title  release_year  rating        genre  \\\n",
       "rank                                                                  \n",
       "1                Planet Earth II          2016     9.5  Documentary   \n",
       "2                   Planet Earth          2006     9.4  Documentary   \n",
       "3               Band of Brothers          2001     9.4      History   \n",
       "4                   Breaking Bad          2008     9.4  Crime Drama   \n",
       "5                      Chernobyl          2019     9.4      History   \n",
       "6                 Blue Planet II          2017     9.3  Documentary   \n",
       "7                       The Wire          2002     9.3  Crime Drama   \n",
       "8                Game of Thrones          2011     9.3        Drama   \n",
       "9                     Our Planet          2019     9.3  Documentary   \n",
       "10                        Cosmos          2014     9.2  Documentary   \n",
       "11                        Cosmos          1980     9.2  Documentary   \n",
       "12                Rick and Morty          2013     9.2    Animation   \n",
       "13    Avatar: The Last Airbender          2005     9.2    Animation   \n",
       "14                  The Sopranos          1999     9.2  Crime Drama   \n",
       "15              The World at War          1973     9.1  Documentary   \n",
       "\n",
       "      num_seasons  \n",
       "rank               \n",
       "1               1  \n",
       "2               1  \n",
       "3               1  \n",
       "4               5  \n",
       "5               1  \n",
       "6               1  \n",
       "7               5  \n",
       "8               8  \n",
       "9               1  \n",
       "10              1  \n",
       "11              1  \n",
       "12              4  \n",
       "13              3  \n",
       "14              6  \n",
       "15              1  "
      ]
     },
     "execution_count": 258,
     "metadata": {},
     "output_type": "execute_result"
    }
   ],
   "source": [
    "df.head(15)"
   ]
  },
  {
   "cell_type": "code",
   "execution_count": 253,
   "metadata": {},
   "outputs": [],
   "source": [
    "df.to_excel('imdb_top_250_tv.xlsx', sheet_name='top_250')"
   ]
  }
 ],
 "metadata": {
  "kernelspec": {
   "display_name": "Python 3",
   "language": "python",
   "name": "python3"
  },
  "language_info": {
   "codemirror_mode": {
    "name": "ipython",
    "version": 3
   },
   "file_extension": ".py",
   "mimetype": "text/x-python",
   "name": "python",
   "nbconvert_exporter": "python",
   "pygments_lexer": "ipython3",
   "version": "3.7.1"
  }
 },
 "nbformat": 4,
 "nbformat_minor": 2
}
