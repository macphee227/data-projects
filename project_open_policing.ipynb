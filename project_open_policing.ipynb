{
 "cells": [
  {
   "cell_type": "markdown",
   "metadata": {},
   "source": [
    "# Data Cleaning and Analysis: The Stanford Open Policing Project"
   ]
  },
  {
   "cell_type": "raw",
   "metadata": {},
   "source": [
    "https://openpolicing.stanford.edu/\n",
    "\n",
    "Taken from the websites front page: \n",
    "\n",
    "\"On a typical day in the United States, police officers make more than 50,000 traffic stops. Our team is gathering, analyzing, and releasing records from millions of traffic stops by law enforcement agencies across the country. Our goal is to help researchers, journalists, and policymakers investigate and improve interactions between police and the public.\"\n",
    "\n",
    "---------------------------------\n",
    "\n",
    "The following dataset (mt_statewide_2019_08_13.csv) can be found on the Stanford Open Policing Project's website. It contains 825,118 traffic stops made by the Montana State Patrol (MHP) from December 2008 to December 2016. \n",
    "\n",
    "In this project I'll first clean this dataset and prepare it for analysis/aggregation. I'll then analyze it by answering some interesting questions which can be found in the Data Analysis and Visualization Section (see the table of contents below)."
   ]
  },
  {
   "cell_type": "markdown",
   "metadata": {},
   "source": [
    "## Data Exploration and Cleaning\n",
    " - [Exploring the Dataset](#section1)<br>\n",
    " - [Removing Columns](#section2)<br>\n",
    " - [Handling Missing Values](#section3)<br>\n",
    " - [Column Cleaning](#section4)<br>\n",
    " - [Reordering and Renaming Columns](#section5)<br>\n",
    " - [The Cleaned Dataset](#section6)<br>\n",
    "\n",
    "## Data Analysis and Visualization\n",
    " - [Data Analysis: Stop Frequency](#section7)<br>\n",
    " - [Data Analysis: Speed Related Stops](#section8)<br>\n",
    " - [Data Analysis: Outcome Bias](#section9)<br>\n",
    " - [Data Analysis: DUI Stops](#section10)"
   ]
  },
  {
   "cell_type": "markdown",
   "metadata": {},
   "source": [
    "<a id='section1'></a>\n",
    "### Exploring the Dataset"
   ]
  },
  {
   "cell_type": "code",
   "execution_count": 1,
   "metadata": {},
   "outputs": [],
   "source": [
    "import pandas as pd\n",
    "import matplotlib.pyplot as plt\n",
    "%matplotlib inline"
   ]
  },
  {
   "cell_type": "code",
   "execution_count": 2,
   "metadata": {},
   "outputs": [],
   "source": [
    "mt = pd.read_csv('mt_statewide_2019_08_13.csv', low_memory=False)"
   ]
  },
  {
   "cell_type": "code",
   "execution_count": 3,
   "metadata": {},
   "outputs": [
    {
     "data": {
      "text/html": [
       "<div>\n",
       "<style scoped>\n",
       "    .dataframe tbody tr th:only-of-type {\n",
       "        vertical-align: middle;\n",
       "    }\n",
       "\n",
       "    .dataframe tbody tr th {\n",
       "        vertical-align: top;\n",
       "    }\n",
       "\n",
       "    .dataframe thead th {\n",
       "        text-align: right;\n",
       "    }\n",
       "</style>\n",
       "<table border=\"1\" class=\"dataframe\">\n",
       "  <thead>\n",
       "    <tr style=\"text-align: right;\">\n",
       "      <th></th>\n",
       "      <th>raw_row_number</th>\n",
       "      <th>date</th>\n",
       "      <th>time</th>\n",
       "      <th>location</th>\n",
       "      <th>lat</th>\n",
       "      <th>lng</th>\n",
       "      <th>county_name</th>\n",
       "      <th>subject_age</th>\n",
       "      <th>subject_race</th>\n",
       "      <th>subject_sex</th>\n",
       "      <th>...</th>\n",
       "      <th>search_basis</th>\n",
       "      <th>reason_for_stop</th>\n",
       "      <th>vehicle_make</th>\n",
       "      <th>vehicle_model</th>\n",
       "      <th>vehicle_type</th>\n",
       "      <th>vehicle_registration_state</th>\n",
       "      <th>vehicle_year</th>\n",
       "      <th>raw_Race</th>\n",
       "      <th>raw_Ethnicity</th>\n",
       "      <th>raw_SearchType</th>\n",
       "    </tr>\n",
       "  </thead>\n",
       "  <tbody>\n",
       "    <tr>\n",
       "      <th>0</th>\n",
       "      <td>1</td>\n",
       "      <td>2009-01-01</td>\n",
       "      <td>02:10:53</td>\n",
       "      <td>US 89 N MM10 (SB)</td>\n",
       "      <td>47.572738</td>\n",
       "      <td>-111.802932</td>\n",
       "      <td>Cascade County</td>\n",
       "      <td>16.0</td>\n",
       "      <td>white</td>\n",
       "      <td>female</td>\n",
       "      <td>...</td>\n",
       "      <td>NaN</td>\n",
       "      <td>--- - HIT AND RUN</td>\n",
       "      <td>FORD</td>\n",
       "      <td>EXPLORER</td>\n",
       "      <td>SPORT UTILITY</td>\n",
       "      <td>MT</td>\n",
       "      <td>1994.0</td>\n",
       "      <td>W</td>\n",
       "      <td>N</td>\n",
       "      <td>NO SEARCH REQUESTED</td>\n",
       "    </tr>\n",
       "    <tr>\n",
       "      <th>1</th>\n",
       "      <td>2</td>\n",
       "      <td>2009-01-02</td>\n",
       "      <td>11:34:19</td>\n",
       "      <td>HWY 93 SO AND ANNS LANE S/B</td>\n",
       "      <td>46.761225</td>\n",
       "      <td>-114.081142</td>\n",
       "      <td>Missoula County</td>\n",
       "      <td>19.0</td>\n",
       "      <td>white</td>\n",
       "      <td>male</td>\n",
       "      <td>...</td>\n",
       "      <td>NaN</td>\n",
       "      <td>EXPIRED TAG ( - MONTHS OR LESS )</td>\n",
       "      <td>GMC</td>\n",
       "      <td>TK</td>\n",
       "      <td>TRUCK</td>\n",
       "      <td>MT</td>\n",
       "      <td>1996.0</td>\n",
       "      <td>W</td>\n",
       "      <td>N</td>\n",
       "      <td>NO SEARCH REQUESTED</td>\n",
       "    </tr>\n",
       "    <tr>\n",
       "      <th>2</th>\n",
       "      <td>3</td>\n",
       "      <td>2009-01-03</td>\n",
       "      <td>11:36:42</td>\n",
       "      <td>P007 HWY 93 MM 77 N/B</td>\n",
       "      <td>46.694683</td>\n",
       "      <td>-114.073505</td>\n",
       "      <td>Missoula County</td>\n",
       "      <td>17.0</td>\n",
       "      <td>white</td>\n",
       "      <td>male</td>\n",
       "      <td>...</td>\n",
       "      <td>NaN</td>\n",
       "      <td>SPEED</td>\n",
       "      <td>GMC</td>\n",
       "      <td>YUKON</td>\n",
       "      <td>SPORT UTILITY</td>\n",
       "      <td>MT</td>\n",
       "      <td>1999.0</td>\n",
       "      <td>W</td>\n",
       "      <td>N</td>\n",
       "      <td>NO SEARCH REQUESTED</td>\n",
       "    </tr>\n",
       "    <tr>\n",
       "      <th>3</th>\n",
       "      <td>4</td>\n",
       "      <td>2009-01-04</td>\n",
       "      <td>10:33:11</td>\n",
       "      <td>P007 HWY 93 MM 81 S/B</td>\n",
       "      <td>46.727388</td>\n",
       "      <td>-114.079027</td>\n",
       "      <td>Missoula County</td>\n",
       "      <td>17.0</td>\n",
       "      <td>NaN</td>\n",
       "      <td>female</td>\n",
       "      <td>...</td>\n",
       "      <td>NaN</td>\n",
       "      <td>SPEED</td>\n",
       "      <td>HOND</td>\n",
       "      <td>CR-V</td>\n",
       "      <td>SPORT UTILITY</td>\n",
       "      <td>MT</td>\n",
       "      <td>2002.0</td>\n",
       "      <td>W</td>\n",
       "      <td>NaN</td>\n",
       "      <td>NaN</td>\n",
       "    </tr>\n",
       "    <tr>\n",
       "      <th>4</th>\n",
       "      <td>5</td>\n",
       "      <td>2009-01-04</td>\n",
       "      <td>10:46:43</td>\n",
       "      <td>P007 HWY 93 MM 81 N/B</td>\n",
       "      <td>46.729518</td>\n",
       "      <td>-114.079150</td>\n",
       "      <td>Missoula County</td>\n",
       "      <td>31.0</td>\n",
       "      <td>NaN</td>\n",
       "      <td>male</td>\n",
       "      <td>...</td>\n",
       "      <td>NaN</td>\n",
       "      <td>SPEED</td>\n",
       "      <td>TOYT</td>\n",
       "      <td>TERCEL</td>\n",
       "      <td>SEDAN</td>\n",
       "      <td>MT</td>\n",
       "      <td>1992.0</td>\n",
       "      <td>I</td>\n",
       "      <td>NaN</td>\n",
       "      <td>NaN</td>\n",
       "    </tr>\n",
       "  </tbody>\n",
       "</table>\n",
       "<p>5 rows × 29 columns</p>\n",
       "</div>"
      ],
      "text/plain": [
       "   raw_row_number        date      time                     location  \\\n",
       "0               1  2009-01-01  02:10:53            US 89 N MM10 (SB)   \n",
       "1               2  2009-01-02  11:34:19  HWY 93 SO AND ANNS LANE S/B   \n",
       "2               3  2009-01-03  11:36:42        P007 HWY 93 MM 77 N/B   \n",
       "3               4  2009-01-04  10:33:11        P007 HWY 93 MM 81 S/B   \n",
       "4               5  2009-01-04  10:46:43        P007 HWY 93 MM 81 N/B   \n",
       "\n",
       "         lat         lng      county_name  subject_age subject_race  \\\n",
       "0  47.572738 -111.802932   Cascade County         16.0        white   \n",
       "1  46.761225 -114.081142  Missoula County         19.0        white   \n",
       "2  46.694683 -114.073505  Missoula County         17.0        white   \n",
       "3  46.727388 -114.079027  Missoula County         17.0          NaN   \n",
       "4  46.729518 -114.079150  Missoula County         31.0          NaN   \n",
       "\n",
       "  subject_sex         ...          search_basis  \\\n",
       "0      female         ...                   NaN   \n",
       "1        male         ...                   NaN   \n",
       "2        male         ...                   NaN   \n",
       "3      female         ...                   NaN   \n",
       "4        male         ...                   NaN   \n",
       "\n",
       "                    reason_for_stop vehicle_make  vehicle_model  \\\n",
       "0                 --- - HIT AND RUN         FORD       EXPLORER   \n",
       "1  EXPIRED TAG ( - MONTHS OR LESS )          GMC             TK   \n",
       "2                             SPEED          GMC          YUKON   \n",
       "3                             SPEED         HOND           CR-V   \n",
       "4                             SPEED         TOYT         TERCEL   \n",
       "\n",
       "    vehicle_type  vehicle_registration_state vehicle_year raw_Race  \\\n",
       "0  SPORT UTILITY                          MT       1994.0        W   \n",
       "1          TRUCK                          MT       1996.0        W   \n",
       "2  SPORT UTILITY                          MT       1999.0        W   \n",
       "3  SPORT UTILITY                          MT       2002.0        W   \n",
       "4          SEDAN                          MT       1992.0        I   \n",
       "\n",
       "   raw_Ethnicity       raw_SearchType  \n",
       "0              N  NO SEARCH REQUESTED  \n",
       "1              N  NO SEARCH REQUESTED  \n",
       "2              N  NO SEARCH REQUESTED  \n",
       "3            NaN                  NaN  \n",
       "4            NaN                  NaN  \n",
       "\n",
       "[5 rows x 29 columns]"
      ]
     },
     "execution_count": 3,
     "metadata": {},
     "output_type": "execute_result"
    }
   ],
   "source": [
    "mt.head()"
   ]
  },
  {
   "cell_type": "code",
   "execution_count": 4,
   "metadata": {},
   "outputs": [
    {
     "data": {
      "text/plain": [
       "(825118, 29)"
      ]
     },
     "execution_count": 4,
     "metadata": {},
     "output_type": "execute_result"
    }
   ],
   "source": [
    "mt.shape"
   ]
  },
  {
   "cell_type": "code",
   "execution_count": 5,
   "metadata": {},
   "outputs": [
    {
     "data": {
      "text/plain": [
       "raw_row_number                  int64\n",
       "date                           object\n",
       "time                           object\n",
       "location                       object\n",
       "lat                           float64\n",
       "lng                           float64\n",
       "county_name                    object\n",
       "subject_age                   float64\n",
       "subject_race                   object\n",
       "subject_sex                    object\n",
       "department_name                object\n",
       "type                           object\n",
       "violation                      object\n",
       "arrest_made                      bool\n",
       "citation_issued                  bool\n",
       "warning_issued                   bool\n",
       "outcome                        object\n",
       "frisk_performed                object\n",
       "search_conducted                 bool\n",
       "search_basis                   object\n",
       "reason_for_stop                object\n",
       "vehicle_make                   object\n",
       "vehicle_model                  object\n",
       "vehicle_type                   object\n",
       "vehicle_registration_state     object\n",
       "vehicle_year                  float64\n",
       "raw_Race                       object\n",
       "raw_Ethnicity                  object\n",
       "raw_SearchType                 object\n",
       "dtype: object"
      ]
     },
     "execution_count": 5,
     "metadata": {},
     "output_type": "execute_result"
    }
   ],
   "source": [
    "mt.dtypes"
   ]
  },
  {
   "cell_type": "markdown",
   "metadata": {},
   "source": [
    "<a id='section2'></a>\n",
    "### Removing Columns"
   ]
  },
  {
   "cell_type": "code",
   "execution_count": 6,
   "metadata": {},
   "outputs": [],
   "source": [
    "# removing columns which won't be used for analysis/aggregation purposes\n",
    "cols_to_drop = [\n",
    "    'raw_row_number',\n",
    "    'location',\n",
    "    'lat',\n",
    "    'lng',\n",
    "    'county_name',\n",
    "    'subject_race',\n",
    "    'department_name',\n",
    "    'type',\n",
    "    'search_basis',\n",
    "    'vehicle_make',\n",
    "    'vehicle_model',\n",
    "    'vehicle_registration_state',\n",
    "    'raw_Race',\n",
    "    'raw_Ethnicity',\n",
    "    'raw_SearchType'\n",
    "]\n",
    "\n",
    "mt.drop(cols_to_drop, axis=1, inplace=True)"
   ]
  },
  {
   "cell_type": "markdown",
   "metadata": {},
   "source": [
    "<a id='section3'></a>\n",
    "### Handling Missing Values"
   ]
  },
  {
   "cell_type": "code",
   "execution_count": 7,
   "metadata": {},
   "outputs": [
    {
     "data": {
      "text/plain": [
       "date                0.001333\n",
       "time                0.001333\n",
       "subject_age         0.392186\n",
       "subject_sex         0.014422\n",
       "violation           0.008847\n",
       "arrest_made         0.000000\n",
       "citation_issued     0.000000\n",
       "warning_issued      0.000000\n",
       "outcome             0.030299\n",
       "frisk_performed     0.011392\n",
       "search_conducted    0.000000\n",
       "reason_for_stop     0.001333\n",
       "vehicle_type        7.921534\n",
       "vehicle_year        0.953682\n",
       "dtype: float64"
      ]
     },
     "execution_count": 7,
     "metadata": {},
     "output_type": "execute_result"
    }
   ],
   "source": [
    "# missing values as a % of the whole dataset\n",
    "mt.isna().sum()/len(mt)*100"
   ]
  },
  {
   "cell_type": "code",
   "execution_count": 8,
   "metadata": {},
   "outputs": [],
   "source": [
    "# dropping missing values, >90% of the original dataset will remain \n",
    "mt.dropna(inplace=True)"
   ]
  },
  {
   "cell_type": "markdown",
   "metadata": {},
   "source": [
    "<a id='section4'></a>\n",
    "### Column Cleaning "
   ]
  },
  {
   "cell_type": "code",
   "execution_count": 9,
   "metadata": {},
   "outputs": [],
   "source": [
    "# converting the date and time columns into one column of datetime objects for ease of aggregation\n",
    "combined = mt.date.str.cat(mt.time, sep=' ')\n",
    "mt['stop_datetime'] = pd.to_datetime(combined)\n",
    "mt.drop(['date', 'time'], axis=1, inplace=True)"
   ]
  },
  {
   "cell_type": "code",
   "execution_count": 10,
   "metadata": {},
   "outputs": [],
   "source": [
    "# converting the age column to type int\n",
    "mt['subject_age'] = mt.subject_age.astype(int)"
   ]
  },
  {
   "cell_type": "code",
   "execution_count": 11,
   "metadata": {},
   "outputs": [],
   "source": [
    "# binning the ages into ordinal groups for making nice bar charts\n",
    "def age_group(age):\n",
    "    if age >= 10 and age < 20:\n",
    "        return '10-19'\n",
    "    elif age >= 20 and age < 30:\n",
    "        return '20-29'\n",
    "    elif age >= 30 and age < 40:\n",
    "        return '30-39'\n",
    "    elif age >= 40 and age < 50:\n",
    "        return '40-49'\n",
    "    elif age >= 50 and age < 60:\n",
    "        return '50-59'\n",
    "    elif age >= 60 and age < 70:\n",
    "        return '60-69'\n",
    "    elif age >= 70 and age < 80:\n",
    "        return '70-79'\n",
    "    elif age >= 80 and age < 90:\n",
    "        return '80-89'\n",
    "    elif age >= 90 and age < 100:\n",
    "        return '90-99'\n",
    "    else:\n",
    "        return age\n",
    "\n",
    "# creating a new age_group column\n",
    "mt['subject_age_group'] = mt.subject_age.apply(age_group)"
   ]
  },
  {
   "cell_type": "code",
   "execution_count": 12,
   "metadata": {},
   "outputs": [],
   "source": [
    "# converting the vehicle_year column to type int\n",
    "mt['vehicle_year'] = mt.vehicle_year.astype(int)"
   ]
  },
  {
   "cell_type": "code",
   "execution_count": 13,
   "metadata": {},
   "outputs": [],
   "source": [
    "# title-casing the nominal values of the outcome column (only 3 unique values)\n",
    "mt['outcome'] = mt.outcome.map({'warning': 'Warning', 'citation': 'Citation', 'arrest': 'Arrest'})"
   ]
  },
  {
   "cell_type": "code",
   "execution_count": 14,
   "metadata": {},
   "outputs": [],
   "source": [
    "# simplifying the gender column to say either M or F\n",
    "mt['subject_sex'] = mt.subject_sex.map({'male': 'M', 'female': 'F'})"
   ]
  },
  {
   "cell_type": "code",
   "execution_count": 15,
   "metadata": {},
   "outputs": [],
   "source": [
    "# cleaning up the vehicle_type column\n",
    "mt.loc[mt.vehicle_type.str.lower().str.contains('truck|pickup'), 'vehicle_type'] = 'PICKUP'\n",
    "mt.loc[mt.vehicle_type.str.lower().str.contains('sedan'), 'vehicle_type'] = 'SEDAN'\n",
    "mt.loc[mt.vehicle_type.str.lower().str.contains('sport utility|utility'), 'vehicle_type'] = 'SUV'\n",
    "mt.loc[mt.vehicle_type.str.lower().str.contains('van'), 'vehicle_type'] = 'VAN'\n",
    "mt.loc[mt.vehicle_type.str.lower().str.contains('coupe'), 'vehicle_type'] = 'COUPE'\n",
    "mt.loc[mt.vehicle_type.str.lower().str.contains('motorcycle|motorbike'), 'vehicle_type'] = 'MOTORCYCLE'\n",
    "mt.loc[mt.vehicle_type.str.lower().str.contains('hatchback'), 'vehicle_type'] = 'HATCHBACK'\n",
    "mt.loc[mt.vehicle_type.str.lower().str.contains('tractor'), 'vehicle_type'] = 'TRACTOR'\n",
    "mt.loc[mt.vehicle_type.str.lower().str.contains('wagon'), 'vehicle_type'] = 'WAGON'\n",
    "mt.loc[~(mt.vehicle_type.str.contains('PICKUP|SEDAN|SUV|VAN|COUPE|MOTORCYCLE|HATCHBACK|TRACTOR|WAGON')), 'vehicle_type'] = 'OTHER'"
   ]
  },
  {
   "cell_type": "code",
   "execution_count": 16,
   "metadata": {},
   "outputs": [
    {
     "data": {
      "text/plain": [
       "SEDAN         236758\n",
       "PICKUP        232723\n",
       "SUV           157452\n",
       "VAN            35423\n",
       "COUPE          26299\n",
       "WAGON          22685\n",
       "OTHER          17916\n",
       "HATCHBACK      10178\n",
       "TRACTOR         8947\n",
       "MOTORCYCLE      5593\n",
       "Name: vehicle_type, dtype: int64"
      ]
     },
     "execution_count": 16,
     "metadata": {},
     "output_type": "execute_result"
    }
   ],
   "source": [
    "# viewing the cleaned vehicle_type column\n",
    "mt.vehicle_type.value_counts()"
   ]
  },
  {
   "cell_type": "code",
   "execution_count": 17,
   "metadata": {},
   "outputs": [],
   "source": [
    "# cleaning up the reason_for_stop column\n",
    "mt['reason_for_stop'] = mt.reason_for_stop.str.replace('--- - ','')\n",
    "mt.loc[mt.reason_for_stop.str.lower().str.contains('speed'), 'reason_for_stop'] = 'Speeding'\n",
    "mt.loc[mt.reason_for_stop.str.lower().str.contains('revoked|license|plate|registration|cmv|inspection|permit|insurance'), 'reason_for_stop'] = 'License/Registration/Plates'\n",
    "mt.loc[mt.reason_for_stop.str.lower().str.contains('improper|light|violation|stop|driving|right of way|hazard|crossing|too close'), 'reason_for_stop'] = 'Moving Violation'\n",
    "mt.loc[mt.reason_for_stop.str.lower().str.contains('debris|restrictive|load|defective|equipment|size|weight|height|smoke|exhaust|width|length|container|axle'), 'reason_for_stop'] = 'Equipment'\n",
    "mt.loc[~(mt.reason_for_stop.str.contains('Speeding|Moving Violation|License/Registration/Plates|Equipment')), 'reason_for_stop'] = 'Other'"
   ]
  },
  {
   "cell_type": "code",
   "execution_count": 18,
   "metadata": {},
   "outputs": [
    {
     "data": {
      "text/plain": [
       "Speeding                       494983\n",
       "Moving Violation               149630\n",
       "License/Registration/Plates     78715\n",
       "Equipment                       23885\n",
       "Other                            6761\n",
       "Name: reason_for_stop, dtype: int64"
      ]
     },
     "execution_count": 18,
     "metadata": {},
     "output_type": "execute_result"
    }
   ],
   "source": [
    "# viewing the cleaned reason_for_stop column\n",
    "mt.reason_for_stop.value_counts()"
   ]
  },
  {
   "cell_type": "code",
   "execution_count": 19,
   "metadata": {},
   "outputs": [],
   "source": [
    "# creating a boolean column to distinguish if the traffic stop ended in a DUI violation\n",
    "mt['dui_stop'] = mt.violation.str.contains('DUI', regex=False)"
   ]
  },
  {
   "cell_type": "code",
   "execution_count": 20,
   "metadata": {},
   "outputs": [],
   "source": [
    "# cleaning and converting the violation column to contain a list of violations for each driver\n",
    "mt['violation'] = mt.violation.str.replace(r'\\d{3} - ', '', regex=True).str.split('|')\n",
    "\n",
    "# creating a new column which indicates how many violations the driver committed\n",
    "mt['num_violations'] = mt.violation.apply(lambda x: len(x))"
   ]
  },
  {
   "cell_type": "markdown",
   "metadata": {},
   "source": [
    "<a id='section5'></a>\n",
    "### Reordering and Renaming Columns"
   ]
  },
  {
   "cell_type": "code",
   "execution_count": 21,
   "metadata": {},
   "outputs": [],
   "source": [
    "# reordering the columns for readability\n",
    "new_col_order = [\n",
    "    'stop_datetime',\n",
    "    'subject_age',\n",
    "    'subject_age_group',\n",
    "    'subject_sex',\n",
    "    'vehicle_type',\n",
    "    'vehicle_year',\n",
    "    'reason_for_stop',\n",
    "    'outcome',\n",
    "    'violation',\n",
    "    'num_violations',\n",
    "    'warning_issued',\n",
    "    'citation_issued',\n",
    "    'arrest_made',\n",
    "    'frisk_performed',\n",
    "    'search_conducted',\n",
    "    'dui_stop'\n",
    "]\n",
    "\n",
    "mt = mt[new_col_order]"
   ]
  },
  {
   "cell_type": "code",
   "execution_count": 22,
   "metadata": {},
   "outputs": [],
   "source": [
    "# renaming some columns for readability/my personal preference\n",
    "column_mapper = {\n",
    "    'subject_age': 'driver_age',\n",
    "    'subject_age_group': 'driver_age_group',\n",
    "    'subject_sex': 'driver_gender',\n",
    "    'vehicle_make': 'vehicle_brand',\n",
    "    'reason_for_stop': 'stop_reason'\n",
    "}\n",
    "\n",
    "mt.rename(column_mapper, axis=1, inplace=True)"
   ]
  },
  {
   "cell_type": "markdown",
   "metadata": {},
   "source": [
    "<a id='section6'></a>\n",
    "### The Cleaned Dataset "
   ]
  },
  {
   "cell_type": "code",
   "execution_count": 23,
   "metadata": {},
   "outputs": [
    {
     "data": {
      "text/html": [
       "<div>\n",
       "<style scoped>\n",
       "    .dataframe tbody tr th:only-of-type {\n",
       "        vertical-align: middle;\n",
       "    }\n",
       "\n",
       "    .dataframe tbody tr th {\n",
       "        vertical-align: top;\n",
       "    }\n",
       "\n",
       "    .dataframe thead th {\n",
       "        text-align: right;\n",
       "    }\n",
       "</style>\n",
       "<table border=\"1\" class=\"dataframe\">\n",
       "  <thead>\n",
       "    <tr style=\"text-align: right;\">\n",
       "      <th></th>\n",
       "      <th>stop_datetime</th>\n",
       "      <th>driver_age</th>\n",
       "      <th>driver_age_group</th>\n",
       "      <th>driver_gender</th>\n",
       "      <th>vehicle_type</th>\n",
       "      <th>vehicle_year</th>\n",
       "      <th>stop_reason</th>\n",
       "      <th>outcome</th>\n",
       "      <th>violation</th>\n",
       "      <th>num_violations</th>\n",
       "      <th>warning_issued</th>\n",
       "      <th>citation_issued</th>\n",
       "      <th>arrest_made</th>\n",
       "      <th>frisk_performed</th>\n",
       "      <th>search_conducted</th>\n",
       "      <th>dui_stop</th>\n",
       "    </tr>\n",
       "  </thead>\n",
       "  <tbody>\n",
       "    <tr>\n",
       "      <th>0</th>\n",
       "      <td>2009-01-01 02:10:53</td>\n",
       "      <td>16</td>\n",
       "      <td>10-19</td>\n",
       "      <td>F</td>\n",
       "      <td>SUV</td>\n",
       "      <td>1994</td>\n",
       "      <td>Other</td>\n",
       "      <td>Citation</td>\n",
       "      <td>[INSURANCE, HIT AND RUN, OTHER NON-HAZARDOUS]</td>\n",
       "      <td>3</td>\n",
       "      <td>True</td>\n",
       "      <td>True</td>\n",
       "      <td>False</td>\n",
       "      <td>False</td>\n",
       "      <td>False</td>\n",
       "      <td>False</td>\n",
       "    </tr>\n",
       "    <tr>\n",
       "      <th>1</th>\n",
       "      <td>2009-01-02 11:34:19</td>\n",
       "      <td>19</td>\n",
       "      <td>10-19</td>\n",
       "      <td>M</td>\n",
       "      <td>PICKUP</td>\n",
       "      <td>1996</td>\n",
       "      <td>Other</td>\n",
       "      <td>Arrest</td>\n",
       "      <td>[EXPIRED TAG ( 4 MONTHS OR LESS ), SEATBELT ( ...</td>\n",
       "      <td>3</td>\n",
       "      <td>True</td>\n",
       "      <td>False</td>\n",
       "      <td>True</td>\n",
       "      <td>False</td>\n",
       "      <td>False</td>\n",
       "      <td>False</td>\n",
       "    </tr>\n",
       "    <tr>\n",
       "      <th>2</th>\n",
       "      <td>2009-01-03 11:36:42</td>\n",
       "      <td>17</td>\n",
       "      <td>10-19</td>\n",
       "      <td>M</td>\n",
       "      <td>SUV</td>\n",
       "      <td>1999</td>\n",
       "      <td>Speeding</td>\n",
       "      <td>Arrest</td>\n",
       "      <td>[SPEED]</td>\n",
       "      <td>1</td>\n",
       "      <td>False</td>\n",
       "      <td>False</td>\n",
       "      <td>True</td>\n",
       "      <td>False</td>\n",
       "      <td>False</td>\n",
       "      <td>False</td>\n",
       "    </tr>\n",
       "    <tr>\n",
       "      <th>6</th>\n",
       "      <td>2009-01-04 17:45:40</td>\n",
       "      <td>30</td>\n",
       "      <td>30-39</td>\n",
       "      <td>M</td>\n",
       "      <td>OTHER</td>\n",
       "      <td>2006</td>\n",
       "      <td>Equipment</td>\n",
       "      <td>Citation</td>\n",
       "      <td>[INSURANCE]</td>\n",
       "      <td>1</td>\n",
       "      <td>False</td>\n",
       "      <td>True</td>\n",
       "      <td>False</td>\n",
       "      <td>False</td>\n",
       "      <td>False</td>\n",
       "      <td>False</td>\n",
       "    </tr>\n",
       "    <tr>\n",
       "      <th>8</th>\n",
       "      <td>2009-01-06 16:45:12</td>\n",
       "      <td>21</td>\n",
       "      <td>20-29</td>\n",
       "      <td>M</td>\n",
       "      <td>OTHER</td>\n",
       "      <td>1992</td>\n",
       "      <td>Speeding</td>\n",
       "      <td>Citation</td>\n",
       "      <td>[SPEED OVER LEGAL]</td>\n",
       "      <td>1</td>\n",
       "      <td>False</td>\n",
       "      <td>True</td>\n",
       "      <td>False</td>\n",
       "      <td>False</td>\n",
       "      <td>False</td>\n",
       "      <td>False</td>\n",
       "    </tr>\n",
       "  </tbody>\n",
       "</table>\n",
       "</div>"
      ],
      "text/plain": [
       "        stop_datetime  driver_age driver_age_group driver_gender vehicle_type  \\\n",
       "0 2009-01-01 02:10:53          16            10-19             F          SUV   \n",
       "1 2009-01-02 11:34:19          19            10-19             M       PICKUP   \n",
       "2 2009-01-03 11:36:42          17            10-19             M          SUV   \n",
       "6 2009-01-04 17:45:40          30            30-39             M        OTHER   \n",
       "8 2009-01-06 16:45:12          21            20-29             M        OTHER   \n",
       "\n",
       "   vehicle_year stop_reason   outcome  \\\n",
       "0          1994       Other  Citation   \n",
       "1          1996       Other    Arrest   \n",
       "2          1999    Speeding    Arrest   \n",
       "6          2006   Equipment  Citation   \n",
       "8          1992    Speeding  Citation   \n",
       "\n",
       "                                           violation  num_violations  \\\n",
       "0      [INSURANCE, HIT AND RUN, OTHER NON-HAZARDOUS]               3   \n",
       "1  [EXPIRED TAG ( 4 MONTHS OR LESS ), SEATBELT ( ...               3   \n",
       "2                                            [SPEED]               1   \n",
       "6                                        [INSURANCE]               1   \n",
       "8                                 [SPEED OVER LEGAL]               1   \n",
       "\n",
       "   warning_issued  citation_issued  arrest_made frisk_performed  \\\n",
       "0            True             True        False           False   \n",
       "1            True            False         True           False   \n",
       "2           False            False         True           False   \n",
       "6           False             True        False           False   \n",
       "8           False             True        False           False   \n",
       "\n",
       "   search_conducted  dui_stop  \n",
       "0             False     False  \n",
       "1             False     False  \n",
       "2             False     False  \n",
       "6             False     False  \n",
       "8             False     False  "
      ]
     },
     "execution_count": 23,
     "metadata": {},
     "output_type": "execute_result"
    }
   ],
   "source": [
    "# previewing the cleaned dataset\n",
    "mt.head()"
   ]
  },
  {
   "cell_type": "code",
   "execution_count": 24,
   "metadata": {},
   "outputs": [
    {
     "data": {
      "text/plain": [
       "(753974, 16)"
      ]
     },
     "execution_count": 24,
     "metadata": {},
     "output_type": "execute_result"
    }
   ],
   "source": [
    "# 750,000+ of the original 825,118 rows remain\n",
    "# 16 of the original 29 columns remain\n",
    "mt.shape"
   ]
  },
  {
   "cell_type": "code",
   "execution_count": 25,
   "metadata": {},
   "outputs": [
    {
     "name": "stdout",
     "output_type": "stream",
     "text": [
      "91.38% of the original dataset remains after data cleaning.\n"
     ]
    }
   ],
   "source": [
    "print('{:.2f}% of the original dataset remains after data cleaning.'.format((mt.shape[0]/825118)*100))"
   ]
  },
  {
   "cell_type": "markdown",
   "metadata": {},
   "source": [
    "<a id='section7'></a>\n",
    "### Data Analysis: Stop Frequency"
   ]
  },
  {
   "cell_type": "markdown",
   "metadata": {},
   "source": [
    "#### Is the number of stops increasing each year?"
   ]
  },
  {
   "cell_type": "code",
   "execution_count": 26,
   "metadata": {},
   "outputs": [
    {
     "data": {
      "text/plain": [
       "''"
      ]
     },
     "execution_count": 26,
     "metadata": {},
     "output_type": "execute_result"
    },
    {
     "data": {
      "image/png": "[encoded data removed]",
      "text/plain": [
       "<Figure size 720x360 with 1 Axes>"
      ]
     },
     "metadata": {
      "needs_background": "light"
     },
     "output_type": "display_data"
    }
   ],
   "source": [
    "# using 2010-2015 to answer the first question. The data for 2009 and 2016 is incomplete\n",
    "# because data collection only began at the end of 2009 and the last month of 2016 is incomplete\n",
    "mt_2009_2015 = mt[mt.stop_datetime.dt.year.isin([2010, 2011, 2012, 2013, 2014, 2015])].copy()\n",
    "fig, ax = plt.subplots(figsize=(10,5))\n",
    "mt_2009_2015.stop_datetime.dt.year.value_counts().sort_index().plot(linewidth=2)\n",
    "plt.title('Total Traffic Stops Per Year: 2010-2015')\n",
    ";"
   ]
  },
  {
   "cell_type": "raw",
   "metadata": {},
   "source": [
    "It appears as though the number of traffic stops is indeed increasing over time. In the year 2015 there was almost 10% more traffic stops than in 2010. \n",
    "\n",
    "It's possible that this increase is simply consistent with the increased number of drivers on the road each year however I would need additional data to confirm this. The US Department of Transportation Federal Highway Administration (https://www.fhwa.dot.gov/policyinformation/statistics/2010/dv1c.cfm) shows a 5.2% increase in drivers on the road from 2000-2005 and an increase of 4.4% of drivers on the road from 2010-2015. Based on the dataset, it appears as though the number of traffic stops is increasing more rapidly than the number of drivers on the road.\n",
    "\n",
    "Are drivers getting more and more distracted? Are they driving more recklessly?"
   ]
  },
  {
   "cell_type": "markdown",
   "metadata": {},
   "source": [
    "#### On which day of the week do most stops occur?"
   ]
  },
  {
   "cell_type": "code",
   "execution_count": 27,
   "metadata": {},
   "outputs": [
    {
     "data": {
      "text/plain": [
       "Monday        99147\n",
       "Tuesday       91766\n",
       "Wednesday     97756\n",
       "Thursday     105493\n",
       "Friday       118650\n",
       "Saturday     124378\n",
       "Sunday       116784\n",
       "Name: stop_datetime, dtype: int64"
      ]
     },
     "execution_count": 27,
     "metadata": {},
     "output_type": "execute_result"
    }
   ],
   "source": [
    "new_index = ['Monday', 'Tuesday', 'Wednesday', 'Thursday', 'Friday', 'Saturday', 'Sunday']\n",
    "\n",
    "# total traffic stops by weekday from 2009-2016\n",
    "mt.stop_datetime.dt.weekday_name.value_counts().reindex(index=new_index)"
   ]
  },
  {
   "cell_type": "code",
   "execution_count": 28,
   "metadata": {},
   "outputs": [
    {
     "data": {
      "text/plain": [
       "''"
      ]
     },
     "execution_count": 28,
     "metadata": {},
     "output_type": "execute_result"
    },
    {
     "data": {
      "image/png": "[encoded data removed]",
      "text/plain": [
       "<Figure size 720x360 with 1 Axes>"
      ]
     },
     "metadata": {
      "needs_background": "light"
     },
     "output_type": "display_data"
    }
   ],
   "source": [
    "blue = '#1f77b4'\n",
    "orange = '#ff7f0e'\n",
    "fig, ax = plt.subplots(figsize=(10,5))\n",
    "mt.stop_datetime.dt.weekday_name.value_counts().reindex(index=new_index).plot(kind='bar', color=[blue,blue,blue,blue,blue,orange,blue])\n",
    "plt.title('Total Traffic Stops by Weekday: 2009-2016')\n",
    ";"
   ]
  },
  {
   "cell_type": "raw",
   "metadata": {},
   "source": [
    "Most stops occur on Saturday, followed by Friday.\n",
    "\n",
    "Possible explanation for the daily results:\n",
    "\n",
    "The number of traffic stops that occur on each day of the week could be influenced by that days 'relationship' with the weekend and how driver's habits change over the course of the week. \n",
    "\n",
    "As the weekend approaches the number of stops increases gradually and peaks on the Saturday. It's quite possible that driver's habits change as the weekend grows closer, which could result in more traffic stops. It's also not hard to assume that many drivers habits/schedules are different on the weekend (social gatherings/partying/staying up late) which could lead to more traffic stops. It should be noted that Monday actually has more traffic stops than Tuesday which could be a result of drivers still being in 'weekend mode' on Monday.. i.e poor time management, fatigue from staying up too late etc."
   ]
  },
  {
   "cell_type": "markdown",
   "metadata": {},
   "source": [
    "#### What time of day do most stops occur?"
   ]
  },
  {
   "cell_type": "code",
   "execution_count": 29,
   "metadata": {},
   "outputs": [
    {
     "data": {
      "text/plain": [
       "''"
      ]
     },
     "execution_count": 29,
     "metadata": {},
     "output_type": "execute_result"
    },
    {
     "data": {
      "image/png": "[encoded data removed]",
      "text/plain": [
       "<Figure size 720x360 with 1 Axes>"
      ]
     },
     "metadata": {
      "needs_background": "light"
     },
     "output_type": "display_data"
    }
   ],
   "source": [
    "fig, ax = plt.subplots(figsize=(10,5))\n",
    "mt.stop_datetime.dt.hour.value_counts().sort_index().plot(kind='bar', rot=0, color=[blue,blue,blue,blue,blue,blue,blue,blue,blue,blue,blue,blue,blue,blue,blue,orange,blue,blue,blue,blue,blue,blue,blue,blue])\n",
    "plt.title('Total Traffic Stops By Hour: 2009-2016')\n",
    "plt.xlabel('24 hour clock', labelpad=10)\n",
    ";"
   ]
  },
  {
   "cell_type": "raw",
   "metadata": {},
   "source": [
    "The most traffic stops occur at 3pm which is very interesting. People working a 9-5 job would still be at work during this time, so why do so many traffic stops occur?\n",
    "\n",
    "One possible hypothesis could be that the drivers who are getting pulled over at this time are high school/college students and 3pm is around then time when high school/college classes end for the day.\n",
    "\n",
    "With respect to the overall trend, as expected there are many traffic stops during the morning when people are commuting to work as well as many traffic stops in the afternoon after school/work. As the day gets later and later, the amount of traffic stops decreases as there are most likely less cars on the road."
   ]
  },
  {
   "cell_type": "markdown",
   "metadata": {},
   "source": [
    "#### What is the driver gender/age distribution for all traffic stops?"
   ]
  },
  {
   "cell_type": "code",
   "execution_count": 30,
   "metadata": {},
   "outputs": [
    {
     "data": {
      "text/plain": [
       "M    509898\n",
       "F    244076\n",
       "Name: driver_gender, dtype: int64"
      ]
     },
     "execution_count": 30,
     "metadata": {},
     "output_type": "execute_result"
    }
   ],
   "source": [
    "# total traffic stops in the dataset by gender (count)\n",
    "mt.driver_gender.value_counts()"
   ]
  },
  {
   "cell_type": "code",
   "execution_count": 31,
   "metadata": {},
   "outputs": [
    {
     "data": {
      "text/plain": [
       "M    0.676281\n",
       "F    0.323719\n",
       "Name: driver_gender, dtype: float64"
      ]
     },
     "execution_count": 31,
     "metadata": {},
     "output_type": "execute_result"
    }
   ],
   "source": [
    "# total traffic stops in the dataset by gender (proportion of total)\n",
    "mt.driver_gender.value_counts(normalize=True)"
   ]
  },
  {
   "cell_type": "raw",
   "metadata": {},
   "source": [
    "In the dataset, there are more than twice as many traffic stops involving male drivers than female. Traffic stops involving male drivers make up 67.6% of the dataset. \n",
    "\n",
    "The US Department of Transportation Federal Highway Administration shows that the number of male and female drivers on the road is approximately equal, with 2.4% more female drivers than male reported in 2018. Assuming that this statistic holds true for the state of Montana - the data suggests that male drivers are being pulled over much more often."
   ]
  },
  {
   "cell_type": "code",
   "execution_count": 32,
   "metadata": {},
   "outputs": [
    {
     "data": {
      "text/plain": [
       "''"
      ]
     },
     "execution_count": 32,
     "metadata": {},
     "output_type": "execute_result"
    },
    {
     "data": {
      "image/png": "[encoded data removed]",
      "text/plain": [
       "<Figure size 720x360 with 1 Axes>"
      ]
     },
     "metadata": {
      "needs_background": "light"
     },
     "output_type": "display_data"
    }
   ],
   "source": [
    "fig, ax = plt.subplots(figsize=(10,5))\n",
    "mt.groupby('driver_gender').driver_age_group.value_counts().unstack().sort_index(ascending=False).plot(kind='bar', ax=ax, rot=0, colormap='tab10')\n",
    "plt.title('Total Traffic Stops by Gender/Age: 2009-2016')\n",
    "plt.xlabel('')\n",
    ";"
   ]
  },
  {
   "cell_type": "raw",
   "metadata": {},
   "source": [
    "Even though 67.6% of the dataset involves male drivers, it does not mean that more male drivers are pulled over in every age group than female. \n",
    "\n",
    "However, the above figure shows that this indeed the case: There are more traffic stops involving male drivers than female drivers in every age group category.\n",
    "\n",
    "It should be noted that for both genders of drivers in the dataset - drivers in the 20-29 age group contribute are pulled over more than any other age group. \n",
    "\n",
    "The US Department of Transportation Federal Highway Administration (https://www.fhwa.dot.gov/policyinformation/pubs/hf/pl11028/chapter4.cfm) shows that the number of drivers on the road in the US in the 20-29 age group as wel as the 30-39 age group are approximately equal, with the number of drivers in the 40-49 being larger than either of the former two. This certainly suggests that there is a real problem occuring with drivers in the 20-29 age group driving irresponsibly. \n",
    "\n",
    "Does this support the previous hypothesis of why so many traffic stops occur around 3pm?"
   ]
  },
  {
   "cell_type": "code",
   "execution_count": 33,
   "metadata": {},
   "outputs": [
    {
     "data": {
      "text/plain": [
       "driver_gender  driver_age_group\n",
       "F              10-19               0.096109\n",
       "               20-29               0.263229\n",
       "               30-39               0.203117\n",
       "               40-49               0.179813\n",
       "               50-59               0.154915\n",
       "               60-69               0.076001\n",
       "               70-79               0.022292\n",
       "               80-89               0.004347\n",
       "               90-99               0.000176\n",
       "M              10-19               0.075743\n",
       "               20-29               0.251244\n",
       "               30-39               0.200387\n",
       "               40-49               0.176961\n",
       "               50-59               0.161681\n",
       "               60-69               0.094703\n",
       "               70-79               0.032002\n",
       "               80-89               0.006862\n",
       "               90-99               0.000416\n",
       "Name: driver_age_group, dtype: float64"
      ]
     },
     "execution_count": 33,
     "metadata": {},
     "output_type": "execute_result"
    }
   ],
   "source": [
    "mt.groupby('driver_gender').driver_age_group.value_counts(normalize=True).sort_index()"
   ]
  },
  {
   "cell_type": "code",
   "execution_count": 34,
   "metadata": {},
   "outputs": [
    {
     "data": {
      "text/plain": [
       "''"
      ]
     },
     "execution_count": 34,
     "metadata": {},
     "output_type": "execute_result"
    },
    {
     "data": {
      "image/png": "[encoded data removed]",
      "text/plain": [
       "<Figure size 720x360 with 1 Axes>"
      ]
     },
     "metadata": {
      "needs_background": "light"
     },
     "output_type": "display_data"
    }
   ],
   "source": [
    "fig, ax = plt.subplots(figsize=(10,5))\n",
    "mt.groupby('driver_gender').driver_age_group.value_counts(normalize=True).unstack().sort_index(ascending=False).T.plot(kind='bar', ax=ax, rot=0)\n",
    "plt.title('Total Traffic Stops: Driver Gender Normalized by Age Group: 2009-2016')\n",
    "plt.xlabel('Age Group', labelpad=10)\n",
    ";"
   ]
  },
  {
   "cell_type": "raw",
   "metadata": {},
   "source": [
    "If we look at each gender indivdually and normalize the number of traffic stops by age group, we can draw some additional insights. \n",
    "\n",
    "Proportionally speaking, female drivers in the 10-19, 20-29, 30-39 and 40-49 age groups contribute more to the total number of traffic stops involving female drivers then male drivers do to the total number of traffic stops involving male drivers. The opposite case is true for the remaining age groups. \n",
    "\n",
    "The two most significant differences are:\n",
    "\n",
    "10-19: 7.5% of total male driver stops. 9.6% of total female driver stops.\n",
    "60-69: 9.4% of total male driver stops. 7.6% of total female driver stops."
   ]
  },
  {
   "cell_type": "markdown",
   "metadata": {},
   "source": [
    "<a id='section8'></a>\n",
    "### Data Analysis: Speed Related Stops"
   ]
  },
  {
   "cell_type": "markdown",
   "metadata": {},
   "source": [
    "#### Do men or women speed more often?"
   ]
  },
  {
   "cell_type": "code",
   "execution_count": 35,
   "metadata": {},
   "outputs": [
    {
     "data": {
      "text/plain": [
       "M    0.66932\n",
       "F    0.33068\n",
       "Name: driver_gender, dtype: float64"
      ]
     },
     "execution_count": 35,
     "metadata": {},
     "output_type": "execute_result"
    }
   ],
   "source": [
    "# recall that for all traffic stops in the dataset, 67.6% of the stops involve male drivers. \n",
    "mt[mt.stop_reason == 'Speeding'].driver_gender.value_counts(normalize=True)"
   ]
  },
  {
   "cell_type": "code",
   "execution_count": 36,
   "metadata": {},
   "outputs": [
    {
     "data": {
      "text/plain": [
       "driver_gender\n",
       "M    0.649742\n",
       "F    0.670615\n",
       "Name: stop_reason, dtype: float64"
      ]
     },
     "execution_count": 36,
     "metadata": {},
     "output_type": "execute_result"
    }
   ],
   "source": [
    "# % of drivers in each gender who are pulled over for speeding\n",
    "mt.groupby('driver_gender').stop_reason.value_counts(normalize=True).sort_index(ascending=[False, True]).loc[:, 'Speeding']"
   ]
  },
  {
   "cell_type": "raw",
   "metadata": {},
   "source": [
    "64.9% of the male drivers in the dataset were pulled over for speeding.\n",
    "67.0% of the female drivers in the dataset were pulled over for speeding.\n",
    "\n",
    "Even though 67.6% of the traffic stops in the dataset involve male drivers, the data shows that men and women are pulled over for speeding at approximately the same rate with women being pulled over for speeding 2.1% more often than men."
   ]
  },
  {
   "cell_type": "markdown",
   "metadata": {},
   "source": [
    "#### Do teens/young adults speed more than other drivers?"
   ]
  },
  {
   "cell_type": "code",
   "execution_count": 37,
   "metadata": {},
   "outputs": [
    {
     "data": {
      "text/plain": [
       "driver_age_group\n",
       "10-19    0.609997\n",
       "20-29    0.640502\n",
       "30-39    0.665667\n",
       "40-49    0.682933\n",
       "50-59    0.669519\n",
       "60-69    0.665674\n",
       "70-79    0.630773\n",
       "80-89    0.537500\n",
       "90-99    0.462745\n",
       "Name: stop_reason, dtype: float64"
      ]
     },
     "execution_count": 37,
     "metadata": {},
     "output_type": "execute_result"
    }
   ],
   "source": [
    "# % of drivers pulled over for speeding in each age group\n",
    "mt.groupby('driver_age_group').stop_reason.value_counts(normalize=True).loc[:, 'Speeding']"
   ]
  },
  {
   "cell_type": "code",
   "execution_count": 38,
   "metadata": {},
   "outputs": [
    {
     "data": {
      "text/plain": [
       "''"
      ]
     },
     "execution_count": 38,
     "metadata": {},
     "output_type": "execute_result"
    },
    {
     "data": {
      "image/png": "[encoded data removed]",
      "text/plain": [
       "<Figure size 720x360 with 1 Axes>"
      ]
     },
     "metadata": {
      "needs_background": "light"
     },
     "output_type": "display_data"
    }
   ],
   "source": [
    "fig, ax = plt.subplots(figsize=(10,5))\n",
    "mt.groupby('driver_age_group').stop_reason.value_counts(normalize=True).loc[:, 'Speeding'].plot(kind='bar', rot=0, ax=ax, color=blue)\n",
    "plt.title('% of Age Group Stopped For Speeding: 2009-2016')\n",
    "plt.xlabel('Age Group', labelpad=10)\n",
    ";"
   ]
  },
  {
   "cell_type": "raw",
   "metadata": {},
   "source": [
    "Based on the data, teens/young adults do not speed more than other drivers. With the exception of drivers in the 80-89 and 90-99 age groups (which make up the majority of the outliers in the data set) all drivers regardless of the their age are pulled over for speeding 60-68% of the time. In fact, drivers in the 30-39, 40-49, 50-59 and 60-69 age groups are pulled over slightly more often for speeding than teens/young adults."
   ]
  },
  {
   "cell_type": "markdown",
   "metadata": {},
   "source": [
    "#### Do people in trucks speed more often than other types of cars?"
   ]
  },
  {
   "cell_type": "code",
   "execution_count": 39,
   "metadata": {},
   "outputs": [
    {
     "data": {
      "text/plain": [
       "SEDAN     0.314013\n",
       "PICKUP    0.308662\n",
       "SUV       0.208829\n",
       "Name: vehicle_type, dtype: float64"
      ]
     },
     "execution_count": 39,
     "metadata": {},
     "output_type": "execute_result"
    }
   ],
   "source": [
    "# the top 3 vehicle types which make up 81.4% of all traffic stops in the dataset\n",
    "mt.vehicle_type.value_counts(normalize=True).nlargest(3)"
   ]
  },
  {
   "cell_type": "code",
   "execution_count": 40,
   "metadata": {},
   "outputs": [
    {
     "data": {
      "text/plain": [
       "vehicle_type\n",
       "PICKUP    0.608419\n",
       "SEDAN     0.674528\n",
       "SUV       0.703249\n",
       "Name: stop_reason, dtype: float64"
      ]
     },
     "execution_count": 40,
     "metadata": {},
     "output_type": "execute_result"
    }
   ],
   "source": [
    "# % pulled over for speeding\n",
    "mt[mt.vehicle_type.isin(mt.vehicle_type.value_counts().nlargest(3).index)].groupby('vehicle_type').stop_reason.value_counts(normalize=True).loc[:, 'Speeding']"
   ]
  },
  {
   "cell_type": "raw",
   "metadata": {},
   "source": [
    "This is a fun and simple question which is based on my person experience of always seeing pickup trucks driving way over the speed limit both in the city and on the highway. \n",
    "\n",
    "Unfortunately, my anecdotal hypothesis was incorrect! Of the top 3 vehicle types in the dataset (which make up 81.4% of all stops) pickup trucks are pulled over for speeding the least. In fact, SUVs are pulled over for speeding ~10% more than pickup trucks."
   ]
  },
  {
   "cell_type": "markdown",
   "metadata": {},
   "source": [
    "<a id='section9'></a>\n",
    "### Data Analysis: Outcome Bias"
   ]
  },
  {
   "cell_type": "code",
   "execution_count": 41,
   "metadata": {},
   "outputs": [
    {
     "data": {
      "text/plain": [
       "Speeding                       0.656499\n",
       "Moving Violation               0.198455\n",
       "License/Registration/Plates    0.104400\n",
       "Name: stop_reason, dtype: float64"
      ]
     },
     "execution_count": 41,
     "metadata": {},
     "output_type": "execute_result"
    }
   ],
   "source": [
    "# in this section I'll focus on the top three reasons for traffic stops which make up 95+% of the dataset\n",
    "mt.stop_reason.value_counts(normalize=True).nlargest(3)"
   ]
  },
  {
   "cell_type": "markdown",
   "metadata": {},
   "source": [
    "#### Does gender affect who only gets a warning vs. a citation? (for the same stop reason)"
   ]
  },
  {
   "cell_type": "code",
   "execution_count": 42,
   "metadata": {},
   "outputs": [
    {
     "name": "stdout",
     "output_type": "stream",
     "text": [
      "There are 380343 stops in the dataset which result in only a warning being given.\n",
      "These stops represent 50.45% of the dataset.\n"
     ]
    }
   ],
   "source": [
    "mt_warning = mt[mt.outcome == 'Warning'].copy()\n",
    "print('There are {} stops in the dataset which result in only a warning being given.'.format(mt_warning.shape[0]))\n",
    "print('These stops represent {:.2f}% of the dataset.'.format(mt_warning.shape[0]/mt.shape[0]*100))"
   ]
  },
  {
   "cell_type": "code",
   "execution_count": 43,
   "metadata": {},
   "outputs": [],
   "source": [
    "# creating a dataframe of warning ratios by gender, showing the % of stops that were only given a warning for each stop reason\n",
    "mt_warning_ratios_gender = (mt_warning.groupby('driver_gender').stop_reason.value_counts() / mt.groupby('driver_gender').stop_reason.value_counts()).sort_index(ascending=False)"
   ]
  },
  {
   "cell_type": "code",
   "execution_count": 44,
   "metadata": {},
   "outputs": [
    {
     "data": {
      "text/html": [
       "<div>\n",
       "<style scoped>\n",
       "    .dataframe tbody tr th:only-of-type {\n",
       "        vertical-align: middle;\n",
       "    }\n",
       "\n",
       "    .dataframe tbody tr th {\n",
       "        vertical-align: top;\n",
       "    }\n",
       "\n",
       "    .dataframe thead th {\n",
       "        text-align: right;\n",
       "    }\n",
       "</style>\n",
       "<table border=\"1\" class=\"dataframe\">\n",
       "  <thead>\n",
       "    <tr style=\"text-align: right;\">\n",
       "      <th>stop_reason</th>\n",
       "      <th>Speeding</th>\n",
       "      <th>Moving Violation</th>\n",
       "      <th>License/Registration/Plates</th>\n",
       "    </tr>\n",
       "    <tr>\n",
       "      <th>driver_gender</th>\n",
       "      <th></th>\n",
       "      <th></th>\n",
       "      <th></th>\n",
       "    </tr>\n",
       "  </thead>\n",
       "  <tbody>\n",
       "    <tr>\n",
       "      <th>M</th>\n",
       "      <td>0.427966</td>\n",
       "      <td>0.665130</td>\n",
       "      <td>0.586037</td>\n",
       "    </tr>\n",
       "    <tr>\n",
       "      <th>F</th>\n",
       "      <td>0.448788</td>\n",
       "      <td>0.710502</td>\n",
       "      <td>0.612063</td>\n",
       "    </tr>\n",
       "  </tbody>\n",
       "</table>\n",
       "</div>"
      ],
      "text/plain": [
       "stop_reason    Speeding  Moving Violation  License/Registration/Plates\n",
       "driver_gender                                                         \n",
       "M              0.427966          0.665130                     0.586037\n",
       "F              0.448788          0.710502                     0.612063"
      ]
     },
     "execution_count": 44,
     "metadata": {},
     "output_type": "execute_result"
    }
   ],
   "source": [
    "mt_warning_ratios_gender.unstack().sort_index(ascending=False)[mt.stop_reason.value_counts().nlargest(3).index]"
   ]
  },
  {
   "cell_type": "raw",
   "metadata": {},
   "source": [
    "For the top three stop reasons, which make up 95+% of all traffic stops in the dataset, female drivers are given only warnings more often than male drivers.\n",
    "\n",
    "Does this represent any apparent bias towards drivers based on there gender?\n",
    "\n",
    "There could of course be many reasons why this is the case. As we know from studying the dataset, male drivers (at least in these 750,000+ traffic stops in Montana from 2009-2016) make up over two-thirds of all traffic stops. For this reason, perhaps it's less prudent from a law-enforcement perspective to give male drivers warnings? They are after all responsible for the majority of traffic stops. Issuing costly citations is probably a more effective way of mitigating behaviour behind the wheel.\n",
    "\n",
    "We also don't know how many miles over the limit these drivers were driving when they were pulled over and the dataset doesn't tell us that. Even in the violation column it only says SPEED OVER LEGAL. Perhaps men just speed FASTER than women do? I'm not entirely sure of the process involved but I'm sure after a certain amount of miles over the limit you're going to be issues a citation no matter what.\n",
    "\n",
    "Another explanation (just speculating for fun) could be that female drivers are simply more agreeable and cooperative with law-enforcement during traffic stops and as a result are given a warning vs. a citation more often."
   ]
  },
  {
   "cell_type": "markdown",
   "metadata": {},
   "source": [
    "#### Does age affect who only gets a warning vs. a citation? (for the same stop reason)"
   ]
  },
  {
   "cell_type": "code",
   "execution_count": 45,
   "metadata": {},
   "outputs": [],
   "source": [
    "# creating a dataframe of warning ratios by age, showing the % of stops that were only given a warning for each stop reason\n",
    "mt_warning_ratios_age = (mt_warning.groupby('driver_age_group').stop_reason.value_counts() / mt.groupby('driver_age_group').stop_reason.value_counts()).sort_index(ascending=[True, False])"
   ]
  },
  {
   "cell_type": "code",
   "execution_count": 46,
   "metadata": {},
   "outputs": [
    {
     "data": {
      "text/html": [
       "<div>\n",
       "<style scoped>\n",
       "    .dataframe tbody tr th:only-of-type {\n",
       "        vertical-align: middle;\n",
       "    }\n",
       "\n",
       "    .dataframe tbody tr th {\n",
       "        vertical-align: top;\n",
       "    }\n",
       "\n",
       "    .dataframe thead th {\n",
       "        text-align: right;\n",
       "    }\n",
       "</style>\n",
       "<table border=\"1\" class=\"dataframe\">\n",
       "  <thead>\n",
       "    <tr style=\"text-align: right;\">\n",
       "      <th>stop_reason</th>\n",
       "      <th>Speeding</th>\n",
       "      <th>Moving Violation</th>\n",
       "      <th>License/Registration/Plates</th>\n",
       "    </tr>\n",
       "    <tr>\n",
       "      <th>driver_age_group</th>\n",
       "      <th></th>\n",
       "      <th></th>\n",
       "      <th></th>\n",
       "    </tr>\n",
       "  </thead>\n",
       "  <tbody>\n",
       "    <tr>\n",
       "      <th>10-19</th>\n",
       "      <td>0.347813</td>\n",
       "      <td>0.629738</td>\n",
       "      <td>0.538782</td>\n",
       "    </tr>\n",
       "    <tr>\n",
       "      <th>20-29</th>\n",
       "      <td>0.373280</td>\n",
       "      <td>0.617643</td>\n",
       "      <td>0.532284</td>\n",
       "    </tr>\n",
       "    <tr>\n",
       "      <th>30-39</th>\n",
       "      <td>0.426621</td>\n",
       "      <td>0.661014</td>\n",
       "      <td>0.577439</td>\n",
       "    </tr>\n",
       "    <tr>\n",
       "      <th>40-49</th>\n",
       "      <td>0.457973</td>\n",
       "      <td>0.703666</td>\n",
       "      <td>0.634750</td>\n",
       "    </tr>\n",
       "    <tr>\n",
       "      <th>50-59</th>\n",
       "      <td>0.484580</td>\n",
       "      <td>0.729562</td>\n",
       "      <td>0.663840</td>\n",
       "    </tr>\n",
       "    <tr>\n",
       "      <th>60-69</th>\n",
       "      <td>0.516508</td>\n",
       "      <td>0.760217</td>\n",
       "      <td>0.712441</td>\n",
       "    </tr>\n",
       "    <tr>\n",
       "      <th>70-79</th>\n",
       "      <td>0.549071</td>\n",
       "      <td>0.765584</td>\n",
       "      <td>0.698605</td>\n",
       "    </tr>\n",
       "    <tr>\n",
       "      <th>80-89</th>\n",
       "      <td>0.587923</td>\n",
       "      <td>0.748620</td>\n",
       "      <td>0.707386</td>\n",
       "    </tr>\n",
       "    <tr>\n",
       "      <th>90-99</th>\n",
       "      <td>0.567797</td>\n",
       "      <td>0.743119</td>\n",
       "      <td>0.666667</td>\n",
       "    </tr>\n",
       "  </tbody>\n",
       "</table>\n",
       "</div>"
      ],
      "text/plain": [
       "stop_reason       Speeding  Moving Violation  License/Registration/Plates\n",
       "driver_age_group                                                         \n",
       "10-19             0.347813          0.629738                     0.538782\n",
       "20-29             0.373280          0.617643                     0.532284\n",
       "30-39             0.426621          0.661014                     0.577439\n",
       "40-49             0.457973          0.703666                     0.634750\n",
       "50-59             0.484580          0.729562                     0.663840\n",
       "60-69             0.516508          0.760217                     0.712441\n",
       "70-79             0.549071          0.765584                     0.698605\n",
       "80-89             0.587923          0.748620                     0.707386\n",
       "90-99             0.567797          0.743119                     0.666667"
      ]
     },
     "execution_count": 46,
     "metadata": {},
     "output_type": "execute_result"
    }
   ],
   "source": [
    "mt_warning_ratios_age.unstack()[mt.stop_reason.value_counts().nlargest(3).index]"
   ]
  },
  {
   "cell_type": "raw",
   "metadata": {},
   "source": [
    "Teen/young adult drivers (10-19 and 20-29) are given the least amount of warnings when compared to any other age group in the dataset.\n",
    "\n",
    "The most obvious explanation for this is that: \n",
    "\n",
    "1) Teen drivers (10-19) are either driving illegally, which certainly isn't going to result in only a warning being given, or they are driving legally but being given harsher punishments to learn a lesson about respecting the law as they are new drivers (which I can't say I disagree with!).\n",
    "\n",
    "2) Young adults drivers between 20-29 make up an astonishing 25.5% of the entire dataset and are the single highest contributor to the total number of stops! Issuing costly citations is probably a more effective way of mitigating this kind of behaviour behind the wheel."
   ]
  },
  {
   "cell_type": "markdown",
   "metadata": {},
   "source": [
    "<a id='section10'></a>\n",
    "### Data Analysis: DUI Stops"
   ]
  },
  {
   "cell_type": "markdown",
   "metadata": {},
   "source": [
    "#### What percentage of stops end up in DUI violations?"
   ]
  },
  {
   "cell_type": "code",
   "execution_count": 47,
   "metadata": {},
   "outputs": [
    {
     "name": "stdout",
     "output_type": "stream",
     "text": [
      "There are 8098 DUI stops in the dataset\n",
      "DUI stops represent 1.07% of the dataset.\n"
     ]
    }
   ],
   "source": [
    "mt_dui = mt[mt.dui_stop == True].copy()\n",
    "print('There are {} DUI stops in the dataset'.format(mt_dui.shape[0]))\n",
    "print('DUI stops represent {:.2f}% of the dataset.'.format(mt_dui.shape[0]/mt.shape[0]*100))"
   ]
  },
  {
   "cell_type": "markdown",
   "metadata": {},
   "source": [
    "#### Do most DUI stops occur because of moving violations?"
   ]
  },
  {
   "cell_type": "code",
   "execution_count": 48,
   "metadata": {},
   "outputs": [
    {
     "data": {
      "text/plain": [
       "Moving Violation               3363\n",
       "Speeding                       2044\n",
       "Other                          2026\n",
       "License/Registration/Plates     401\n",
       "Equipment                       264\n",
       "Name: stop_reason, dtype: int64"
      ]
     },
     "execution_count": 48,
     "metadata": {},
     "output_type": "execute_result"
    }
   ],
   "source": [
    "mt_dui.stop_reason.value_counts()"
   ]
  },
  {
   "cell_type": "code",
   "execution_count": 49,
   "metadata": {},
   "outputs": [
    {
     "data": {
      "text/plain": [
       "Moving Violation               0.415288\n",
       "Speeding                       0.252408\n",
       "Other                          0.250185\n",
       "License/Registration/Plates    0.049518\n",
       "Equipment                      0.032601\n",
       "Name: stop_reason, dtype: float64"
      ]
     },
     "execution_count": 49,
     "metadata": {},
     "output_type": "execute_result"
    }
   ],
   "source": [
    "mt_dui.stop_reason.value_counts(normalize=True)"
   ]
  },
  {
   "cell_type": "raw",
   "metadata": {},
   "source": [
    "41.5% of DUI traffic stops do occur because of moving violations. Intuitively this makes sense! \n",
    "\n",
    "It's also interesting to note that almost 10% of drivers under the influence are actually pulled over for reasons unrelated to their quality of driving! (License/Registration/Plates or Equipment) "
   ]
  },
  {
   "cell_type": "markdown",
   "metadata": {},
   "source": [
    "#### Do most DUI stops occur at night?"
   ]
  },
  {
   "cell_type": "code",
   "execution_count": 50,
   "metadata": {},
   "outputs": [
    {
     "data": {
      "text/plain": [
       "''"
      ]
     },
     "execution_count": 50,
     "metadata": {},
     "output_type": "execute_result"
    },
    {
     "data": {
      "image/png": "[encoded data removed]",
      "text/plain": [
       "<Figure size 720x360 with 1 Axes>"
      ]
     },
     "metadata": {
      "needs_background": "light"
     },
     "output_type": "display_data"
    }
   ],
   "source": [
    "fig, ax = plt.subplots(figsize=(10,5))\n",
    "mt_dui.stop_datetime.dt.hour.value_counts().sort_index().plot(kind='bar', rot=0, color=blue)\n",
    "plt.title('Total DUI Traffic Stops by Hour: 2009-2016')\n",
    "plt.xlabel('24 hour clock', labelpad=10)\n",
    ";"
   ]
  },
  {
   "cell_type": "raw",
   "metadata": {},
   "source": [
    "It doesn't come as a big suprise that ~50% of all DUI stops occur between 10pm and 2am in the morning.\n",
    "\n",
    "There is a stark difference in the percentage of DUI stops in the dataset which occur at 2am (10.6% ) compared to the percentage of DUI stops which occur at 3am (3.4%) and 4am (1.0%). This can most likely be explained by the fact that many bars and/or parties shut down around 2-3am and people head home for the night. "
   ]
  },
  {
   "cell_type": "markdown",
   "metadata": {},
   "source": [
    "#### Do most DUI stops occur on the weekend?"
   ]
  },
  {
   "cell_type": "code",
   "execution_count": 51,
   "metadata": {},
   "outputs": [
    {
     "data": {
      "text/plain": [
       "Monday       0.091010\n",
       "Tuesday      0.090269\n",
       "Wednesday    0.088664\n",
       "Thursday     0.112497\n",
       "Friday       0.156952\n",
       "Saturday     0.255495\n",
       "Sunday       0.205112\n",
       "Name: stop_datetime, dtype: float64"
      ]
     },
     "execution_count": 51,
     "metadata": {},
     "output_type": "execute_result"
    }
   ],
   "source": [
    "mt_dui.stop_datetime.dt.weekday_name.value_counts(normalize=True).reindex(index=new_index)"
   ]
  },
  {
   "cell_type": "code",
   "execution_count": 52,
   "metadata": {},
   "outputs": [
    {
     "data": {
      "text/plain": [
       "''"
      ]
     },
     "execution_count": 52,
     "metadata": {},
     "output_type": "execute_result"
    },
    {
     "data": {
      "image/png": "[encoded data removed]",
      "text/plain": [
       "<Figure size 720x360 with 1 Axes>"
      ]
     },
     "metadata": {
      "needs_background": "light"
     },
     "output_type": "display_data"
    }
   ],
   "source": [
    "fig, ax = plt.subplots(figsize=(10,5))\n",
    "mt_dui.stop_datetime.dt.weekday_name.value_counts().reindex(index=new_index).plot(kind='bar', color=blue)\n",
    "plt.title('Total DUI Traffic Stops by Weekday: 2009-2016')\n",
    ";"
   ]
  },
  {
   "cell_type": "raw",
   "metadata": {},
   "source": [
    "61.6% of all DUI stops in the dataset occur on Friday, Saturday and Sunday. \n",
    "\n",
    "It's important to remember that many of the DUI stops occuring on Saturday are probably stops happening on 'Friday night' and the same thing goes for DUI stops occuring on Sunday which are actually happening on 'Saturday night'."
   ]
  },
  {
   "cell_type": "markdown",
   "metadata": {},
   "source": [
    "#### Do most DUI stops involve male drivers?"
   ]
  },
  {
   "cell_type": "code",
   "execution_count": 53,
   "metadata": {},
   "outputs": [
    {
     "data": {
      "text/plain": [
       "M    0.676281\n",
       "F    0.323719\n",
       "Name: driver_gender, dtype: float64"
      ]
     },
     "execution_count": 53,
     "metadata": {},
     "output_type": "execute_result"
    }
   ],
   "source": [
    "# percentage of traffic stops in the entire dataset by gender\n",
    "mt.driver_gender.value_counts(normalize=True)"
   ]
  },
  {
   "cell_type": "code",
   "execution_count": 54,
   "metadata": {},
   "outputs": [
    {
     "data": {
      "text/plain": [
       "M    0.757594\n",
       "F    0.242406\n",
       "Name: driver_gender, dtype: float64"
      ]
     },
     "execution_count": 54,
     "metadata": {},
     "output_type": "execute_result"
    }
   ],
   "source": [
    "# percentage of DUI stops in the entire dataset by gender\n",
    "mt_dui.driver_gender.value_counts(normalize=True)"
   ]
  },
  {
   "cell_type": "raw",
   "metadata": {},
   "source": [
    "Recall that traffic stops involving male drivers make up 67.6% of the entire dataset. Assuming male and female drivers are pulled over for driving under the influence equally, we would expect ~67.6% of the DUI stops in the dataset to involve male drivers.\n",
    "\n",
    "As it turns out, DUI stops involving male drivers make up 75.7% of all the DUI stops in the dataset. According to this dataset, male drivers are noticeably more likely to drive under the influence."
   ]
  }
 ],
 "metadata": {
  "kernelspec": {
   "display_name": "Python 3",
   "language": "python",
   "name": "python3"
  },
  "language_info": {
   "codemirror_mode": {
    "name": "ipython",
    "version": 3
   },
   "file_extension": ".py",
   "mimetype": "text/x-python",
   "name": "python",
   "nbconvert_exporter": "python",
   "pygments_lexer": "ipython3",
   "version": "3.7.1"
  }
 },
 "nbformat": 4,
 "nbformat_minor": 2
}
