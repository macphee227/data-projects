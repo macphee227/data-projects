{
 "cells": [
  {
   "cell_type": "markdown",
   "metadata": {},
   "source": [
    "# Data Cleaning and Analysis: The Stanford Open Policing Project"
   ]
  },
  {
   "cell_type": "raw",
   "metadata": {},
   "source": [
    "https://openpolicing.stanford.edu/\n",
    "\n",
    "Taken from the websites front page: \n",
    "\n",
    "\"On a typical day in the United States, police officers make more than 50,000 traffic stops. Our team is gathering, analyzing, and releasing records from millions of traffic stops by law enforcement agencies across the country. Our goal is to help researchers, journalists, and policymakers investigate and improve interactions between police and the public.\"\n",
    "\n",
    "---------------------------------\n",
    "\n",
    "The following dataset (mt_statewide_2019_08_13.csv) can be found on the Stanford Open Policing Project's website. It contains 825,118 traffic stops made by the Montana State Patrol (MHP) ranging from December 2008 to December 2016. \n",
    "\n",
    "I'm going to clean this dataset and analyze it by answering some interesting questions. The project has been broken down into sections which can be found below in the table of contents:"
   ]
  },
  {
   "cell_type": "markdown",
   "metadata": {},
   "source": [
    "# Table of Contents:\n",
    "\n",
    "## Data Exploration and Cleaning\n",
    " - [Exploring the Dataset](#section1)<br>\n",
    " - [Removing Columns](#section2)<br>\n",
    " - [Handling Missing Values](#section3)<br>\n",
    " - [Column Cleaning](#section4)<br>\n",
    " - [Reordering and Renaming Columns](#section5)<br>\n",
    " - [The Cleaned Dataset](#section6)<br>\n",
    "\n",
    "## Data Analysis and Visualization\n",
    " - [Data Analysis: Questions](#section7)<br>"
   ]
  },
  {
   "cell_type": "markdown",
   "metadata": {},
   "source": [
    "<a id='section1'></a>\n",
    "### Exploring the Dataset"
   ]
  },
  {
   "cell_type": "code",
   "execution_count": 1,
   "metadata": {},
   "outputs": [],
   "source": [
    "import pandas as pd"
   ]
  },
  {
   "cell_type": "code",
   "execution_count": 2,
   "metadata": {},
   "outputs": [],
   "source": [
    "mt = pd.read_csv('mt_statewide_2019_08_13.csv', low_memory=False)"
   ]
  },
  {
   "cell_type": "code",
   "execution_count": 3,
   "metadata": {},
   "outputs": [
    {
     "data": {
      "text/html": [
       "<div>\n",
       "<style scoped>\n",
       "    .dataframe tbody tr th:only-of-type {\n",
       "        vertical-align: middle;\n",
       "    }\n",
       "\n",
       "    .dataframe tbody tr th {\n",
       "        vertical-align: top;\n",
       "    }\n",
       "\n",
       "    .dataframe thead th {\n",
       "        text-align: right;\n",
       "    }\n",
       "</style>\n",
       "<table border=\"1\" class=\"dataframe\">\n",
       "  <thead>\n",
       "    <tr style=\"text-align: right;\">\n",
       "      <th></th>\n",
       "      <th>raw_row_number</th>\n",
       "      <th>date</th>\n",
       "      <th>time</th>\n",
       "      <th>location</th>\n",
       "      <th>lat</th>\n",
       "      <th>lng</th>\n",
       "      <th>county_name</th>\n",
       "      <th>subject_age</th>\n",
       "      <th>subject_race</th>\n",
       "      <th>subject_sex</th>\n",
       "      <th>...</th>\n",
       "      <th>search_basis</th>\n",
       "      <th>reason_for_stop</th>\n",
       "      <th>vehicle_make</th>\n",
       "      <th>vehicle_model</th>\n",
       "      <th>vehicle_type</th>\n",
       "      <th>vehicle_registration_state</th>\n",
       "      <th>vehicle_year</th>\n",
       "      <th>raw_Race</th>\n",
       "      <th>raw_Ethnicity</th>\n",
       "      <th>raw_SearchType</th>\n",
       "    </tr>\n",
       "  </thead>\n",
       "  <tbody>\n",
       "    <tr>\n",
       "      <th>0</th>\n",
       "      <td>1</td>\n",
       "      <td>2009-01-01</td>\n",
       "      <td>02:10:53</td>\n",
       "      <td>US 89 N MM10 (SB)</td>\n",
       "      <td>47.572738</td>\n",
       "      <td>-111.802932</td>\n",
       "      <td>Cascade County</td>\n",
       "      <td>16.0</td>\n",
       "      <td>white</td>\n",
       "      <td>female</td>\n",
       "      <td>...</td>\n",
       "      <td>NaN</td>\n",
       "      <td>--- - HIT AND RUN</td>\n",
       "      <td>FORD</td>\n",
       "      <td>EXPLORER</td>\n",
       "      <td>SPORT UTILITY</td>\n",
       "      <td>MT</td>\n",
       "      <td>1994.0</td>\n",
       "      <td>W</td>\n",
       "      <td>N</td>\n",
       "      <td>NO SEARCH REQUESTED</td>\n",
       "    </tr>\n",
       "    <tr>\n",
       "      <th>1</th>\n",
       "      <td>2</td>\n",
       "      <td>2009-01-02</td>\n",
       "      <td>11:34:19</td>\n",
       "      <td>HWY 93 SO AND ANNS LANE S/B</td>\n",
       "      <td>46.761225</td>\n",
       "      <td>-114.081142</td>\n",
       "      <td>Missoula County</td>\n",
       "      <td>19.0</td>\n",
       "      <td>white</td>\n",
       "      <td>male</td>\n",
       "      <td>...</td>\n",
       "      <td>NaN</td>\n",
       "      <td>EXPIRED TAG ( - MONTHS OR LESS )</td>\n",
       "      <td>GMC</td>\n",
       "      <td>TK</td>\n",
       "      <td>TRUCK</td>\n",
       "      <td>MT</td>\n",
       "      <td>1996.0</td>\n",
       "      <td>W</td>\n",
       "      <td>N</td>\n",
       "      <td>NO SEARCH REQUESTED</td>\n",
       "    </tr>\n",
       "    <tr>\n",
       "      <th>2</th>\n",
       "      <td>3</td>\n",
       "      <td>2009-01-03</td>\n",
       "      <td>11:36:42</td>\n",
       "      <td>P007 HWY 93 MM 77 N/B</td>\n",
       "      <td>46.694683</td>\n",
       "      <td>-114.073505</td>\n",
       "      <td>Missoula County</td>\n",
       "      <td>17.0</td>\n",
       "      <td>white</td>\n",
       "      <td>male</td>\n",
       "      <td>...</td>\n",
       "      <td>NaN</td>\n",
       "      <td>SPEED</td>\n",
       "      <td>GMC</td>\n",
       "      <td>YUKON</td>\n",
       "      <td>SPORT UTILITY</td>\n",
       "      <td>MT</td>\n",
       "      <td>1999.0</td>\n",
       "      <td>W</td>\n",
       "      <td>N</td>\n",
       "      <td>NO SEARCH REQUESTED</td>\n",
       "    </tr>\n",
       "    <tr>\n",
       "      <th>3</th>\n",
       "      <td>4</td>\n",
       "      <td>2009-01-04</td>\n",
       "      <td>10:33:11</td>\n",
       "      <td>P007 HWY 93 MM 81 S/B</td>\n",
       "      <td>46.727388</td>\n",
       "      <td>-114.079027</td>\n",
       "      <td>Missoula County</td>\n",
       "      <td>17.0</td>\n",
       "      <td>NaN</td>\n",
       "      <td>female</td>\n",
       "      <td>...</td>\n",
       "      <td>NaN</td>\n",
       "      <td>SPEED</td>\n",
       "      <td>HOND</td>\n",
       "      <td>CR-V</td>\n",
       "      <td>SPORT UTILITY</td>\n",
       "      <td>MT</td>\n",
       "      <td>2002.0</td>\n",
       "      <td>W</td>\n",
       "      <td>NaN</td>\n",
       "      <td>NaN</td>\n",
       "    </tr>\n",
       "    <tr>\n",
       "      <th>4</th>\n",
       "      <td>5</td>\n",
       "      <td>2009-01-04</td>\n",
       "      <td>10:46:43</td>\n",
       "      <td>P007 HWY 93 MM 81 N/B</td>\n",
       "      <td>46.729518</td>\n",
       "      <td>-114.079150</td>\n",
       "      <td>Missoula County</td>\n",
       "      <td>31.0</td>\n",
       "      <td>NaN</td>\n",
       "      <td>male</td>\n",
       "      <td>...</td>\n",
       "      <td>NaN</td>\n",
       "      <td>SPEED</td>\n",
       "      <td>TOYT</td>\n",
       "      <td>TERCEL</td>\n",
       "      <td>SEDAN</td>\n",
       "      <td>MT</td>\n",
       "      <td>1992.0</td>\n",
       "      <td>I</td>\n",
       "      <td>NaN</td>\n",
       "      <td>NaN</td>\n",
       "    </tr>\n",
       "  </tbody>\n",
       "</table>\n",
       "<p>5 rows × 29 columns</p>\n",
       "</div>"
      ],
      "text/plain": [
       "   raw_row_number        date      time                     location  \\\n",
       "0               1  2009-01-01  02:10:53            US 89 N MM10 (SB)   \n",
       "1               2  2009-01-02  11:34:19  HWY 93 SO AND ANNS LANE S/B   \n",
       "2               3  2009-01-03  11:36:42        P007 HWY 93 MM 77 N/B   \n",
       "3               4  2009-01-04  10:33:11        P007 HWY 93 MM 81 S/B   \n",
       "4               5  2009-01-04  10:46:43        P007 HWY 93 MM 81 N/B   \n",
       "\n",
       "         lat         lng      county_name  subject_age subject_race  \\\n",
       "0  47.572738 -111.802932   Cascade County         16.0        white   \n",
       "1  46.761225 -114.081142  Missoula County         19.0        white   \n",
       "2  46.694683 -114.073505  Missoula County         17.0        white   \n",
       "3  46.727388 -114.079027  Missoula County         17.0          NaN   \n",
       "4  46.729518 -114.079150  Missoula County         31.0          NaN   \n",
       "\n",
       "  subject_sex         ...          search_basis  \\\n",
       "0      female         ...                   NaN   \n",
       "1        male         ...                   NaN   \n",
       "2        male         ...                   NaN   \n",
       "3      female         ...                   NaN   \n",
       "4        male         ...                   NaN   \n",
       "\n",
       "                    reason_for_stop vehicle_make  vehicle_model  \\\n",
       "0                 --- - HIT AND RUN         FORD       EXPLORER   \n",
       "1  EXPIRED TAG ( - MONTHS OR LESS )          GMC             TK   \n",
       "2                             SPEED          GMC          YUKON   \n",
       "3                             SPEED         HOND           CR-V   \n",
       "4                             SPEED         TOYT         TERCEL   \n",
       "\n",
       "    vehicle_type  vehicle_registration_state vehicle_year raw_Race  \\\n",
       "0  SPORT UTILITY                          MT       1994.0        W   \n",
       "1          TRUCK                          MT       1996.0        W   \n",
       "2  SPORT UTILITY                          MT       1999.0        W   \n",
       "3  SPORT UTILITY                          MT       2002.0        W   \n",
       "4          SEDAN                          MT       1992.0        I   \n",
       "\n",
       "   raw_Ethnicity       raw_SearchType  \n",
       "0              N  NO SEARCH REQUESTED  \n",
       "1              N  NO SEARCH REQUESTED  \n",
       "2              N  NO SEARCH REQUESTED  \n",
       "3            NaN                  NaN  \n",
       "4            NaN                  NaN  \n",
       "\n",
       "[5 rows x 29 columns]"
      ]
     },
     "execution_count": 3,
     "metadata": {},
     "output_type": "execute_result"
    }
   ],
   "source": [
    "mt.head()"
   ]
  },
  {
   "cell_type": "code",
   "execution_count": 4,
   "metadata": {},
   "outputs": [
    {
     "data": {
      "text/plain": [
       "(825118, 29)"
      ]
     },
     "execution_count": 4,
     "metadata": {},
     "output_type": "execute_result"
    }
   ],
   "source": [
    "mt.shape"
   ]
  },
  {
   "cell_type": "code",
   "execution_count": 5,
   "metadata": {},
   "outputs": [
    {
     "data": {
      "text/plain": [
       "raw_row_number                  int64\n",
       "date                           object\n",
       "time                           object\n",
       "location                       object\n",
       "lat                           float64\n",
       "lng                           float64\n",
       "county_name                    object\n",
       "subject_age                   float64\n",
       "subject_race                   object\n",
       "subject_sex                    object\n",
       "department_name                object\n",
       "type                           object\n",
       "violation                      object\n",
       "arrest_made                      bool\n",
       "citation_issued                  bool\n",
       "warning_issued                   bool\n",
       "outcome                        object\n",
       "frisk_performed                object\n",
       "search_conducted                 bool\n",
       "search_basis                   object\n",
       "reason_for_stop                object\n",
       "vehicle_make                   object\n",
       "vehicle_model                  object\n",
       "vehicle_type                   object\n",
       "vehicle_registration_state     object\n",
       "vehicle_year                  float64\n",
       "raw_Race                       object\n",
       "raw_Ethnicity                  object\n",
       "raw_SearchType                 object\n",
       "dtype: object"
      ]
     },
     "execution_count": 5,
     "metadata": {},
     "output_type": "execute_result"
    }
   ],
   "source": [
    "mt.dtypes"
   ]
  },
  {
   "cell_type": "markdown",
   "metadata": {},
   "source": [
    "<a id='section2'></a>\n",
    "### Removing Columns"
   ]
  },
  {
   "cell_type": "code",
   "execution_count": 6,
   "metadata": {},
   "outputs": [],
   "source": [
    "cols_to_drop = [\n",
    "    'raw_row_number',\n",
    "    'location',\n",
    "    'lat',\n",
    "    'lng',\n",
    "    'county_name',\n",
    "    'subject_race',\n",
    "    'department_name',\n",
    "    'type',\n",
    "    'search_basis',\n",
    "    'vehicle_model',\n",
    "    'vehicle_registration_state',\n",
    "    'raw_Race',\n",
    "    'raw_Ethnicity',\n",
    "    'raw_SearchType'\n",
    "]\n",
    "\n",
    "mt.drop(cols_to_drop, axis=1, inplace=True)"
   ]
  },
  {
   "cell_type": "markdown",
   "metadata": {},
   "source": [
    "<a id='section3'></a>\n",
    "### Handling Missing Values"
   ]
  },
  {
   "cell_type": "code",
   "execution_count": 7,
   "metadata": {},
   "outputs": [
    {
     "data": {
      "text/plain": [
       "date                0.001333\n",
       "time                0.001333\n",
       "subject_age         0.392186\n",
       "subject_sex         0.014422\n",
       "violation           0.008847\n",
       "arrest_made         0.000000\n",
       "citation_issued     0.000000\n",
       "warning_issued      0.000000\n",
       "outcome             0.030299\n",
       "frisk_performed     0.011392\n",
       "search_conducted    0.000000\n",
       "reason_for_stop     0.001333\n",
       "vehicle_make        0.517259\n",
       "vehicle_type        7.921534\n",
       "vehicle_year        0.953682\n",
       "dtype: float64"
      ]
     },
     "execution_count": 7,
     "metadata": {},
     "output_type": "execute_result"
    }
   ],
   "source": [
    "# missing values as a % of the whole dataset\n",
    "mt.isna().sum()/len(mt)*100"
   ]
  },
  {
   "cell_type": "code",
   "execution_count": 8,
   "metadata": {},
   "outputs": [],
   "source": [
    "mt.dropna(inplace=True)"
   ]
  },
  {
   "cell_type": "markdown",
   "metadata": {},
   "source": [
    "<a id='section4'></a>\n",
    "### Column Cleaning "
   ]
  },
  {
   "cell_type": "code",
   "execution_count": 10,
   "metadata": {},
   "outputs": [],
   "source": [
    "combined = mt.date.str.cat(mt.time, sep=' ')\n",
    "mt['stop_datetime'] = pd.to_datetime(combined)\n",
    "mt.drop(['date', 'time'], axis=1, inplace=True)"
   ]
  },
  {
   "cell_type": "code",
   "execution_count": 11,
   "metadata": {},
   "outputs": [],
   "source": [
    "mt['subject_age'] = mt.subject_age.astype(int)\n",
    "mt['vehicle_year'] = mt.vehicle_year.astype(int)"
   ]
  },
  {
   "cell_type": "code",
   "execution_count": 12,
   "metadata": {},
   "outputs": [],
   "source": [
    "mt['outcome'] = mt.outcome.map({'warning': 'Warning', 'citation': 'Citation', 'arrest': 'Arrest'})"
   ]
  },
  {
   "cell_type": "code",
   "execution_count": 13,
   "metadata": {},
   "outputs": [],
   "source": [
    "mt['subject_sex'] = mt.subject_sex.map({'male': 'M', 'female': 'F'})"
   ]
  },
  {
   "cell_type": "code",
   "execution_count": 14,
   "metadata": {},
   "outputs": [],
   "source": [
    "mt.loc[mt.vehicle_make.str.contains('FORD'), 'vehicle_make'] = 'FORD'\n",
    "mt.loc[mt.vehicle_make.str.contains('CHEV'), 'vehicle_make'] = 'CHEVROLET'\n",
    "mt.loc[mt.vehicle_make.str.contains('DODG'), 'vehicle_make'] = 'DODGE'\n",
    "mt.loc[mt.vehicle_make.str.contains('TOYO'), 'vehicle_make'] = 'TOYOTA'\n",
    "mt.loc[mt.vehicle_make.str.contains('NISS'), 'vehicle_make'] = 'NISSAN'\n",
    "mt.loc[mt.vehicle_make.str.contains('GMC'), 'vehicle_make'] = 'GMC'\n",
    "mt.loc[mt.vehicle_make.str.contains('SUBA'), 'vehicle_make'] = 'SUBARU'\n",
    "mt.loc[mt.vehicle_make.str.contains('PONT'), 'vehicle_make'] = 'PONTIAC'\n",
    "mt.loc[mt.vehicle_make.str.contains('JEEP'), 'vehicle_make'] = 'JEEP'\n",
    "mt.loc[mt.vehicle_make.str.contains('HOND'), 'vehicle_make'] = 'HONDA'\n",
    "mt.loc[mt.vehicle_make.str.contains('BUIC'), 'vehicle_make'] = 'BUICK'\n",
    "mt.loc[mt.vehicle_make.str.contains('VOLV'), 'vehicle_make'] = 'VOLVO'\n",
    "mt.loc[mt.vehicle_make.str.contains('VOLKS'), 'vehicle_make'] = 'VOLKSWAGEN'\n",
    "mt.loc[mt.vehicle_make.str.contains('CHRY'), 'vehicle_make'] = 'CHRYSTLER'\n",
    "mt.loc[mt.vehicle_make.str.contains('OLD'), 'vehicle_make'] = 'OLDSMOBILE'\n",
    "mt.loc[mt.vehicle_make.str.contains('CADI'), 'vehicle_make'] = 'CADILLAC'\n",
    "mt.loc[mt.vehicle_make.str.contains('MAZD'), 'vehicle_make'] = 'MAZDA'\n",
    "mt.loc[mt.vehicle_make.str.contains('HYUN'), 'vehicle_make'] = 'HYUNDAI'\n",
    "mt.loc[mt.vehicle_make.str.contains('KIA'), 'vehicle_make'] = 'KIA'\n",
    "mt.loc[mt.vehicle_make.str.contains('MERC'), 'vehicle_make'] = 'MERCURY'\n",
    "mt.loc[mt.vehicle_make.str.contains('AUDI'), 'vehicle_make'] = 'AUDI'\n",
    "mt.loc[mt.vehicle_make.str.contains('BMW'), 'vehicle_make'] = 'BMW'\n",
    "mt.loc[mt.vehicle_make.str.contains('MITSU'), 'vehicle_make'] = 'MITSUBISHI'"
   ]
  },
  {
   "cell_type": "code",
   "execution_count": 15,
   "metadata": {},
   "outputs": [],
   "source": [
    "mt.loc[mt.vehicle_type.str.contains('TRUCK|Truck|truck|PICKUP|Pickup|pickup'), 'vehicle_type'] = 'PICKUP'\n",
    "mt.loc[mt.vehicle_type.str.contains('SEDAN|Sedan|sedan'), 'vehicle_type'] = 'SEDAN'\n",
    "mt.loc[mt.vehicle_type.str.contains('SPORT UTILITY|Sport Utility|sport utility|UTILITY|Utility|utility'), 'vehicle_type'] = 'SUV'\n",
    "mt.loc[mt.vehicle_type.str.contains('VAN|Van|van'), 'vehicle_type'] = 'VAN'\n",
    "mt.loc[mt.vehicle_type.str.contains('COUPE|Coupe|coupe'), 'vehicle_type'] = 'COUPE'\n",
    "mt.loc[mt.vehicle_type.str.contains('MOTORCYCLE|Motorcycle|motorcycle|MOTORBIKE|Motorbike|motorbike'), 'vehicle_type'] = 'MOTORCYCLE'\n",
    "mt.loc[mt.vehicle_type.str.contains('HATCHBACK|Hatchback|hatchback'), 'vehicle_type'] = 'HATCHBACK'\n",
    "mt.loc[mt.vehicle_type.str.contains('TRACTOR|Tractor|tractor'), 'vehicle_type'] = 'TRACTOR'"
   ]
  },
  {
   "cell_type": "code",
   "execution_count": 16,
   "metadata": {},
   "outputs": [],
   "source": [
    "mt['reason_for_stop'] = mt.reason_for_stop.str.replace('--- - ','')\n",
    "mt.loc[mt.reason_for_stop.str.lower().str.contains('speed'), 'reason_for_stop'] = 'Speeding'\n",
    "mt.loc[mt.reason_for_stop.str.lower().str.contains('revoked|license|plate|registration|cmv|inspection|permit|insurance'), 'reason_for_stop'] = 'License/Registration/Plates'\n",
    "mt.loc[mt.reason_for_stop.str.lower().str.contains('improper|light|violation|stop|driving|right of way|hazard|crossing|too close'), 'reason_for_stop'] = 'Moving Violation'\n",
    "mt.loc[mt.reason_for_stop.str.lower().str.contains('debris|restrictive|load|defective|equipment|size|weight|height|smoke|exhaust|width|length|container|axle'), 'reason_for_stop'] = 'Equipment'\n",
    "mt.loc[~(mt.reason_for_stop.str.contains('Speeding|Moving Violation|License/Registration/Plates|Equipment')), 'reason_for_stop'] = 'Other'"
   ]
  },
  {
   "cell_type": "code",
   "execution_count": 17,
   "metadata": {},
   "outputs": [],
   "source": [
    "mt['violation'] = mt.violation.str.replace(r'\\d{3} - ', '', regex=True).str.split('|')\n",
    "mt['num_violations'] = mt.violation.apply(lambda x: len(x))"
   ]
  },
  {
   "cell_type": "markdown",
   "metadata": {},
   "source": [
    "<a id='section5'></a>\n",
    "### Reordering and Renaming Columns"
   ]
  },
  {
   "cell_type": "code",
   "execution_count": 25,
   "metadata": {},
   "outputs": [],
   "source": [
    "new_col_order = [\n",
    "    'stop_datetime',\n",
    "    'subject_age',\n",
    "    'subject_sex',\n",
    "    'vehicle_make',\n",
    "    'vehicle_type',\n",
    "    'vehicle_year',\n",
    "    'reason_for_stop',\n",
    "    'outcome',\n",
    "    'violation',\n",
    "    'num_violations',\n",
    "    'warning_issued',\n",
    "    'citation_issued',\n",
    "    'arrest_made',\n",
    "    'frisk_performed',\n",
    "    'search_conducted'\n",
    "]\n",
    "\n",
    "mt = mt[new_col_order]"
   ]
  },
  {
   "cell_type": "code",
   "execution_count": 27,
   "metadata": {},
   "outputs": [],
   "source": [
    "column_mapper = {\n",
    "    'subject_age': 'driver_age',\n",
    "    'subject_sex': 'driver_gender',\n",
    "    'vehicle_make': 'vehicle_brand',\n",
    "    'reason_for_stop': 'stop_reason'\n",
    "}\n",
    "\n",
    "mt.rename(column_mapper, axis=1, inplace=True)"
   ]
  },
  {
   "cell_type": "markdown",
   "metadata": {},
   "source": [
    "<a id='section6'></a>\n",
    "### The Cleaned Dataset "
   ]
  },
  {
   "cell_type": "code",
   "execution_count": 28,
   "metadata": {},
   "outputs": [
    {
     "data": {
      "text/html": [
       "<div>\n",
       "<style scoped>\n",
       "    .dataframe tbody tr th:only-of-type {\n",
       "        vertical-align: middle;\n",
       "    }\n",
       "\n",
       "    .dataframe tbody tr th {\n",
       "        vertical-align: top;\n",
       "    }\n",
       "\n",
       "    .dataframe thead th {\n",
       "        text-align: right;\n",
       "    }\n",
       "</style>\n",
       "<table border=\"1\" class=\"dataframe\">\n",
       "  <thead>\n",
       "    <tr style=\"text-align: right;\">\n",
       "      <th></th>\n",
       "      <th>stop_datetime</th>\n",
       "      <th>driver_age</th>\n",
       "      <th>driver_gender</th>\n",
       "      <th>vehicle_brand</th>\n",
       "      <th>vehicle_type</th>\n",
       "      <th>vehicle_year</th>\n",
       "      <th>stop_reason</th>\n",
       "      <th>outcome</th>\n",
       "      <th>violation</th>\n",
       "      <th>num_violations</th>\n",
       "      <th>warning_issued</th>\n",
       "      <th>citation_issued</th>\n",
       "      <th>arrest_made</th>\n",
       "      <th>frisk_performed</th>\n",
       "      <th>search_conducted</th>\n",
       "    </tr>\n",
       "  </thead>\n",
       "  <tbody>\n",
       "    <tr>\n",
       "      <th>0</th>\n",
       "      <td>2009-01-01 02:10:53</td>\n",
       "      <td>16</td>\n",
       "      <td>F</td>\n",
       "      <td>FORD</td>\n",
       "      <td>SUV</td>\n",
       "      <td>1994</td>\n",
       "      <td>Other</td>\n",
       "      <td>Citation</td>\n",
       "      <td>[INSURANCE, HIT AND RUN, OTHER NON-HAZARDOUS]</td>\n",
       "      <td>3</td>\n",
       "      <td>True</td>\n",
       "      <td>True</td>\n",
       "      <td>False</td>\n",
       "      <td>False</td>\n",
       "      <td>False</td>\n",
       "    </tr>\n",
       "    <tr>\n",
       "      <th>1</th>\n",
       "      <td>2009-01-02 11:34:19</td>\n",
       "      <td>19</td>\n",
       "      <td>M</td>\n",
       "      <td>GMC</td>\n",
       "      <td>PICKUP</td>\n",
       "      <td>1996</td>\n",
       "      <td>Other</td>\n",
       "      <td>Arrest</td>\n",
       "      <td>[EXPIRED TAG ( 4 MONTHS OR LESS ), SEATBELT ( ...</td>\n",
       "      <td>3</td>\n",
       "      <td>True</td>\n",
       "      <td>False</td>\n",
       "      <td>True</td>\n",
       "      <td>False</td>\n",
       "      <td>False</td>\n",
       "    </tr>\n",
       "    <tr>\n",
       "      <th>2</th>\n",
       "      <td>2009-01-03 11:36:42</td>\n",
       "      <td>17</td>\n",
       "      <td>M</td>\n",
       "      <td>GMC</td>\n",
       "      <td>SUV</td>\n",
       "      <td>1999</td>\n",
       "      <td>Speeding</td>\n",
       "      <td>Arrest</td>\n",
       "      <td>[SPEED]</td>\n",
       "      <td>1</td>\n",
       "      <td>False</td>\n",
       "      <td>False</td>\n",
       "      <td>True</td>\n",
       "      <td>False</td>\n",
       "      <td>False</td>\n",
       "    </tr>\n",
       "    <tr>\n",
       "      <th>6</th>\n",
       "      <td>2009-01-04 17:45:40</td>\n",
       "      <td>30</td>\n",
       "      <td>M</td>\n",
       "      <td>SUBARU</td>\n",
       "      <td>PK</td>\n",
       "      <td>2006</td>\n",
       "      <td>Equipment</td>\n",
       "      <td>Citation</td>\n",
       "      <td>[INSURANCE]</td>\n",
       "      <td>1</td>\n",
       "      <td>False</td>\n",
       "      <td>True</td>\n",
       "      <td>False</td>\n",
       "      <td>False</td>\n",
       "      <td>False</td>\n",
       "    </tr>\n",
       "    <tr>\n",
       "      <th>8</th>\n",
       "      <td>2009-01-06 16:45:12</td>\n",
       "      <td>21</td>\n",
       "      <td>M</td>\n",
       "      <td>BMW</td>\n",
       "      <td>4D</td>\n",
       "      <td>1992</td>\n",
       "      <td>Speeding</td>\n",
       "      <td>Citation</td>\n",
       "      <td>[SPEED OVER LEGAL]</td>\n",
       "      <td>1</td>\n",
       "      <td>False</td>\n",
       "      <td>True</td>\n",
       "      <td>False</td>\n",
       "      <td>False</td>\n",
       "      <td>False</td>\n",
       "    </tr>\n",
       "  </tbody>\n",
       "</table>\n",
       "</div>"
      ],
      "text/plain": [
       "        stop_datetime  driver_age driver_gender vehicle_brand vehicle_type  \\\n",
       "0 2009-01-01 02:10:53          16             F          FORD          SUV   \n",
       "1 2009-01-02 11:34:19          19             M           GMC       PICKUP   \n",
       "2 2009-01-03 11:36:42          17             M           GMC          SUV   \n",
       "6 2009-01-04 17:45:40          30             M        SUBARU           PK   \n",
       "8 2009-01-06 16:45:12          21             M           BMW           4D   \n",
       "\n",
       "   vehicle_year stop_reason   outcome  \\\n",
       "0          1994       Other  Citation   \n",
       "1          1996       Other    Arrest   \n",
       "2          1999    Speeding    Arrest   \n",
       "6          2006   Equipment  Citation   \n",
       "8          1992    Speeding  Citation   \n",
       "\n",
       "                                           violation  num_violations  \\\n",
       "0      [INSURANCE, HIT AND RUN, OTHER NON-HAZARDOUS]               3   \n",
       "1  [EXPIRED TAG ( 4 MONTHS OR LESS ), SEATBELT ( ...               3   \n",
       "2                                            [SPEED]               1   \n",
       "6                                        [INSURANCE]               1   \n",
       "8                                 [SPEED OVER LEGAL]               1   \n",
       "\n",
       "   warning_issued  citation_issued  arrest_made frisk_performed  \\\n",
       "0            True             True        False           False   \n",
       "1            True            False         True           False   \n",
       "2           False            False         True           False   \n",
       "6           False             True        False           False   \n",
       "8           False             True        False           False   \n",
       "\n",
       "   search_conducted  \n",
       "0             False  \n",
       "1             False  \n",
       "2             False  \n",
       "6             False  \n",
       "8             False  "
      ]
     },
     "execution_count": 28,
     "metadata": {},
     "output_type": "execute_result"
    }
   ],
   "source": [
    "mt.head()"
   ]
  },
  {
   "cell_type": "code",
   "execution_count": 38,
   "metadata": {},
   "outputs": [
    {
     "name": "stdout",
     "output_type": "stream",
     "text": [
      "91.37% of the original dataset remains after data cleaning.\n"
     ]
    }
   ],
   "source": [
    "print('{:.2f}% of the original dataset remains after data cleaning.'.format((mt.shape[0]/825118)*100))"
   ]
  },
  {
   "cell_type": "markdown",
   "metadata": {},
   "source": [
    "<a id='section7'></a>\n",
    "### Data Analysis: Questions"
   ]
  },
  {
   "cell_type": "raw",
   "metadata": {},
   "source": [
    "Make a set of questions for analysis:"
   ]
  },
  {
   "cell_type": "code",
   "execution_count": null,
   "metadata": {},
   "outputs": [],
   "source": []
  },
  {
   "cell_type": "code",
   "execution_count": null,
   "metadata": {},
   "outputs": [],
   "source": []
  },
  {
   "cell_type": "code",
   "execution_count": null,
   "metadata": {},
   "outputs": [],
   "source": []
  },
  {
   "cell_type": "code",
   "execution_count": null,
   "metadata": {},
   "outputs": [],
   "source": []
  },
  {
   "cell_type": "code",
   "execution_count": null,
   "metadata": {},
   "outputs": [],
   "source": []
  },
  {
   "cell_type": "code",
   "execution_count": null,
   "metadata": {},
   "outputs": [],
   "source": []
  },
  {
   "cell_type": "code",
   "execution_count": 21,
   "metadata": {},
   "outputs": [
    {
     "data": {
      "text/plain": [
       "<matplotlib.axes._subplots.AxesSubplot at 0x1be08f11e48>"
      ]
     },
     "execution_count": 21,
     "metadata": {},
     "output_type": "execute_result"
    }
   ],
   "source": [
    "# traffic stops by day of the week\n",
    "new_index = ['Monday', 'Tuesday', 'Wednesday', 'Thursday', 'Friday', 'Saturday', 'Sunday']\n",
    "mt.stop_datetime.dt.weekday_name.value_counts().reindex(index=new_index).plot(kind='bar')"
   ]
  },
  {
   "cell_type": "code",
   "execution_count": 22,
   "metadata": {},
   "outputs": [
    {
     "data": {
      "text/plain": [
       "<matplotlib.axes._subplots.AxesSubplot at 0x1be0912f320>"
      ]
     },
     "execution_count": 22,
     "metadata": {},
     "output_type": "execute_result"
    },
    {
     "data": {
      "image/png": "[encoded data removed]",
      "text/plain": [
       "<Figure size 432x288 with 1 Axes>"
      ]
     },
     "metadata": {
      "needs_background": "light"
     },
     "output_type": "display_data"
    }
   ],
   "source": [
    "mt.stop_datetime.dt.hour.value_counts().sort_index().plot(kind='bar')"
   ]
  }
 ],
 "metadata": {
  "kernelspec": {
   "display_name": "Python 3",
   "language": "python",
   "name": "python3"
  },
  "language_info": {
   "codemirror_mode": {
    "name": "ipython",
    "version": 3
   },
   "file_extension": ".py",
   "mimetype": "text/x-python",
   "name": "python",
   "nbconvert_exporter": "python",
   "pygments_lexer": "ipython3",
   "version": "3.7.1"
  }
 },
 "nbformat": 4,
 "nbformat_minor": 2
}
