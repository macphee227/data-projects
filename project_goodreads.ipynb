{
 "cells": [
  {
   "cell_type": "markdown",
   "metadata": {},
   "source": [
    "# Project: Books on Goodreads"
   ]
  },
  {
   "cell_type": "raw",
   "metadata": {},
   "source": [
    "Goodreads is a website that both my wife and I consult regularly when looking for new books to read. So naturally I was thrilled when I found this dataset as it presents a fun opportunity to perform some data cleaning and analysis. As an added bonus, I'll get some insight towards my next book purchase!\n",
    "\n",
    "The process for this project will be as follows:\n",
    "\n",
    "1) Inspect the dataset.\n",
    "2) Complete any neccessary data cleaning to make the dataset as useable as possible.\n",
    "3) Visualize/Analyze the cleaned dataset to answer the following questions:\n",
    "\n",
    "- Are popular authors mostly male? Are they mostly female?\n",
    "- What are the most popular genres on Goodreads?"
   ]
  },
  {
   "cell_type": "markdown",
   "metadata": {},
   "source": [
    "# Introduction to the dataset"
   ]
  },
  {
   "cell_type": "raw",
   "metadata": {},
   "source": [
    "The following dataset contains 20,000 books web-scraped from popular book lists on www.goodreads.com. Credit for the dataset goes to the Kaggle user Ben Rosen. \n",
    "\n",
    "Unforunately there isn't a data dictionary provided with the dataset, however we can easily figure out what data is contained in each column as the column names are luckily very intuitive:\n",
    "\n",
    "author_average_rating\n",
    "author_gender\n",
    "author_genres: genres that the author writes\n",
    "author_id: the author's id on Goodreads, useful for isolating unique authors\n",
    "author_name\n",
    "author_page_url: a link to the author's bio page on Goodreads\n",
    "author_rating_count\n",
    "author_review_count\n",
    "birthplace\n",
    "\n",
    "book_average_rating\n",
    "book_fullurl: a link to the book's page on Goodreads)\n",
    "book_id: the book's id on Goodreads, useful for isolating unique books\n",
    "book_title\n",
    "genre_1\n",
    "genre_2 \n",
    "num_ratings\n",
    "num_reviews\n",
    "pages\n",
    "publish_date"
   ]
  },
  {
   "cell_type": "code",
   "execution_count": 1,
   "metadata": {},
   "outputs": [],
   "source": [
    "import numpy as np\n",
    "import pandas as pd\n",
    "import seaborn as sns\n",
    "import matplotlib.pyplot as plt\n",
    "%matplotlib inline"
   ]
  },
  {
   "cell_type": "code",
   "execution_count": 2,
   "metadata": {},
   "outputs": [],
   "source": [
    "# reading the dataset into a dataframe\n",
    "data = pd.read_csv('goodreads.csv')"
   ]
  },
  {
   "cell_type": "code",
   "execution_count": 3,
   "metadata": {},
   "outputs": [
    {
     "data": {
      "text/html": [
       "<div>\n",
       "<style scoped>\n",
       "    .dataframe tbody tr th:only-of-type {\n",
       "        vertical-align: middle;\n",
       "    }\n",
       "\n",
       "    .dataframe tbody tr th {\n",
       "        vertical-align: top;\n",
       "    }\n",
       "\n",
       "    .dataframe thead th {\n",
       "        text-align: right;\n",
       "    }\n",
       "</style>\n",
       "<table border=\"1\" class=\"dataframe\">\n",
       "  <thead>\n",
       "    <tr style=\"text-align: right;\">\n",
       "      <th></th>\n",
       "      <th>author_average_rating</th>\n",
       "      <th>author_gender</th>\n",
       "      <th>author_genres</th>\n",
       "      <th>author_id</th>\n",
       "      <th>author_name</th>\n",
       "      <th>author_page_url</th>\n",
       "      <th>author_rating_count</th>\n",
       "      <th>author_review_count</th>\n",
       "      <th>birthplace</th>\n",
       "      <th>book_average_rating</th>\n",
       "      <th>book_fullurl</th>\n",
       "      <th>book_id</th>\n",
       "      <th>book_title</th>\n",
       "      <th>genre_1</th>\n",
       "      <th>genre_2</th>\n",
       "      <th>num_ratings</th>\n",
       "      <th>num_reviews</th>\n",
       "      <th>pages</th>\n",
       "      <th>publish_date</th>\n",
       "      <th>score</th>\n",
       "    </tr>\n",
       "  </thead>\n",
       "  <tbody>\n",
       "    <tr>\n",
       "      <th>0</th>\n",
       "      <td>4.01</td>\n",
       "      <td>female</td>\n",
       "      <td>historical-fiction,</td>\n",
       "      <td>74489</td>\n",
       "      <td>Victoria Thompson\\n</td>\n",
       "      <td>/author/show/74489.Victoria_Thompson</td>\n",
       "      <td>74399</td>\n",
       "      <td>6268</td>\n",
       "      <td>United States\\n</td>\n",
       "      <td>4.02</td>\n",
       "      <td>https://www.goodreads.com/book/show/686717.Mur...</td>\n",
       "      <td>686717</td>\n",
       "      <td>\\n      Murder on St. Mark's Place\\n</td>\n",
       "      <td>Mystery</td>\n",
       "      <td>Historical</td>\n",
       "      <td>5260</td>\n",
       "      <td>375</td>\n",
       "      <td>277</td>\n",
       "      <td>2000</td>\n",
       "      <td>3230</td>\n",
       "    </tr>\n",
       "    <tr>\n",
       "      <th>1</th>\n",
       "      <td>4.15</td>\n",
       "      <td>male</td>\n",
       "      <td>literature-fiction,mystery-thrillers,</td>\n",
       "      <td>706255</td>\n",
       "      <td>Stieg Larsson\\n</td>\n",
       "      <td>/author/show/706255.Stieg_Larsson</td>\n",
       "      <td>3726435</td>\n",
       "      <td>142704</td>\n",
       "      <td>Sweden\\n</td>\n",
       "      <td>4.13</td>\n",
       "      <td>https://www.goodreads.com/book/show/2429135.Th...</td>\n",
       "      <td>2429135</td>\n",
       "      <td>\\n      The Girl with the Dragon Tattoo\\n</td>\n",
       "      <td>Fiction</td>\n",
       "      <td>Mystery</td>\n",
       "      <td>2229163</td>\n",
       "      <td>65227</td>\n",
       "      <td>465</td>\n",
       "      <td>August 2005</td>\n",
       "      <td>3062</td>\n",
       "    </tr>\n",
       "    <tr>\n",
       "      <th>2</th>\n",
       "      <td>4.00</td>\n",
       "      <td>female</td>\n",
       "      <td>romance,</td>\n",
       "      <td>5618190</td>\n",
       "      <td>Mimi Jean Pamfiloff\\n</td>\n",
       "      <td>/author/show/5618190.Mimi_Jean_Pamfiloff</td>\n",
       "      <td>76496</td>\n",
       "      <td>7975</td>\n",
       "      <td>United States\\n</td>\n",
       "      <td>3.99</td>\n",
       "      <td>https://www.goodreads.com/book/show/27833684-t...</td>\n",
       "      <td>27833684</td>\n",
       "      <td>\\n      Tailored for Trouble\\n</td>\n",
       "      <td>Romance</td>\n",
       "      <td>Contemporary</td>\n",
       "      <td>2151</td>\n",
       "      <td>391</td>\n",
       "      <td>354</td>\n",
       "      <td>2016</td>\n",
       "      <td>4585</td>\n",
       "    </tr>\n",
       "    <tr>\n",
       "      <th>3</th>\n",
       "      <td>3.88</td>\n",
       "      <td>male</td>\n",
       "      <td>fiction,memoir,</td>\n",
       "      <td>37871</td>\n",
       "      <td>José Donoso\\n</td>\n",
       "      <td>/author/show/37871.Jos_Donoso</td>\n",
       "      <td>5522</td>\n",
       "      <td>489</td>\n",
       "      <td>Chile\\n</td>\n",
       "      <td>4.14</td>\n",
       "      <td>https://www.goodreads.com/book/show/382975.The...</td>\n",
       "      <td>382975</td>\n",
       "      <td>\\n      The Obscene Bird of Night\\n</td>\n",
       "      <td>Fiction</td>\n",
       "      <td>Magical Realism</td>\n",
       "      <td>1844</td>\n",
       "      <td>173</td>\n",
       "      <td>438</td>\n",
       "      <td>1970</td>\n",
       "      <td>1533</td>\n",
       "    </tr>\n",
       "    <tr>\n",
       "      <th>4</th>\n",
       "      <td>4.10</td>\n",
       "      <td>female</td>\n",
       "      <td>young-adult,fantasy,</td>\n",
       "      <td>36122</td>\n",
       "      <td>Patricia C. Wrede\\n</td>\n",
       "      <td>/author/show/36122.Patricia_C_Wrede</td>\n",
       "      <td>291013</td>\n",
       "      <td>13453</td>\n",
       "      <td>United States\\n</td>\n",
       "      <td>4.01</td>\n",
       "      <td>https://www.goodreads.com/book/show/64207.Sorc...</td>\n",
       "      <td>64207</td>\n",
       "      <td>\\n      Sorcery &amp; Cecelia: or The Enchanted Ch...</td>\n",
       "      <td>Fantasy</td>\n",
       "      <td>Young Adult</td>\n",
       "      <td>17051</td>\n",
       "      <td>1890</td>\n",
       "      <td>326</td>\n",
       "      <td>April 15th 1988</td>\n",
       "      <td>2105</td>\n",
       "    </tr>\n",
       "  </tbody>\n",
       "</table>\n",
       "</div>"
      ],
      "text/plain": [
       "   author_average_rating author_gender                          author_genres  \\\n",
       "0                   4.01        female                    historical-fiction,   \n",
       "1                   4.15          male  literature-fiction,mystery-thrillers,   \n",
       "2                   4.00        female                               romance,   \n",
       "3                   3.88          male                        fiction,memoir,   \n",
       "4                   4.10        female                   young-adult,fantasy,   \n",
       "\n",
       "   author_id            author_name                           author_page_url  \\\n",
       "0      74489    Victoria Thompson\\n      /author/show/74489.Victoria_Thompson   \n",
       "1     706255        Stieg Larsson\\n         /author/show/706255.Stieg_Larsson   \n",
       "2    5618190  Mimi Jean Pamfiloff\\n  /author/show/5618190.Mimi_Jean_Pamfiloff   \n",
       "3      37871          José Donoso\\n             /author/show/37871.Jos_Donoso   \n",
       "4      36122    Patricia C. Wrede\\n       /author/show/36122.Patricia_C_Wrede   \n",
       "\n",
       "   author_rating_count  author_review_count            birthplace  \\\n",
       "0                74399                 6268   United States\\n       \n",
       "1              3726435               142704          Sweden\\n       \n",
       "2                76496                 7975     United States\\n     \n",
       "3                 5522                  489           Chile\\n       \n",
       "4               291013                13453   United States\\n       \n",
       "\n",
       "   book_average_rating                                       book_fullurl  \\\n",
       "0                 4.02  https://www.goodreads.com/book/show/686717.Mur...   \n",
       "1                 4.13  https://www.goodreads.com/book/show/2429135.Th...   \n",
       "2                 3.99  https://www.goodreads.com/book/show/27833684-t...   \n",
       "3                 4.14  https://www.goodreads.com/book/show/382975.The...   \n",
       "4                 4.01  https://www.goodreads.com/book/show/64207.Sorc...   \n",
       "\n",
       "    book_id                                         book_title  genre_1  \\\n",
       "0    686717               \\n      Murder on St. Mark's Place\\n  Mystery   \n",
       "1   2429135          \\n      The Girl with the Dragon Tattoo\\n  Fiction   \n",
       "2  27833684                     \\n      Tailored for Trouble\\n  Romance   \n",
       "3    382975                \\n      The Obscene Bird of Night\\n  Fiction   \n",
       "4     64207  \\n      Sorcery & Cecelia: or The Enchanted Ch...  Fantasy   \n",
       "\n",
       "           genre_2  num_ratings  num_reviews pages     publish_date  score  \n",
       "0       Historical         5260          375   277             2000   3230  \n",
       "1          Mystery      2229163        65227   465      August 2005   3062  \n",
       "2     Contemporary         2151          391   354             2016   4585  \n",
       "3  Magical Realism         1844          173   438             1970   1533  \n",
       "4      Young Adult        17051         1890   326  April 15th 1988   2105  "
      ]
     },
     "execution_count": 3,
     "metadata": {},
     "output_type": "execute_result"
    }
   ],
   "source": [
    "# exploring the dataset\n",
    "data.head()"
   ]
  },
  {
   "cell_type": "code",
   "execution_count": 4,
   "metadata": {},
   "outputs": [],
   "source": [
    "# dropping rows which won't be used in analysis. \n",
    "# all required genre information for each book can be found in the genre_1 and genre_2 columns\n",
    "data = data.drop(['author_genres', 'author_page_url', 'book_fullurl', 'score'], axis=1)"
   ]
  },
  {
   "cell_type": "code",
   "execution_count": 5,
   "metadata": {},
   "outputs": [
    {
     "name": "stdout",
     "output_type": "stream",
     "text": [
      "<class 'pandas.core.frame.DataFrame'>\n",
      "RangeIndex: 22891 entries, 0 to 22890\n",
      "Data columns (total 16 columns):\n",
      "author_average_rating    22891 non-null float64\n",
      "author_gender            22891 non-null object\n",
      "author_id                22891 non-null int64\n",
      "author_name              22891 non-null object\n",
      "author_rating_count      22891 non-null int64\n",
      "author_review_count      22891 non-null int64\n",
      "birthplace               22891 non-null object\n",
      "book_average_rating      22891 non-null float64\n",
      "book_id                  22891 non-null object\n",
      "book_title               22891 non-null object\n",
      "genre_1                  22891 non-null object\n",
      "genre_2                  22891 non-null object\n",
      "num_ratings              22891 non-null int64\n",
      "num_reviews              22891 non-null int64\n",
      "pages                    22891 non-null object\n",
      "publish_date             22610 non-null object\n",
      "dtypes: float64(2), int64(5), object(9)\n",
      "memory usage: 2.8+ MB\n"
     ]
    }
   ],
   "source": [
    "# exploring the dataset\n",
    "data.info()"
   ]
  },
  {
   "cell_type": "code",
   "execution_count": 6,
   "metadata": {},
   "outputs": [
    {
     "data": {
      "text/plain": [
       "author_average_rating      0\n",
       "author_gender              0\n",
       "author_id                  0\n",
       "author_name                0\n",
       "author_rating_count        0\n",
       "author_review_count        0\n",
       "birthplace                 0\n",
       "book_average_rating        0\n",
       "book_id                    0\n",
       "book_title                 0\n",
       "genre_1                    0\n",
       "genre_2                    0\n",
       "num_ratings                0\n",
       "num_reviews                0\n",
       "pages                      0\n",
       "publish_date             281\n",
       "dtype: int64"
      ]
     },
     "execution_count": 6,
     "metadata": {},
     "output_type": "execute_result"
    }
   ],
   "source": [
    "# checking the initial amount of missing values\n",
    "data.isnull().sum()"
   ]
  },
  {
   "cell_type": "markdown",
   "metadata": {},
   "source": [
    "# Data Cleaning: Initial observations and data type conversion"
   ]
  },
  {
   "cell_type": "raw",
   "metadata": {},
   "source": [
    "As it stands now, this dataset has 22,891 observations and 18 columns. The publish_date column contains 281 missing values and is the only column which contains missing values at this point.\n",
    "\n",
    "For aggregation purposes, the following columns should be in numeric format:\n",
    "author_average_rating (float64)\n",
    "author_rating_count (int64)\n",
    "author_review_count (int64)\n",
    "book_average_rating (float64)\n",
    "num_ratings (int64)\n",
    "num_reviews (int64)\n",
    "pages (object)\n",
    "\n",
    "- The pages column needs to be converted to a numeric value for aggregation purposes.\n",
    "- I will convert the author_id column to a string value as I don't want it showing up in aggregations/heatmaps.\n",
    "- I will capitalize the gender values in the author_gender column for presentation purposes"
   ]
  },
  {
   "cell_type": "code",
   "execution_count": 7,
   "metadata": {},
   "outputs": [],
   "source": [
    "# converting the pages column to a numeric format\n",
    "data.pages = pd.to_numeric(data.pages, errors='coerce')\n",
    "\n",
    "# converting the author_id to a string\n",
    "data.author_id = data.author_id.astype(str)"
   ]
  },
  {
   "cell_type": "code",
   "execution_count": 8,
   "metadata": {},
   "outputs": [
    {
     "data": {
      "text/plain": [
       "author_average_rating      0\n",
       "author_gender              0\n",
       "author_id                  0\n",
       "author_name                0\n",
       "author_rating_count        0\n",
       "author_review_count        0\n",
       "birthplace                 0\n",
       "book_average_rating        0\n",
       "book_id                    0\n",
       "book_title                 0\n",
       "genre_1                    0\n",
       "genre_2                    0\n",
       "num_ratings                0\n",
       "num_reviews                0\n",
       "pages                      3\n",
       "publish_date             281\n",
       "dtype: int64"
      ]
     },
     "execution_count": 8,
     "metadata": {},
     "output_type": "execute_result"
    }
   ],
   "source": [
    "# checking to see if missing values were introduced\n",
    "data.isnull().sum()"
   ]
  },
  {
   "cell_type": "raw",
   "metadata": {},
   "source": [
    "By converting the pages column to a numeric format, 3 missing values were introduced into the dataset. I'll go ahead and simply drop these three rows."
   ]
  },
  {
   "cell_type": "code",
   "execution_count": 9,
   "metadata": {},
   "outputs": [],
   "source": [
    "# dropping the 281 rows containing a page count of 0\n",
    "data = data.dropna(subset=['pages'])"
   ]
  },
  {
   "cell_type": "code",
   "execution_count": 10,
   "metadata": {},
   "outputs": [],
   "source": [
    "# capitalizing the genders in the author_gender column\n",
    "data.author_gender = data.author_gender.map({'male': 'Male', 'female': 'Female'})"
   ]
  },
  {
   "cell_type": "code",
   "execution_count": 11,
   "metadata": {},
   "outputs": [
    {
     "data": {
      "text/html": [
       "<div>\n",
       "<style scoped>\n",
       "    .dataframe tbody tr th:only-of-type {\n",
       "        vertical-align: middle;\n",
       "    }\n",
       "\n",
       "    .dataframe tbody tr th {\n",
       "        vertical-align: top;\n",
       "    }\n",
       "\n",
       "    .dataframe thead th {\n",
       "        text-align: right;\n",
       "    }\n",
       "</style>\n",
       "<table border=\"1\" class=\"dataframe\">\n",
       "  <thead>\n",
       "    <tr style=\"text-align: right;\">\n",
       "      <th></th>\n",
       "      <th>author_average_rating</th>\n",
       "      <th>author_gender</th>\n",
       "      <th>author_id</th>\n",
       "      <th>author_name</th>\n",
       "      <th>author_rating_count</th>\n",
       "      <th>author_review_count</th>\n",
       "      <th>birthplace</th>\n",
       "      <th>book_average_rating</th>\n",
       "      <th>book_id</th>\n",
       "      <th>book_title</th>\n",
       "      <th>genre_1</th>\n",
       "      <th>genre_2</th>\n",
       "      <th>num_ratings</th>\n",
       "      <th>num_reviews</th>\n",
       "      <th>pages</th>\n",
       "      <th>publish_date</th>\n",
       "    </tr>\n",
       "  </thead>\n",
       "  <tbody>\n",
       "    <tr>\n",
       "      <th>0</th>\n",
       "      <td>4.01</td>\n",
       "      <td>Female</td>\n",
       "      <td>74489</td>\n",
       "      <td>Victoria Thompson\\n</td>\n",
       "      <td>74399</td>\n",
       "      <td>6268</td>\n",
       "      <td>United States\\n</td>\n",
       "      <td>4.02</td>\n",
       "      <td>686717</td>\n",
       "      <td>\\n      Murder on St. Mark's Place\\n</td>\n",
       "      <td>Mystery</td>\n",
       "      <td>Historical</td>\n",
       "      <td>5260</td>\n",
       "      <td>375</td>\n",
       "      <td>277.0</td>\n",
       "      <td>2000</td>\n",
       "    </tr>\n",
       "    <tr>\n",
       "      <th>1</th>\n",
       "      <td>4.15</td>\n",
       "      <td>Male</td>\n",
       "      <td>706255</td>\n",
       "      <td>Stieg Larsson\\n</td>\n",
       "      <td>3726435</td>\n",
       "      <td>142704</td>\n",
       "      <td>Sweden\\n</td>\n",
       "      <td>4.13</td>\n",
       "      <td>2429135</td>\n",
       "      <td>\\n      The Girl with the Dragon Tattoo\\n</td>\n",
       "      <td>Fiction</td>\n",
       "      <td>Mystery</td>\n",
       "      <td>2229163</td>\n",
       "      <td>65227</td>\n",
       "      <td>465.0</td>\n",
       "      <td>August 2005</td>\n",
       "    </tr>\n",
       "    <tr>\n",
       "      <th>2</th>\n",
       "      <td>4.00</td>\n",
       "      <td>Female</td>\n",
       "      <td>5618190</td>\n",
       "      <td>Mimi Jean Pamfiloff\\n</td>\n",
       "      <td>76496</td>\n",
       "      <td>7975</td>\n",
       "      <td>United States\\n</td>\n",
       "      <td>3.99</td>\n",
       "      <td>27833684</td>\n",
       "      <td>\\n      Tailored for Trouble\\n</td>\n",
       "      <td>Romance</td>\n",
       "      <td>Contemporary</td>\n",
       "      <td>2151</td>\n",
       "      <td>391</td>\n",
       "      <td>354.0</td>\n",
       "      <td>2016</td>\n",
       "    </tr>\n",
       "    <tr>\n",
       "      <th>3</th>\n",
       "      <td>3.88</td>\n",
       "      <td>Male</td>\n",
       "      <td>37871</td>\n",
       "      <td>José Donoso\\n</td>\n",
       "      <td>5522</td>\n",
       "      <td>489</td>\n",
       "      <td>Chile\\n</td>\n",
       "      <td>4.14</td>\n",
       "      <td>382975</td>\n",
       "      <td>\\n      The Obscene Bird of Night\\n</td>\n",
       "      <td>Fiction</td>\n",
       "      <td>Magical Realism</td>\n",
       "      <td>1844</td>\n",
       "      <td>173</td>\n",
       "      <td>438.0</td>\n",
       "      <td>1970</td>\n",
       "    </tr>\n",
       "    <tr>\n",
       "      <th>4</th>\n",
       "      <td>4.10</td>\n",
       "      <td>Female</td>\n",
       "      <td>36122</td>\n",
       "      <td>Patricia C. Wrede\\n</td>\n",
       "      <td>291013</td>\n",
       "      <td>13453</td>\n",
       "      <td>United States\\n</td>\n",
       "      <td>4.01</td>\n",
       "      <td>64207</td>\n",
       "      <td>\\n      Sorcery &amp; Cecelia: or The Enchanted Ch...</td>\n",
       "      <td>Fantasy</td>\n",
       "      <td>Young Adult</td>\n",
       "      <td>17051</td>\n",
       "      <td>1890</td>\n",
       "      <td>326.0</td>\n",
       "      <td>April 15th 1988</td>\n",
       "    </tr>\n",
       "  </tbody>\n",
       "</table>\n",
       "</div>"
      ],
      "text/plain": [
       "   author_average_rating author_gender author_id            author_name  \\\n",
       "0                   4.01        Female     74489    Victoria Thompson\\n   \n",
       "1                   4.15          Male    706255        Stieg Larsson\\n   \n",
       "2                   4.00        Female   5618190  Mimi Jean Pamfiloff\\n   \n",
       "3                   3.88          Male     37871          José Donoso\\n   \n",
       "4                   4.10        Female     36122    Patricia C. Wrede\\n   \n",
       "\n",
       "   author_rating_count  author_review_count            birthplace  \\\n",
       "0                74399                 6268   United States\\n       \n",
       "1              3726435               142704          Sweden\\n       \n",
       "2                76496                 7975     United States\\n     \n",
       "3                 5522                  489           Chile\\n       \n",
       "4               291013                13453   United States\\n       \n",
       "\n",
       "   book_average_rating   book_id  \\\n",
       "0                 4.02    686717   \n",
       "1                 4.13   2429135   \n",
       "2                 3.99  27833684   \n",
       "3                 4.14    382975   \n",
       "4                 4.01     64207   \n",
       "\n",
       "                                          book_title  genre_1  \\\n",
       "0               \\n      Murder on St. Mark's Place\\n  Mystery   \n",
       "1          \\n      The Girl with the Dragon Tattoo\\n  Fiction   \n",
       "2                     \\n      Tailored for Trouble\\n  Romance   \n",
       "3                \\n      The Obscene Bird of Night\\n  Fiction   \n",
       "4  \\n      Sorcery & Cecelia: or The Enchanted Ch...  Fantasy   \n",
       "\n",
       "           genre_2  num_ratings  num_reviews  pages     publish_date  \n",
       "0       Historical         5260          375  277.0             2000  \n",
       "1          Mystery      2229163        65227  465.0      August 2005  \n",
       "2     Contemporary         2151          391  354.0             2016  \n",
       "3  Magical Realism         1844          173  438.0             1970  \n",
       "4      Young Adult        17051         1890  326.0  April 15th 1988  "
      ]
     },
     "execution_count": 11,
     "metadata": {},
     "output_type": "execute_result"
    }
   ],
   "source": [
    "data.head()"
   ]
  },
  {
   "cell_type": "markdown",
   "metadata": {},
   "source": [
    "# Data Cleaning: The author_name, birthplace and book_title columns"
   ]
  },
  {
   "cell_type": "code",
   "execution_count": 12,
   "metadata": {},
   "outputs": [
    {
     "data": {
      "text/plain": [
       "0      Victoria Thompson\\n\n",
       "1          Stieg Larsson\\n\n",
       "2    Mimi Jean Pamfiloff\\n\n",
       "3            José Donoso\\n\n",
       "4      Patricia C. Wrede\\n\n",
       "Name: author_name, dtype: object"
      ]
     },
     "execution_count": 12,
     "metadata": {},
     "output_type": "execute_result"
    }
   ],
   "source": [
    "data.author_name.head()"
   ]
  },
  {
   "cell_type": "code",
   "execution_count": 13,
   "metadata": {},
   "outputs": [
    {
     "data": {
      "text/plain": [
       "0     United States\\n    \n",
       "1            Sweden\\n    \n",
       "2       United States\\n  \n",
       "3             Chile\\n    \n",
       "4     United States\\n    \n",
       "Name: birthplace, dtype: object"
      ]
     },
     "execution_count": 13,
     "metadata": {},
     "output_type": "execute_result"
    }
   ],
   "source": [
    "data.birthplace.head()"
   ]
  },
  {
   "cell_type": "code",
   "execution_count": 14,
   "metadata": {},
   "outputs": [
    {
     "data": {
      "text/plain": [
       "0                 \\n      Murder on St. Mark's Place\\n\n",
       "1            \\n      The Girl with the Dragon Tattoo\\n\n",
       "2                       \\n      Tailored for Trouble\\n\n",
       "3                  \\n      The Obscene Bird of Night\\n\n",
       "4    \\n      Sorcery & Cecelia: or The Enchanted Ch...\n",
       "Name: book_title, dtype: object"
      ]
     },
     "execution_count": 14,
     "metadata": {},
     "output_type": "execute_result"
    }
   ],
   "source": [
    "data.book_title.head()"
   ]
  },
  {
   "cell_type": "raw",
   "metadata": {},
   "source": [
    "It appears as though every entry in the author_name, birthplace and book_title colunmns has a newline character '\\n' either at the beginning or end of it. I can get rid of these easily using the the vectorized str.replace method. I'll also strip any whitespace at the beginning and end of each entry."
   ]
  },
  {
   "cell_type": "code",
   "execution_count": 15,
   "metadata": {},
   "outputs": [],
   "source": [
    "# stripping whitespace and removing newline characters from the author_name, birthplace and book_title columns\n",
    "data.author_name = data.author_name.str.replace('\\n', '').str.strip()\n",
    "data.birthplace = data.birthplace.str.replace('\\n', '').str.strip()\n",
    "data.book_title = data.book_title.str.replace('\\n', '').str.strip()"
   ]
  },
  {
   "cell_type": "code",
   "execution_count": 16,
   "metadata": {},
   "outputs": [
    {
     "data": {
      "text/html": [
       "<div>\n",
       "<style scoped>\n",
       "    .dataframe tbody tr th:only-of-type {\n",
       "        vertical-align: middle;\n",
       "    }\n",
       "\n",
       "    .dataframe tbody tr th {\n",
       "        vertical-align: top;\n",
       "    }\n",
       "\n",
       "    .dataframe thead th {\n",
       "        text-align: right;\n",
       "    }\n",
       "</style>\n",
       "<table border=\"1\" class=\"dataframe\">\n",
       "  <thead>\n",
       "    <tr style=\"text-align: right;\">\n",
       "      <th></th>\n",
       "      <th>author_average_rating</th>\n",
       "      <th>author_gender</th>\n",
       "      <th>author_id</th>\n",
       "      <th>author_name</th>\n",
       "      <th>author_rating_count</th>\n",
       "      <th>author_review_count</th>\n",
       "      <th>birthplace</th>\n",
       "      <th>book_average_rating</th>\n",
       "      <th>book_id</th>\n",
       "      <th>book_title</th>\n",
       "      <th>genre_1</th>\n",
       "      <th>genre_2</th>\n",
       "      <th>num_ratings</th>\n",
       "      <th>num_reviews</th>\n",
       "      <th>pages</th>\n",
       "      <th>publish_date</th>\n",
       "    </tr>\n",
       "  </thead>\n",
       "  <tbody>\n",
       "    <tr>\n",
       "      <th>0</th>\n",
       "      <td>4.01</td>\n",
       "      <td>Female</td>\n",
       "      <td>74489</td>\n",
       "      <td>Victoria Thompson</td>\n",
       "      <td>74399</td>\n",
       "      <td>6268</td>\n",
       "      <td>United States</td>\n",
       "      <td>4.02</td>\n",
       "      <td>686717</td>\n",
       "      <td>Murder on St. Mark's Place</td>\n",
       "      <td>Mystery</td>\n",
       "      <td>Historical</td>\n",
       "      <td>5260</td>\n",
       "      <td>375</td>\n",
       "      <td>277.0</td>\n",
       "      <td>2000</td>\n",
       "    </tr>\n",
       "    <tr>\n",
       "      <th>1</th>\n",
       "      <td>4.15</td>\n",
       "      <td>Male</td>\n",
       "      <td>706255</td>\n",
       "      <td>Stieg Larsson</td>\n",
       "      <td>3726435</td>\n",
       "      <td>142704</td>\n",
       "      <td>Sweden</td>\n",
       "      <td>4.13</td>\n",
       "      <td>2429135</td>\n",
       "      <td>The Girl with the Dragon Tattoo</td>\n",
       "      <td>Fiction</td>\n",
       "      <td>Mystery</td>\n",
       "      <td>2229163</td>\n",
       "      <td>65227</td>\n",
       "      <td>465.0</td>\n",
       "      <td>August 2005</td>\n",
       "    </tr>\n",
       "    <tr>\n",
       "      <th>2</th>\n",
       "      <td>4.00</td>\n",
       "      <td>Female</td>\n",
       "      <td>5618190</td>\n",
       "      <td>Mimi Jean Pamfiloff</td>\n",
       "      <td>76496</td>\n",
       "      <td>7975</td>\n",
       "      <td>United States</td>\n",
       "      <td>3.99</td>\n",
       "      <td>27833684</td>\n",
       "      <td>Tailored for Trouble</td>\n",
       "      <td>Romance</td>\n",
       "      <td>Contemporary</td>\n",
       "      <td>2151</td>\n",
       "      <td>391</td>\n",
       "      <td>354.0</td>\n",
       "      <td>2016</td>\n",
       "    </tr>\n",
       "    <tr>\n",
       "      <th>3</th>\n",
       "      <td>3.88</td>\n",
       "      <td>Male</td>\n",
       "      <td>37871</td>\n",
       "      <td>José Donoso</td>\n",
       "      <td>5522</td>\n",
       "      <td>489</td>\n",
       "      <td>Chile</td>\n",
       "      <td>4.14</td>\n",
       "      <td>382975</td>\n",
       "      <td>The Obscene Bird of Night</td>\n",
       "      <td>Fiction</td>\n",
       "      <td>Magical Realism</td>\n",
       "      <td>1844</td>\n",
       "      <td>173</td>\n",
       "      <td>438.0</td>\n",
       "      <td>1970</td>\n",
       "    </tr>\n",
       "    <tr>\n",
       "      <th>4</th>\n",
       "      <td>4.10</td>\n",
       "      <td>Female</td>\n",
       "      <td>36122</td>\n",
       "      <td>Patricia C. Wrede</td>\n",
       "      <td>291013</td>\n",
       "      <td>13453</td>\n",
       "      <td>United States</td>\n",
       "      <td>4.01</td>\n",
       "      <td>64207</td>\n",
       "      <td>Sorcery &amp; Cecelia: or The Enchanted Chocolate Pot</td>\n",
       "      <td>Fantasy</td>\n",
       "      <td>Young Adult</td>\n",
       "      <td>17051</td>\n",
       "      <td>1890</td>\n",
       "      <td>326.0</td>\n",
       "      <td>April 15th 1988</td>\n",
       "    </tr>\n",
       "  </tbody>\n",
       "</table>\n",
       "</div>"
      ],
      "text/plain": [
       "   author_average_rating author_gender author_id          author_name  \\\n",
       "0                   4.01        Female     74489    Victoria Thompson   \n",
       "1                   4.15          Male    706255        Stieg Larsson   \n",
       "2                   4.00        Female   5618190  Mimi Jean Pamfiloff   \n",
       "3                   3.88          Male     37871          José Donoso   \n",
       "4                   4.10        Female     36122    Patricia C. Wrede   \n",
       "\n",
       "   author_rating_count  author_review_count     birthplace  \\\n",
       "0                74399                 6268  United States   \n",
       "1              3726435               142704         Sweden   \n",
       "2                76496                 7975  United States   \n",
       "3                 5522                  489          Chile   \n",
       "4               291013                13453  United States   \n",
       "\n",
       "   book_average_rating   book_id  \\\n",
       "0                 4.02    686717   \n",
       "1                 4.13   2429135   \n",
       "2                 3.99  27833684   \n",
       "3                 4.14    382975   \n",
       "4                 4.01     64207   \n",
       "\n",
       "                                          book_title  genre_1  \\\n",
       "0                         Murder on St. Mark's Place  Mystery   \n",
       "1                    The Girl with the Dragon Tattoo  Fiction   \n",
       "2                               Tailored for Trouble  Romance   \n",
       "3                          The Obscene Bird of Night  Fiction   \n",
       "4  Sorcery & Cecelia: or The Enchanted Chocolate Pot  Fantasy   \n",
       "\n",
       "           genre_2  num_ratings  num_reviews  pages     publish_date  \n",
       "0       Historical         5260          375  277.0             2000  \n",
       "1          Mystery      2229163        65227  465.0      August 2005  \n",
       "2     Contemporary         2151          391  354.0             2016  \n",
       "3  Magical Realism         1844          173  438.0             1970  \n",
       "4      Young Adult        17051         1890  326.0  April 15th 1988  "
      ]
     },
     "execution_count": 16,
     "metadata": {},
     "output_type": "execute_result"
    }
   ],
   "source": [
    "data.head()"
   ]
  },
  {
   "cell_type": "markdown",
   "metadata": {},
   "source": [
    "# Data Cleaning: The genre_1 and genre_2 columns "
   ]
  },
  {
   "cell_type": "code",
   "execution_count": 17,
   "metadata": {},
   "outputs": [],
   "source": [
    "# stripping whitespace and removing newline characters from the genre_1 and genre_2 columns\n",
    "data.genre_1 = data.genre_1.str.replace('\\n', '').str.strip()\n",
    "data.genre_2 = data.genre_2.str.replace('\\n', '').str.strip()"
   ]
  },
  {
   "cell_type": "raw",
   "metadata": {},
   "source": [
    "To make the genre_1 and genre_2 columns a bit more manageable, I can aggregate some of the sub-genres together using the str.contains method in combination with dataframe.loc."
   ]
  },
  {
   "cell_type": "code",
   "execution_count": 18,
   "metadata": {},
   "outputs": [],
   "source": [
    "data.loc[data.genre_1.str.contains('Romance|romance'), 'genre_1'] = 'Romance'\n",
    "data.loc[data.genre_1.str.contains('Fantasy|fantasy'), 'genre_1'] = 'Fantasy'\n",
    "data.loc[data.genre_1.str.contains('Young|young'), 'genre_1'] = 'Young Adult'\n",
    "data.loc[data.genre_1.str.contains('LGBT|Lgbt|lgbt|GLBT|Glbt|glbt|Gay|gay|Lesbian|lesbian'), 'genre_1'] = 'LGBT'\n",
    "\n",
    "data.loc[data.genre_2.str.contains('Romance|romance'), 'genre_2'] = 'Romance'\n",
    "data.loc[data.genre_2.str.contains('Fantasy|fantasy'), 'genre_2'] = 'Fantasy'\n",
    "data.loc[data.genre_2.str.contains('Young|young'), 'genre_2'] = 'Young Adult'\n",
    "data.loc[data.genre_2.str.contains('LGBT|Lgbt|lgbt|GLBT|Glbl|glbt|Gay|gay|Lesbian|lesbian'), 'genre_2'] = 'LGBT'"
   ]
  },
  {
   "cell_type": "code",
   "execution_count": 19,
   "metadata": {},
   "outputs": [
    {
     "data": {
      "text/plain": [
       "717"
      ]
     },
     "execution_count": 19,
     "metadata": {},
     "output_type": "execute_result"
    }
   ],
   "source": [
    "# checking how many rows have genre_2 = 'See top shelves...' (which has no value for analysis)\n",
    "len(data[data.genre_2 == 'See top shelves…'])"
   ]
  },
  {
   "cell_type": "raw",
   "metadata": {},
   "source": [
    "There is genre in genre_2 called 'See Top Shelves...' which has a lot of values (717). \n",
    "\n",
    "In order to avoid dropping these rows and preserve them for analysis, I can replace all instances of 'See top shelves...' in the genre_2 column to whatever the value is for genre_1 for that particaly row.\n",
    "\n",
    "It turns out that this 'See Top Shelves...' column name actually ends in an elipses character (not three dots)."
   ]
  },
  {
   "cell_type": "code",
   "execution_count": 20,
   "metadata": {},
   "outputs": [],
   "source": [
    "# replacing the genre_2 value 'See top shelves...' with the value in genre_1 for that row\n",
    "for i in range(len(data)):\n",
    "    if data['genre_2'].values[i] == 'See top shelves…':\n",
    "        data['genre_2'].values[i] = data['genre_1'].values[i]"
   ]
  },
  {
   "cell_type": "code",
   "execution_count": 21,
   "metadata": {},
   "outputs": [
    {
     "data": {
      "text/plain": [
       "0"
      ]
     },
     "execution_count": 21,
     "metadata": {},
     "output_type": "execute_result"
    }
   ],
   "source": [
    "# checking how many rows have genre_2 = 'See top shelves...' after cleaning \n",
    "len(data[data.genre_2 == 'See top shelves…'])"
   ]
  },
  {
   "cell_type": "markdown",
   "metadata": {},
   "source": [
    "# Data Cleaning: The publish_date column"
   ]
  },
  {
   "cell_type": "raw",
   "metadata": {},
   "source": [
    "The publish_date column is very messy having dates in many different formats. The dates will be extracted with a regex string and put into a new column called year_published. The publish_date column can then be dropped."
   ]
  },
  {
   "cell_type": "code",
   "execution_count": 22,
   "metadata": {},
   "outputs": [],
   "source": [
    "# extracting the year from publish_date and assign it to year_published\n",
    "data['year_published'] = data.publish_date.str.extract(r'([1-2][0-9]{3})')\n",
    "\n",
    "# converting the dates to numerical format (I won't be using datetime objects)\n",
    "data.year_published = pd.to_numeric(data.year_published, errors='coerce')\n",
    "\n",
    "# dropping the publish date column\n",
    "data.drop(['publish_date'], axis=1, inplace=True)"
   ]
  },
  {
   "cell_type": "code",
   "execution_count": 23,
   "metadata": {},
   "outputs": [
    {
     "data": {
      "text/html": [
       "<div>\n",
       "<style scoped>\n",
       "    .dataframe tbody tr th:only-of-type {\n",
       "        vertical-align: middle;\n",
       "    }\n",
       "\n",
       "    .dataframe tbody tr th {\n",
       "        vertical-align: top;\n",
       "    }\n",
       "\n",
       "    .dataframe thead th {\n",
       "        text-align: right;\n",
       "    }\n",
       "</style>\n",
       "<table border=\"1\" class=\"dataframe\">\n",
       "  <thead>\n",
       "    <tr style=\"text-align: right;\">\n",
       "      <th></th>\n",
       "      <th>author_average_rating</th>\n",
       "      <th>author_gender</th>\n",
       "      <th>author_id</th>\n",
       "      <th>author_name</th>\n",
       "      <th>author_rating_count</th>\n",
       "      <th>author_review_count</th>\n",
       "      <th>birthplace</th>\n",
       "      <th>book_average_rating</th>\n",
       "      <th>book_id</th>\n",
       "      <th>book_title</th>\n",
       "      <th>genre_1</th>\n",
       "      <th>genre_2</th>\n",
       "      <th>num_ratings</th>\n",
       "      <th>num_reviews</th>\n",
       "      <th>pages</th>\n",
       "      <th>year_published</th>\n",
       "    </tr>\n",
       "  </thead>\n",
       "  <tbody>\n",
       "    <tr>\n",
       "      <th>0</th>\n",
       "      <td>4.01</td>\n",
       "      <td>Female</td>\n",
       "      <td>74489</td>\n",
       "      <td>Victoria Thompson</td>\n",
       "      <td>74399</td>\n",
       "      <td>6268</td>\n",
       "      <td>United States</td>\n",
       "      <td>4.02</td>\n",
       "      <td>686717</td>\n",
       "      <td>Murder on St. Mark's Place</td>\n",
       "      <td>Mystery</td>\n",
       "      <td>Historical</td>\n",
       "      <td>5260</td>\n",
       "      <td>375</td>\n",
       "      <td>277.0</td>\n",
       "      <td>2000.0</td>\n",
       "    </tr>\n",
       "    <tr>\n",
       "      <th>1</th>\n",
       "      <td>4.15</td>\n",
       "      <td>Male</td>\n",
       "      <td>706255</td>\n",
       "      <td>Stieg Larsson</td>\n",
       "      <td>3726435</td>\n",
       "      <td>142704</td>\n",
       "      <td>Sweden</td>\n",
       "      <td>4.13</td>\n",
       "      <td>2429135</td>\n",
       "      <td>The Girl with the Dragon Tattoo</td>\n",
       "      <td>Fiction</td>\n",
       "      <td>Mystery</td>\n",
       "      <td>2229163</td>\n",
       "      <td>65227</td>\n",
       "      <td>465.0</td>\n",
       "      <td>2005.0</td>\n",
       "    </tr>\n",
       "    <tr>\n",
       "      <th>2</th>\n",
       "      <td>4.00</td>\n",
       "      <td>Female</td>\n",
       "      <td>5618190</td>\n",
       "      <td>Mimi Jean Pamfiloff</td>\n",
       "      <td>76496</td>\n",
       "      <td>7975</td>\n",
       "      <td>United States</td>\n",
       "      <td>3.99</td>\n",
       "      <td>27833684</td>\n",
       "      <td>Tailored for Trouble</td>\n",
       "      <td>Romance</td>\n",
       "      <td>Contemporary</td>\n",
       "      <td>2151</td>\n",
       "      <td>391</td>\n",
       "      <td>354.0</td>\n",
       "      <td>2016.0</td>\n",
       "    </tr>\n",
       "    <tr>\n",
       "      <th>3</th>\n",
       "      <td>3.88</td>\n",
       "      <td>Male</td>\n",
       "      <td>37871</td>\n",
       "      <td>José Donoso</td>\n",
       "      <td>5522</td>\n",
       "      <td>489</td>\n",
       "      <td>Chile</td>\n",
       "      <td>4.14</td>\n",
       "      <td>382975</td>\n",
       "      <td>The Obscene Bird of Night</td>\n",
       "      <td>Fiction</td>\n",
       "      <td>Magical Realism</td>\n",
       "      <td>1844</td>\n",
       "      <td>173</td>\n",
       "      <td>438.0</td>\n",
       "      <td>1970.0</td>\n",
       "    </tr>\n",
       "    <tr>\n",
       "      <th>4</th>\n",
       "      <td>4.10</td>\n",
       "      <td>Female</td>\n",
       "      <td>36122</td>\n",
       "      <td>Patricia C. Wrede</td>\n",
       "      <td>291013</td>\n",
       "      <td>13453</td>\n",
       "      <td>United States</td>\n",
       "      <td>4.01</td>\n",
       "      <td>64207</td>\n",
       "      <td>Sorcery &amp; Cecelia: or The Enchanted Chocolate Pot</td>\n",
       "      <td>Fantasy</td>\n",
       "      <td>Young Adult</td>\n",
       "      <td>17051</td>\n",
       "      <td>1890</td>\n",
       "      <td>326.0</td>\n",
       "      <td>1988.0</td>\n",
       "    </tr>\n",
       "  </tbody>\n",
       "</table>\n",
       "</div>"
      ],
      "text/plain": [
       "   author_average_rating author_gender author_id          author_name  \\\n",
       "0                   4.01        Female     74489    Victoria Thompson   \n",
       "1                   4.15          Male    706255        Stieg Larsson   \n",
       "2                   4.00        Female   5618190  Mimi Jean Pamfiloff   \n",
       "3                   3.88          Male     37871          José Donoso   \n",
       "4                   4.10        Female     36122    Patricia C. Wrede   \n",
       "\n",
       "   author_rating_count  author_review_count     birthplace  \\\n",
       "0                74399                 6268  United States   \n",
       "1              3726435               142704         Sweden   \n",
       "2                76496                 7975  United States   \n",
       "3                 5522                  489          Chile   \n",
       "4               291013                13453  United States   \n",
       "\n",
       "   book_average_rating   book_id  \\\n",
       "0                 4.02    686717   \n",
       "1                 4.13   2429135   \n",
       "2                 3.99  27833684   \n",
       "3                 4.14    382975   \n",
       "4                 4.01     64207   \n",
       "\n",
       "                                          book_title  genre_1  \\\n",
       "0                         Murder on St. Mark's Place  Mystery   \n",
       "1                    The Girl with the Dragon Tattoo  Fiction   \n",
       "2                               Tailored for Trouble  Romance   \n",
       "3                          The Obscene Bird of Night  Fiction   \n",
       "4  Sorcery & Cecelia: or The Enchanted Chocolate Pot  Fantasy   \n",
       "\n",
       "           genre_2  num_ratings  num_reviews  pages  year_published  \n",
       "0       Historical         5260          375  277.0          2000.0  \n",
       "1          Mystery      2229163        65227  465.0          2005.0  \n",
       "2     Contemporary         2151          391  354.0          2016.0  \n",
       "3  Magical Realism         1844          173  438.0          1970.0  \n",
       "4      Young Adult        17051         1890  326.0          1988.0  "
      ]
     },
     "execution_count": 23,
     "metadata": {},
     "output_type": "execute_result"
    }
   ],
   "source": [
    "data.head()"
   ]
  },
  {
   "cell_type": "code",
   "execution_count": 24,
   "metadata": {},
   "outputs": [
    {
     "data": {
      "text/plain": [
       "author_average_rating      0\n",
       "author_gender              0\n",
       "author_id                  0\n",
       "author_name                0\n",
       "author_rating_count        0\n",
       "author_review_count        0\n",
       "birthplace                 0\n",
       "book_average_rating        0\n",
       "book_id                    0\n",
       "book_title                 0\n",
       "genre_1                    0\n",
       "genre_2                    0\n",
       "num_ratings                0\n",
       "num_reviews                0\n",
       "pages                      0\n",
       "year_published           812\n",
       "dtype: int64"
      ]
     },
     "execution_count": 24,
     "metadata": {},
     "output_type": "execute_result"
    }
   ],
   "source": [
    "data.isnull().sum()"
   ]
  },
  {
   "cell_type": "code",
   "execution_count": 25,
   "metadata": {},
   "outputs": [
    {
     "name": "stdout",
     "output_type": "stream",
     "text": [
      "Rows with missing values in year_published make up 3.55% of the dataset\n"
     ]
    }
   ],
   "source": [
    "missing_year_published = data.isnull().sum().year_published\n",
    "print('Rows with missing values in year_published make up {:.2f}% of the dataset'.format(missing_year_published/len(data)*100))"
   ]
  },
  {
   "cell_type": "code",
   "execution_count": 26,
   "metadata": {},
   "outputs": [],
   "source": [
    "# dropping missing values in year_published\n",
    "data = data.dropna(subset=['year_published'])"
   ]
  },
  {
   "cell_type": "markdown",
   "metadata": {},
   "source": [
    "# Data Cleaning: The pages column "
   ]
  },
  {
   "cell_type": "code",
   "execution_count": 27,
   "metadata": {},
   "outputs": [
    {
     "data": {
      "text/html": [
       "<div>\n",
       "<style scoped>\n",
       "    .dataframe tbody tr th:only-of-type {\n",
       "        vertical-align: middle;\n",
       "    }\n",
       "\n",
       "    .dataframe tbody tr th {\n",
       "        vertical-align: top;\n",
       "    }\n",
       "\n",
       "    .dataframe thead th {\n",
       "        text-align: right;\n",
       "    }\n",
       "</style>\n",
       "<table border=\"1\" class=\"dataframe\">\n",
       "  <thead>\n",
       "    <tr style=\"text-align: right;\">\n",
       "      <th></th>\n",
       "      <th>author_average_rating</th>\n",
       "      <th>author_rating_count</th>\n",
       "      <th>author_review_count</th>\n",
       "      <th>book_average_rating</th>\n",
       "      <th>num_ratings</th>\n",
       "      <th>num_reviews</th>\n",
       "      <th>pages</th>\n",
       "      <th>year_published</th>\n",
       "    </tr>\n",
       "  </thead>\n",
       "  <tbody>\n",
       "    <tr>\n",
       "      <th>count</th>\n",
       "      <td>22076.000000</td>\n",
       "      <td>2.207600e+04</td>\n",
       "      <td>22076.000000</td>\n",
       "      <td>22076.000000</td>\n",
       "      <td>2.207600e+04</td>\n",
       "      <td>22076.00000</td>\n",
       "      <td>22076.000000</td>\n",
       "      <td>22076.000000</td>\n",
       "    </tr>\n",
       "    <tr>\n",
       "      <th>mean</th>\n",
       "      <td>3.958893</td>\n",
       "      <td>1.751314e+05</td>\n",
       "      <td>9507.618047</td>\n",
       "      <td>3.948486</td>\n",
       "      <td>4.737813e+04</td>\n",
       "      <td>2358.47803</td>\n",
       "      <td>333.384535</td>\n",
       "      <td>1997.152473</td>\n",
       "    </tr>\n",
       "    <tr>\n",
       "      <th>std</th>\n",
       "      <td>0.237342</td>\n",
       "      <td>6.645103e+05</td>\n",
       "      <td>25209.765493</td>\n",
       "      <td>0.285990</td>\n",
       "      <td>1.820694e+05</td>\n",
       "      <td>6902.46036</td>\n",
       "      <td>219.742050</td>\n",
       "      <td>48.500659</td>\n",
       "    </tr>\n",
       "    <tr>\n",
       "      <th>min</th>\n",
       "      <td>1.820000</td>\n",
       "      <td>6.000000e+00</td>\n",
       "      <td>0.000000</td>\n",
       "      <td>1.850000</td>\n",
       "      <td>1.000000e+00</td>\n",
       "      <td>0.00000</td>\n",
       "      <td>0.000000</td>\n",
       "      <td>1002.000000</td>\n",
       "    </tr>\n",
       "    <tr>\n",
       "      <th>25%</th>\n",
       "      <td>3.810000</td>\n",
       "      <td>4.544000e+03</td>\n",
       "      <td>570.000000</td>\n",
       "      <td>3.770000</td>\n",
       "      <td>8.890000e+02</td>\n",
       "      <td>111.00000</td>\n",
       "      <td>238.000000</td>\n",
       "      <td>2000.000000</td>\n",
       "    </tr>\n",
       "    <tr>\n",
       "      <th>50%</th>\n",
       "      <td>3.970000</td>\n",
       "      <td>2.546750e+04</td>\n",
       "      <td>2323.000000</td>\n",
       "      <td>3.960000</td>\n",
       "      <td>4.564000e+03</td>\n",
       "      <td>396.00000</td>\n",
       "      <td>316.000000</td>\n",
       "      <td>2011.000000</td>\n",
       "    </tr>\n",
       "    <tr>\n",
       "      <th>75%</th>\n",
       "      <td>4.110000</td>\n",
       "      <td>1.133192e+05</td>\n",
       "      <td>8412.500000</td>\n",
       "      <td>4.140000</td>\n",
       "      <td>2.076525e+04</td>\n",
       "      <td>1531.00000</td>\n",
       "      <td>384.000000</td>\n",
       "      <td>2013.000000</td>\n",
       "    </tr>\n",
       "    <tr>\n",
       "      <th>max</th>\n",
       "      <td>5.000000</td>\n",
       "      <td>2.111732e+07</td>\n",
       "      <td>516745.000000</td>\n",
       "      <td>5.000000</td>\n",
       "      <td>3.820921e+06</td>\n",
       "      <td>147696.00000</td>\n",
       "      <td>6680.000000</td>\n",
       "      <td>2019.000000</td>\n",
       "    </tr>\n",
       "  </tbody>\n",
       "</table>\n",
       "</div>"
      ],
      "text/plain": [
       "       author_average_rating  author_rating_count  author_review_count  \\\n",
       "count           22076.000000         2.207600e+04         22076.000000   \n",
       "mean                3.958893         1.751314e+05          9507.618047   \n",
       "std                 0.237342         6.645103e+05         25209.765493   \n",
       "min                 1.820000         6.000000e+00             0.000000   \n",
       "25%                 3.810000         4.544000e+03           570.000000   \n",
       "50%                 3.970000         2.546750e+04          2323.000000   \n",
       "75%                 4.110000         1.133192e+05          8412.500000   \n",
       "max                 5.000000         2.111732e+07        516745.000000   \n",
       "\n",
       "       book_average_rating   num_ratings   num_reviews         pages  \\\n",
       "count         22076.000000  2.207600e+04   22076.00000  22076.000000   \n",
       "mean              3.948486  4.737813e+04    2358.47803    333.384535   \n",
       "std               0.285990  1.820694e+05    6902.46036    219.742050   \n",
       "min               1.850000  1.000000e+00       0.00000      0.000000   \n",
       "25%               3.770000  8.890000e+02     111.00000    238.000000   \n",
       "50%               3.960000  4.564000e+03     396.00000    316.000000   \n",
       "75%               4.140000  2.076525e+04    1531.00000    384.000000   \n",
       "max               5.000000  3.820921e+06  147696.00000   6680.000000   \n",
       "\n",
       "       year_published  \n",
       "count    22076.000000  \n",
       "mean      1997.152473  \n",
       "std         48.500659  \n",
       "min       1002.000000  \n",
       "25%       2000.000000  \n",
       "50%       2011.000000  \n",
       "75%       2013.000000  \n",
       "max       2019.000000  "
      ]
     },
     "execution_count": 27,
     "metadata": {},
     "output_type": "execute_result"
    }
   ],
   "source": [
    "data.describe()"
   ]
  },
  {
   "cell_type": "raw",
   "metadata": {},
   "source": [
    "There are some books which contain 0 pages. I'll drop these rows."
   ]
  },
  {
   "cell_type": "code",
   "execution_count": 28,
   "metadata": {},
   "outputs": [
    {
     "data": {
      "text/plain": [
       "33"
      ]
     },
     "execution_count": 28,
     "metadata": {},
     "output_type": "execute_result"
    }
   ],
   "source": [
    "# checking how many books have 0 pages\n",
    "len(data[data.pages == 0])"
   ]
  },
  {
   "cell_type": "code",
   "execution_count": 29,
   "metadata": {},
   "outputs": [],
   "source": [
    "# dropping the rows representing books with 0 pages\n",
    "data.drop(data[data.pages == 0].index, inplace=True)"
   ]
  },
  {
   "cell_type": "markdown",
   "metadata": {},
   "source": [
    "# Data Cleaning: The book_id column"
   ]
  },
  {
   "cell_type": "raw",
   "metadata": {},
   "source": [
    "The book_id column is great because it allows me to identify any duplicate books in the dataset. These need to be removed so that the data isn't biased."
   ]
  },
  {
   "cell_type": "code",
   "execution_count": 30,
   "metadata": {},
   "outputs": [
    {
     "data": {
      "text/plain": [
       "(22043, 16)"
      ]
     },
     "execution_count": 30,
     "metadata": {},
     "output_type": "execute_result"
    }
   ],
   "source": [
    "data.shape"
   ]
  },
  {
   "cell_type": "code",
   "execution_count": 31,
   "metadata": {},
   "outputs": [
    {
     "data": {
      "text/plain": [
       "False    16184\n",
       "True      5859\n",
       "dtype: int64"
      ]
     },
     "execution_count": 31,
     "metadata": {},
     "output_type": "execute_result"
    }
   ],
   "source": [
    "# checking to see how many duplicate books are in the dataset\n",
    "duplicate_books = data.duplicated(subset=['book_id'], keep='first').value_counts()\n",
    "duplicate_books"
   ]
  },
  {
   "cell_type": "code",
   "execution_count": 32,
   "metadata": {},
   "outputs": [
    {
     "name": "stdout",
     "output_type": "stream",
     "text": [
      "Duplicate books make up 26.58% of the dataset.\n"
     ]
    }
   ],
   "source": [
    "print('Duplicate books make up {:.2f}% of the dataset.'.format(duplicate_books[True]/data.shape[0]*100))"
   ]
  },
  {
   "cell_type": "code",
   "execution_count": 33,
   "metadata": {},
   "outputs": [],
   "source": [
    "# keeping only unique book_ids and filtering out the rest using a boolean mask\n",
    "duplicate_books_id_mask = data.duplicated(subset=['book_id'], keep='first')\n",
    "data = data[~duplicate_books_id_mask]"
   ]
  },
  {
   "cell_type": "markdown",
   "metadata": {},
   "source": [
    "# Data Cleaning: Conclusion "
   ]
  },
  {
   "cell_type": "code",
   "execution_count": 34,
   "metadata": {},
   "outputs": [
    {
     "data": {
      "text/plain": [
       "author_average_rating    0\n",
       "author_gender            0\n",
       "author_id                0\n",
       "author_name              0\n",
       "author_rating_count      0\n",
       "author_review_count      0\n",
       "birthplace               0\n",
       "book_average_rating      0\n",
       "book_id                  0\n",
       "book_title               0\n",
       "genre_1                  0\n",
       "genre_2                  0\n",
       "num_ratings              0\n",
       "num_reviews              0\n",
       "pages                    0\n",
       "year_published           0\n",
       "dtype: int64"
      ]
     },
     "execution_count": 34,
     "metadata": {},
     "output_type": "execute_result"
    }
   ],
   "source": [
    "data.isnull().sum()"
   ]
  },
  {
   "cell_type": "code",
   "execution_count": 35,
   "metadata": {},
   "outputs": [
    {
     "data": {
      "text/plain": [
       "(16184, 16)"
      ]
     },
     "execution_count": 35,
     "metadata": {},
     "output_type": "execute_result"
    }
   ],
   "source": [
    "data.shape"
   ]
  },
  {
   "cell_type": "code",
   "execution_count": 36,
   "metadata": {},
   "outputs": [
    {
     "data": {
      "text/html": [
       "<div>\n",
       "<style scoped>\n",
       "    .dataframe tbody tr th:only-of-type {\n",
       "        vertical-align: middle;\n",
       "    }\n",
       "\n",
       "    .dataframe tbody tr th {\n",
       "        vertical-align: top;\n",
       "    }\n",
       "\n",
       "    .dataframe thead th {\n",
       "        text-align: right;\n",
       "    }\n",
       "</style>\n",
       "<table border=\"1\" class=\"dataframe\">\n",
       "  <thead>\n",
       "    <tr style=\"text-align: right;\">\n",
       "      <th></th>\n",
       "      <th>author_average_rating</th>\n",
       "      <th>author_gender</th>\n",
       "      <th>author_id</th>\n",
       "      <th>author_name</th>\n",
       "      <th>author_rating_count</th>\n",
       "      <th>author_review_count</th>\n",
       "      <th>birthplace</th>\n",
       "      <th>book_average_rating</th>\n",
       "      <th>book_id</th>\n",
       "      <th>book_title</th>\n",
       "      <th>genre_1</th>\n",
       "      <th>genre_2</th>\n",
       "      <th>num_ratings</th>\n",
       "      <th>num_reviews</th>\n",
       "      <th>pages</th>\n",
       "      <th>year_published</th>\n",
       "    </tr>\n",
       "  </thead>\n",
       "  <tbody>\n",
       "    <tr>\n",
       "      <th>0</th>\n",
       "      <td>4.01</td>\n",
       "      <td>Female</td>\n",
       "      <td>74489</td>\n",
       "      <td>Victoria Thompson</td>\n",
       "      <td>74399</td>\n",
       "      <td>6268</td>\n",
       "      <td>United States</td>\n",
       "      <td>4.02</td>\n",
       "      <td>686717</td>\n",
       "      <td>Murder on St. Mark's Place</td>\n",
       "      <td>Mystery</td>\n",
       "      <td>Historical</td>\n",
       "      <td>5260</td>\n",
       "      <td>375</td>\n",
       "      <td>277.0</td>\n",
       "      <td>2000.0</td>\n",
       "    </tr>\n",
       "    <tr>\n",
       "      <th>1</th>\n",
       "      <td>4.15</td>\n",
       "      <td>Male</td>\n",
       "      <td>706255</td>\n",
       "      <td>Stieg Larsson</td>\n",
       "      <td>3726435</td>\n",
       "      <td>142704</td>\n",
       "      <td>Sweden</td>\n",
       "      <td>4.13</td>\n",
       "      <td>2429135</td>\n",
       "      <td>The Girl with the Dragon Tattoo</td>\n",
       "      <td>Fiction</td>\n",
       "      <td>Mystery</td>\n",
       "      <td>2229163</td>\n",
       "      <td>65227</td>\n",
       "      <td>465.0</td>\n",
       "      <td>2005.0</td>\n",
       "    </tr>\n",
       "    <tr>\n",
       "      <th>2</th>\n",
       "      <td>4.00</td>\n",
       "      <td>Female</td>\n",
       "      <td>5618190</td>\n",
       "      <td>Mimi Jean Pamfiloff</td>\n",
       "      <td>76496</td>\n",
       "      <td>7975</td>\n",
       "      <td>United States</td>\n",
       "      <td>3.99</td>\n",
       "      <td>27833684</td>\n",
       "      <td>Tailored for Trouble</td>\n",
       "      <td>Romance</td>\n",
       "      <td>Contemporary</td>\n",
       "      <td>2151</td>\n",
       "      <td>391</td>\n",
       "      <td>354.0</td>\n",
       "      <td>2016.0</td>\n",
       "    </tr>\n",
       "    <tr>\n",
       "      <th>3</th>\n",
       "      <td>3.88</td>\n",
       "      <td>Male</td>\n",
       "      <td>37871</td>\n",
       "      <td>José Donoso</td>\n",
       "      <td>5522</td>\n",
       "      <td>489</td>\n",
       "      <td>Chile</td>\n",
       "      <td>4.14</td>\n",
       "      <td>382975</td>\n",
       "      <td>The Obscene Bird of Night</td>\n",
       "      <td>Fiction</td>\n",
       "      <td>Magical Realism</td>\n",
       "      <td>1844</td>\n",
       "      <td>173</td>\n",
       "      <td>438.0</td>\n",
       "      <td>1970.0</td>\n",
       "    </tr>\n",
       "    <tr>\n",
       "      <th>4</th>\n",
       "      <td>4.10</td>\n",
       "      <td>Female</td>\n",
       "      <td>36122</td>\n",
       "      <td>Patricia C. Wrede</td>\n",
       "      <td>291013</td>\n",
       "      <td>13453</td>\n",
       "      <td>United States</td>\n",
       "      <td>4.01</td>\n",
       "      <td>64207</td>\n",
       "      <td>Sorcery &amp; Cecelia: or The Enchanted Chocolate Pot</td>\n",
       "      <td>Fantasy</td>\n",
       "      <td>Young Adult</td>\n",
       "      <td>17051</td>\n",
       "      <td>1890</td>\n",
       "      <td>326.0</td>\n",
       "      <td>1988.0</td>\n",
       "    </tr>\n",
       "  </tbody>\n",
       "</table>\n",
       "</div>"
      ],
      "text/plain": [
       "   author_average_rating author_gender author_id          author_name  \\\n",
       "0                   4.01        Female     74489    Victoria Thompson   \n",
       "1                   4.15          Male    706255        Stieg Larsson   \n",
       "2                   4.00        Female   5618190  Mimi Jean Pamfiloff   \n",
       "3                   3.88          Male     37871          José Donoso   \n",
       "4                   4.10        Female     36122    Patricia C. Wrede   \n",
       "\n",
       "   author_rating_count  author_review_count     birthplace  \\\n",
       "0                74399                 6268  United States   \n",
       "1              3726435               142704         Sweden   \n",
       "2                76496                 7975  United States   \n",
       "3                 5522                  489          Chile   \n",
       "4               291013                13453  United States   \n",
       "\n",
       "   book_average_rating   book_id  \\\n",
       "0                 4.02    686717   \n",
       "1                 4.13   2429135   \n",
       "2                 3.99  27833684   \n",
       "3                 4.14    382975   \n",
       "4                 4.01     64207   \n",
       "\n",
       "                                          book_title  genre_1  \\\n",
       "0                         Murder on St. Mark's Place  Mystery   \n",
       "1                    The Girl with the Dragon Tattoo  Fiction   \n",
       "2                               Tailored for Trouble  Romance   \n",
       "3                          The Obscene Bird of Night  Fiction   \n",
       "4  Sorcery & Cecelia: or The Enchanted Chocolate Pot  Fantasy   \n",
       "\n",
       "           genre_2  num_ratings  num_reviews  pages  year_published  \n",
       "0       Historical         5260          375  277.0          2000.0  \n",
       "1          Mystery      2229163        65227  465.0          2005.0  \n",
       "2     Contemporary         2151          391  354.0          2016.0  \n",
       "3  Magical Realism         1844          173  438.0          1970.0  \n",
       "4      Young Adult        17051         1890  326.0          1988.0  "
      ]
     },
     "execution_count": 36,
     "metadata": {},
     "output_type": "execute_result"
    }
   ],
   "source": [
    "data.head()"
   ]
  },
  {
   "cell_type": "raw",
   "metadata": {},
   "source": [
    "This concludes the data cleaning process for now. Initially the dataset consisted of 22,891 values. After the cleaning process 16,184 values remain which make up about 70% of the initial dataset.\n",
    "\n",
    "Keep in mind that 26.58% of the dataset was removed due to duplicate copies of books in the popular books lists. This leaves only 3.42% of the data which was dropped during wrangling."
   ]
  },
  {
   "cell_type": "markdown",
   "metadata": {},
   "source": [
    "\n",
    "# Data Analysis: Author Gender"
   ]
  },
  {
   "cell_type": "raw",
   "metadata": {},
   "source": [
    "To begin the data analysis, I'll take a look at the distribution of author gender in the dataset. Since there are more 'productive' authors in the dataset (meaning the author_id value can show up more than once) I'll need to consider both the non-unique and unique author_id values."
   ]
  },
  {
   "cell_type": "code",
   "execution_count": 37,
   "metadata": {},
   "outputs": [],
   "source": [
    "sns.set_style('white')\n",
    "sns.set_context('talk')"
   ]
  },
  {
   "cell_type": "code",
   "execution_count": 38,
   "metadata": {},
   "outputs": [
    {
     "data": {
      "image/png": "[encoded data removed]",
      "text/plain": [
       "<Figure size 648x432 with 2 Axes>"
      ]
     },
     "metadata": {},
     "output_type": "display_data"
    }
   ],
   "source": [
    "fig, (ax0, ax1) = plt.subplots(nrows=1, ncols=2, sharey=True, figsize=(9, 6))\n",
    "\n",
    "# first subplot for the non-unique author genders\n",
    "\n",
    "sns.countplot(x='author_gender', data=data, order=['Male', 'Female'], palette='deep', ax=ax0)\n",
    "\n",
    "ax0.set(\n",
    "    title='Non-Unique Author Gender',\n",
    "    xlabel='',\n",
    "    ylabel='Number of Authors',\n",
    "    ylim=(0, 10000)\n",
    ")\n",
    "\n",
    "ax0.tick_params(\n",
    "    top=False,\n",
    "    bottom=False,\n",
    "    left=False,\n",
    "    right=False\n",
    ")\n",
    "\n",
    "totals = []\n",
    "for i in ax0.patches:\n",
    "    totals.append(i.get_height())\n",
    "    \n",
    "total = sum(totals)\n",
    "for i in ax0.patches:\n",
    "    ax0.text(\n",
    "        i.get_x()+0.16,\n",
    "        i.get_height()+200,\n",
    "        str(round(i.get_height()/total*100, 2)) + '%'\n",
    "    )\n",
    "\n",
    "for key, spine in ax0.spines.items():\n",
    "    spine.set_visible(False)\n",
    "\n",
    "# second subplot for the unique author genders\n",
    "\n",
    "duplicated_author_id_mask = data.duplicated(subset=['author_id'], keep=False)\n",
    "data_unique_authors = data[~duplicated_author_id_mask]\n",
    "\n",
    "sns.countplot(x='author_gender', data=data_unique_authors, order=['Male', 'Female'], palette='deep', ax=ax1)\n",
    "\n",
    "ax1.set(\n",
    "    title='Unique Author Gender',\n",
    "    xlabel='',\n",
    "    ylabel=''\n",
    ")\n",
    "\n",
    "ax1.tick_params(\n",
    "    top=False,\n",
    "    bottom=False,\n",
    "    left=False,\n",
    "    right=False\n",
    ")\n",
    "\n",
    "totals = []\n",
    "for i in ax1.patches:\n",
    "    totals.append(i.get_height())\n",
    "    \n",
    "total = sum(totals)\n",
    "for i in ax1.patches:\n",
    "    ax1.text(\n",
    "        i.get_x()+0.16,\n",
    "        i.get_height()+200,\n",
    "        str(round(i.get_height()/total*100, 2)) + '%'\n",
    "    )\n",
    "    \n",
    "for key, spine in ax1.spines.items():\n",
    "    spine.set_visible(False)"
   ]
  },
  {
   "cell_type": "raw",
   "metadata": {},
   "source": [
    "In both cases, there are more male authors in the dataset with the difference being slightly larger when only considering unique authors."
   ]
  },
  {
   "cell_type": "markdown",
   "metadata": {},
   "source": [
    "# Data Analysis: The Most Popular Genres"
   ]
  },
  {
   "cell_type": "raw",
   "metadata": {},
   "source": [
    "For the next step in the data analysis, I'll isolate the top 25 most popular genres in both the genre_1 and genre_2 column and visualize them."
   ]
  },
  {
   "cell_type": "code",
   "execution_count": 39,
   "metadata": {},
   "outputs": [],
   "source": [
    "top_25_genre_1 = list(data.genre_1.value_counts().head(25).index)\n",
    "top_25_genre_2 = list(data.genre_2.value_counts().head(25).index)\n",
    "\n",
    "# creating two dataframes containing only books written in one of the top 25 genres for genre_1 and genre_2\n",
    "\n",
    "data_top_25_genre_1 = data[data.genre_1.isin(top_25_genre_1)].copy()\n",
    "data_top_25_genre_2 = data[data.genre_2.isin(top_25_genre_2)].copy()"
   ]
  },
  {
   "cell_type": "code",
   "execution_count": 40,
   "metadata": {},
   "outputs": [
    {
     "name": "stdout",
     "output_type": "stream",
     "text": [
      "The top 25 genres in genre_1 make up 89.66% of all the genres in genre_1.\n",
      "\n"
     ]
    }
   ],
   "source": [
    "len_top_25_genre_1 = len(data_top_25_genre_1)\n",
    "len_all_genre_1 = len(data)\n",
    "percentage_top_25_genre_1 = len_top_25_genre_1 / len_all_genre_1 * 100\n",
    "print('The top 25 genres in genre_1 make up {:.2f}% of all the genres in genre_1.\\n'.format(percentage_top_25_genre_1))"
   ]
  },
  {
   "cell_type": "code",
   "execution_count": 41,
   "metadata": {},
   "outputs": [
    {
     "name": "stdout",
     "output_type": "stream",
     "text": [
      "The top 25 genres in genre_2 make up 85.20% of all the genres in genre_2.\n"
     ]
    }
   ],
   "source": [
    "len_top_25_genre_2 = len(data_top_25_genre_2)\n",
    "len_all_genre_2 = len(data)\n",
    "percentage_top_25_genre_2 = len_top_25_genre_2 / len_all_genre_2 * 100\n",
    "print('The top 25 genres in genre_2 make up {:.2f}% of all the genres in genre_2.'.format(percentage_top_25_genre_2))"
   ]
  },
  {
   "cell_type": "code",
   "execution_count": 42,
   "metadata": {},
   "outputs": [
    {
     "data": {
      "image/png": "[encoded data removed]",
      "text/plain": [
       "<Figure size 1440x720 with 1 Axes>"
      ]
     },
     "metadata": {},
     "output_type": "display_data"
    }
   ],
   "source": [
    "fig, ax = plt.subplots(figsize=(20,10))\n",
    "\n",
    "sns.countplot(x='genre_1', \n",
    "              hue='author_gender', \n",
    "              hue_order=['Male', 'Female'],\n",
    "              data=data_top_25_genre_1,\n",
    "              order=data_top_25_genre_1.genre_1.value_counts().index,\n",
    "              palette='deep',\n",
    "              ax=ax)\n",
    "ax.set(\n",
    "    title='Top 25 Genres (Genre 1)',\n",
    "    xlabel='',\n",
    "    ylabel='Number of Books'\n",
    ")\n",
    "\n",
    "# just want to rotate the ticks and not work on labels\n",
    "plt.xticks(rotation=90)\n",
    "\n",
    "ax.tick_params(\n",
    "    top=False,\n",
    "    bottom=False,\n",
    "    left=False,\n",
    "    right=False\n",
    ")\n",
    "\n",
    "for key, spine in ax.spines.items():\n",
    "    spine.set_visible(False)"
   ]
  },
  {
   "cell_type": "raw",
   "metadata": {},
   "source": [
    "The most popular genre in genre_1 is Romance written by female authors. See below for a small dataframe which summarizes the number of books found in the top 5 genre/author_gender combinations for genre_1:"
   ]
  },
  {
   "cell_type": "code",
   "execution_count": 43,
   "metadata": {},
   "outputs": [
    {
     "data": {
      "text/html": [
       "<div>\n",
       "<style scoped>\n",
       "    .dataframe tbody tr th:only-of-type {\n",
       "        vertical-align: middle;\n",
       "    }\n",
       "\n",
       "    .dataframe tbody tr th {\n",
       "        vertical-align: top;\n",
       "    }\n",
       "\n",
       "    .dataframe thead th {\n",
       "        text-align: right;\n",
       "    }\n",
       "</style>\n",
       "<table border=\"1\" class=\"dataframe\">\n",
       "  <thead>\n",
       "    <tr style=\"text-align: right;\">\n",
       "      <th></th>\n",
       "      <th></th>\n",
       "      <th>count</th>\n",
       "    </tr>\n",
       "    <tr>\n",
       "      <th>genre_1</th>\n",
       "      <th>author_gender</th>\n",
       "      <th></th>\n",
       "    </tr>\n",
       "  </thead>\n",
       "  <tbody>\n",
       "    <tr>\n",
       "      <th>Romance</th>\n",
       "      <th>Female</th>\n",
       "      <td>1806</td>\n",
       "    </tr>\n",
       "    <tr>\n",
       "      <th rowspan=\"2\" valign=\"top\">Fantasy</th>\n",
       "      <th>Female</th>\n",
       "      <td>1230</td>\n",
       "    </tr>\n",
       "    <tr>\n",
       "      <th>Male</th>\n",
       "      <td>1137</td>\n",
       "    </tr>\n",
       "    <tr>\n",
       "      <th>Young Adult</th>\n",
       "      <th>Female</th>\n",
       "      <td>949</td>\n",
       "    </tr>\n",
       "    <tr>\n",
       "      <th>Fiction</th>\n",
       "      <th>Male</th>\n",
       "      <td>949</td>\n",
       "    </tr>\n",
       "  </tbody>\n",
       "</table>\n",
       "</div>"
      ],
      "text/plain": [
       "                           count\n",
       "genre_1     author_gender       \n",
       "Romance     Female          1806\n",
       "Fantasy     Female          1230\n",
       "            Male            1137\n",
       "Young Adult Female           949\n",
       "Fiction     Male             949"
      ]
     },
     "execution_count": 43,
     "metadata": {},
     "output_type": "execute_result"
    }
   ],
   "source": [
    "top_5_genre_1 = (data_top_25_genre_1.groupby(['genre_1', 'author_gender'])\n",
    "                 .agg(['count'])['book_id']\n",
    "                 .sort_values(by=['count'], ascending=False)\n",
    "                 .head(5)\n",
    "                )\n",
    "\n",
    "top_5_genre_1"
   ]
  },
  {
   "cell_type": "code",
   "execution_count": 44,
   "metadata": {},
   "outputs": [
    {
     "data": {
      "image/png": "[encoded data removed]",
      "text/plain": [
       "<Figure size 1440x720 with 1 Axes>"
      ]
     },
     "metadata": {},
     "output_type": "display_data"
    }
   ],
   "source": [
    "fig, ax = plt.subplots(figsize=(20,10))\n",
    "\n",
    "sns.countplot(x='genre_2', \n",
    "              hue='author_gender', \n",
    "              hue_order=['Male', 'Female'],\n",
    "              data=data_top_25_genre_2,\n",
    "              order=data_top_25_genre_2.genre_2.value_counts().index,\n",
    "              palette='deep',\n",
    "              ax=ax)\n",
    "ax.set(\n",
    "    title='Top 25 Genres (Genre 2)',\n",
    "    xlabel='',\n",
    "    ylabel='Number of Books'\n",
    ")\n",
    "\n",
    "# just want to rotate the ticks and not work on labels\n",
    "plt.xticks(rotation=90)\n",
    "\n",
    "ax.tick_params(\n",
    "    top=False,\n",
    "    bottom=False,\n",
    "    left=False,\n",
    "    right=False\n",
    ")\n",
    "\n",
    "for key, spine in ax.spines.items():\n",
    "    spine.set_visible(False)"
   ]
  },
  {
   "cell_type": "raw",
   "metadata": {},
   "source": [
    "The most popular genre in genre_1 is again Romance written by female authors! See below for a small dataframe which summarizes the number of books found in the top 5 genre/author_gender combinations for genre_2:"
   ]
  },
  {
   "cell_type": "code",
   "execution_count": 45,
   "metadata": {},
   "outputs": [
    {
     "data": {
      "text/html": [
       "<div>\n",
       "<style scoped>\n",
       "    .dataframe tbody tr th:only-of-type {\n",
       "        vertical-align: middle;\n",
       "    }\n",
       "\n",
       "    .dataframe tbody tr th {\n",
       "        vertical-align: top;\n",
       "    }\n",
       "\n",
       "    .dataframe thead th {\n",
       "        text-align: right;\n",
       "    }\n",
       "</style>\n",
       "<table border=\"1\" class=\"dataframe\">\n",
       "  <thead>\n",
       "    <tr style=\"text-align: right;\">\n",
       "      <th></th>\n",
       "      <th></th>\n",
       "      <th>count</th>\n",
       "    </tr>\n",
       "    <tr>\n",
       "      <th>genre_2</th>\n",
       "      <th>author_gender</th>\n",
       "      <th></th>\n",
       "    </tr>\n",
       "  </thead>\n",
       "  <tbody>\n",
       "    <tr>\n",
       "      <th>Romance</th>\n",
       "      <th>Female</th>\n",
       "      <td>1714</td>\n",
       "    </tr>\n",
       "    <tr>\n",
       "      <th>Fiction</th>\n",
       "      <th>Male</th>\n",
       "      <td>1304</td>\n",
       "    </tr>\n",
       "    <tr>\n",
       "      <th>Fantasy</th>\n",
       "      <th>Female</th>\n",
       "      <td>909</td>\n",
       "    </tr>\n",
       "    <tr>\n",
       "      <th>Young Adult</th>\n",
       "      <th>Female</th>\n",
       "      <td>769</td>\n",
       "    </tr>\n",
       "    <tr>\n",
       "      <th>Fantasy</th>\n",
       "      <th>Male</th>\n",
       "      <td>732</td>\n",
       "    </tr>\n",
       "  </tbody>\n",
       "</table>\n",
       "</div>"
      ],
      "text/plain": [
       "                           count\n",
       "genre_2     author_gender       \n",
       "Romance     Female          1714\n",
       "Fiction     Male            1304\n",
       "Fantasy     Female           909\n",
       "Young Adult Female           769\n",
       "Fantasy     Male             732"
      ]
     },
     "execution_count": 45,
     "metadata": {},
     "output_type": "execute_result"
    }
   ],
   "source": [
    "top_5_genre_2 = (data_top_25_genre_2.groupby(['genre_2', 'author_gender'])\n",
    "                 .agg(['count'])['book_id']\n",
    "                 .sort_values(by=['count'], ascending=False)\n",
    "                 .head(5)\n",
    "                )\n",
    "\n",
    "top_5_genre_2"
   ]
  },
  {
   "cell_type": "raw",
   "metadata": {},
   "source": [
    "The top 5 genre/author gender combinations in both genre columns are the same! (with a slight change in order)\n",
    "\n",
    "Romane (Female authors)\n",
    "Fantasy (Male and Female authors)\n",
    "Young Adult (Female authors)\n",
    "Fiction (Male authors)"
   ]
  },
  {
   "cell_type": "markdown",
   "metadata": {},
   "source": [
    "# Data Analyis: Correlations "
   ]
  },
  {
   "cell_type": "code",
   "execution_count": 46,
   "metadata": {},
   "outputs": [
    {
     "name": "stderr",
     "output_type": "stream",
     "text": [
      "C:\\Users\\User\\Anaconda3\\lib\\site-packages\\scipy\\stats\\stats.py:1713: FutureWarning: Using a non-tuple sequence for multidimensional indexing is deprecated; use `arr[tuple(seq)]` instead of `arr[seq]`. In the future this will be interpreted as an array index, `arr[np.array(seq)]`, which will result either in an error or a different result.\n",
      "  return np.add.reduce(sorted[indexer] * weights, axis=axis) / sumval\n"
     ]
    },
    {
     "data": {
      "image/png": "[encoded data removed]",
      "text/plain": [
       "<Figure size 1080x576 with 2 Axes>"
      ]
     },
     "metadata": {},
     "output_type": "display_data"
    }
   ],
   "source": [
    "fig, (ax1, ax2) = plt.subplots(ncols=2, sharey=True, sharex=True, figsize=(15,8))\n",
    "\n",
    "sns.regplot(x=\"book_average_rating\", \n",
    "            y=\"author_average_rating\", \n",
    "            data=data_top_25_genre_1, \n",
    "            color='#E1BE6A',\n",
    "            line_kws={'color': '#40B0A6'},\n",
    "            ax=ax1\n",
    ")\n",
    "\n",
    "ax1.set_title('Genre 1')\n",
    "ax1.set_xlabel('Avg. Book Rating', labelpad=20)\n",
    "ax1.set_ylabel('Avg. Author Rating', labelpad=20)\n",
    "\n",
    "ax.tick_params(\n",
    "    top=False,\n",
    "    bottom=False,\n",
    "    left=False,\n",
    "    right=False\n",
    ")\n",
    "\n",
    "for key, spine in ax1.spines.items():\n",
    "    spine.set_visible(False)\n",
    "\n",
    "sns.regplot(x=\"book_average_rating\", \n",
    "            y=\"author_average_rating\", \n",
    "            data=data_top_25_genre_2, \n",
    "            color='#E1BE6A',\n",
    "            line_kws={'color':'#40B0A6'},\n",
    "            ax=ax2\n",
    ")\n",
    "\n",
    "ax2.set_title('Genre 2')\n",
    "ax2.set_xlabel('Avg. Book Rating', labelpad=20)\n",
    "ax2.set_ylabel('')\n",
    "\n",
    "ax.tick_params(\n",
    "    top=False,\n",
    "    bottom=False,\n",
    "    left=False,\n",
    "    right=False\n",
    ")\n",
    "\n",
    "for key,spine in ax2.spines.items():\n",
    "    spine.set_visible(False)"
   ]
  },
  {
   "cell_type": "raw",
   "metadata": {},
   "source": [
    "It comes as no suprise that there is a strong positive correlation between an author's average rating on Goodreads and the average rating of their books. "
   ]
  },
  {
   "cell_type": "markdown",
   "metadata": {},
   "source": [
    "# Data Analysis: Conclusion"
   ]
  },
  {
   "cell_type": "raw",
   "metadata": {},
   "source": [
    "Here are the original questions I asked at the beginning of the project:\n",
    "\n",
    "- Are popular authors mostly male? Are they mostly female?\n",
    "- What are the most popular genres on Goodreads?\n",
    "\n",
    "Analysis of the data has shown that male and female authors are almost equally as popular. With male authors showing up on popular booklists on Goodreads about 10% more often. However it should be noted that two of the most popular genres, Romance and Fantasy, are dominated by female authors!\n",
    "\n",
    "In terms of the most popular genres - four in particular stand out: Romance, Fantasy, Fiction and Young Adult.\n",
    "\n",
    "My next book purchase will be a fantasy book - there are clearly a lot of great books to choose from and I need some more fantasy in my life now that Game of Thrones has ended. "
   ]
  },
  {
   "cell_type": "markdown",
   "metadata": {},
   "source": [
    "# Thanks for reading! "
   ]
  }
 ],
 "metadata": {
  "kernelspec": {
   "display_name": "Python 3",
   "language": "python",
   "name": "python3"
  },
  "language_info": {
   "codemirror_mode": {
    "name": "ipython",
    "version": 3
   },
   "file_extension": ".py",
   "mimetype": "text/x-python",
   "name": "python",
   "nbconvert_exporter": "python",
   "pygments_lexer": "ipython3",
   "version": "3.7.1"
  }
 },
 "nbformat": 4,
 "nbformat_minor": 2
}
